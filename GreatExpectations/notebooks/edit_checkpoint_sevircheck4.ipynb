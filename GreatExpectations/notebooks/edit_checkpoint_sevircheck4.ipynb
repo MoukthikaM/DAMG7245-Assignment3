{
 "cells": [
  {
   "cell_type": "markdown",
   "id": "1af6fb19",
   "metadata": {},
   "source": [
    "# Create Your Checkpoint\n",
    "Use this notebook to configure a new Checkpoint and add it to your project:\n",
    "\n",
    "**Checkpoint Name**: `sevircheck4`"
   ]
  },
  {
   "cell_type": "code",
   "execution_count": 1,
   "id": "0c5cc81c",
   "metadata": {},
   "outputs": [],
   "source": [
    "from ruamel.yaml import YAML\n",
    "import great_expectations as ge\n",
    "from pprint import pprint\n",
    "\n",
    "yaml = YAML()\n",
    "context = ge.get_context()"
   ]
  },
  {
   "cell_type": "markdown",
   "id": "07776208",
   "metadata": {},
   "source": [
    "# Create a Checkpoint Configuration\n",
    "\n",
    "**If you are new to Great Expectations or the Checkpoint feature**, you should start with SimpleCheckpoint because it includes default configurations like a default list of post validation actions.\n",
    "\n",
    "In the cell below we have created a sample Checkpoint configuration using **your configuration** and **SimpleCheckpoint** to run a single validation of a single Expectation Suite against a single Batch of data.\n",
    "\n",
    "To keep it simple, we are just choosing the first available instance of each of the following items you have configured in your Data Context:\n",
    "* Datasource\n",
    "* DataConnector\n",
    "* DataAsset\n",
    "* Partition\n",
    "* Expectation Suite\n",
    "\n",
    "Of course this is purely an example, you may edit this to your heart's content.\n",
    "\n",
    "**My configuration is not so simple - are there more advanced options?**\n",
    "\n",
    "Glad you asked! Checkpoints are very versatile. For example, you can validate many Batches in a single Checkpoint, validate Batches against different Expectation Suites or against many Expectation Suites, control the specific post-validation actions based on Expectation Suite / Batch / results of validation among other features. Check out our documentation on Checkpoints for more details and for instructions on how to implement other more advanced features including using the **Checkpoint** class:\n",
    "- https://docs.greatexpectations.io/docs/reference/checkpoints_and_actions\n",
    "- https://docs.greatexpectations.io/docs/guides/validation/checkpoints/how_to_create_a_new_checkpoint\n",
    "- https://docs.greatexpectations.io/docs/guides/validation/checkpoints/how_to_configure_a_new_checkpoint_using_test_yaml_config"
   ]
  },
  {
   "cell_type": "code",
   "execution_count": 2,
   "id": "d301abd8",
   "metadata": {},
   "outputs": [
    {
     "name": "stdout",
     "output_type": "stream",
     "text": [
      "\n",
      "name: sevircheck4\n",
      "config_version: 1.0\n",
      "class_name: SimpleCheckpoint\n",
      "run_name_template: \"%Y%m%d-%H%M%S-my-run-name-template\"\n",
      "validations:\n",
      "  - batch_request:\n",
      "      datasource_name: datasevir\n",
      "      data_connector_name: default_inferred_data_connector_name\n",
      "      data_asset_name: VIL_stats_master.csv\n",
      "      data_connector_query:\n",
      "        index: -1\n",
      "    expectation_suite_name: gevis\n",
      "\n"
     ]
    },
    {
     "name": "stderr",
     "output_type": "stream",
     "text": [
      "/Users/adh.arash/Downloads/conda/lib/python3.9/site-packages/ipykernel/ipkernel.py:283: DeprecationWarning: `should_run_async` will not call `transform_cell` automatically in the future. Please pass the result to `transformed_cell` argument and any exception that happen during thetransform in `preprocessing_exc_tuple` in IPython 7.17 and above.\n",
      "  and should_run_async(code)\n"
     ]
    }
   ],
   "source": [
    "my_checkpoint_name = \"sevircheck4\" # This was populated from your CLI command.\n",
    "\n",
    "yaml_config = f\"\"\"\n",
    "name: {my_checkpoint_name}\n",
    "config_version: 1.0\n",
    "class_name: SimpleCheckpoint\n",
    "run_name_template: \"%Y%m%d-%H%M%S-my-run-name-template\"\n",
    "validations:\n",
    "  - batch_request:\n",
    "      datasource_name: datasevir\n",
    "      data_connector_name: default_inferred_data_connector_name\n",
    "      data_asset_name: VIL_stats_master.csv\n",
    "      data_connector_query:\n",
    "        index: -1\n",
    "    expectation_suite_name: gevis\n",
    "\"\"\"\n",
    "print(yaml_config)"
   ]
  },
  {
   "cell_type": "markdown",
   "id": "b6d27820",
   "metadata": {},
   "source": [
    "# Customize Your Configuration\n",
    "The following cells show examples for listing your current configuration. You can replace values in the sample configuration with these values to customize your Checkpoint."
   ]
  },
  {
   "cell_type": "code",
   "execution_count": 3,
   "id": "3f486c5a",
   "metadata": {},
   "outputs": [
    {
     "name": "stdout",
     "output_type": "stream",
     "text": [
      "{'SEVIR_CATALOG': {'default_inferred_data_connector_name': ['airflow',\n",
      "                                                            'sevir',\n",
      "                                                            '__pycache__',\n",
      "                                                            'Assignment_1.ipynb',\n",
      "                                                            'streamlit_lab',\n",
      "                                                            'DAMG7245-Assignment1',\n",
      "                                                            'BD_Assignment_1.ipynb',\n",
      "                                                            'DAMG7245',\n",
      "                                                            'data',\n",
      "                                                            'requirements.txt',\n",
      "                                                            '.DS_Store',\n",
      "                                                            'test_daas.py',\n",
      "                                                            'dataasaservice.py',\n",
      "                                                            'CATALOG.csv',\n",
      "                                                            'car-evaluation-project',\n",
      "                                                            '.pytest_cache',\n",
      "                                                            '.ipynb_checkpoints',\n",
      "                                                            'GreatExpectations',\n",
      "                                                            'augur-code',\n",
      "                                                            'SEVIR_practice.ipynb'],\n",
      "                   'default_runtime_data_connector_name': ['my_runtime_asset_name']},\n",
      " 'SEVIR_CATALOG_1': {'default_inferred_data_connector_name': ['airflow',\n",
      "                                                              'sevir',\n",
      "                                                              '__pycache__',\n",
      "                                                              'Assignment_1.ipynb',\n",
      "                                                              'streamlit_lab',\n",
      "                                                              'DAMG7245-Assignment1',\n",
      "                                                              'BD_Assignment_1.ipynb',\n",
      "                                                              'DAMG7245',\n",
      "                                                              'data',\n",
      "                                                              'requirements.txt',\n",
      "                                                              '.DS_Store',\n",
      "                                                              'test_daas.py',\n",
      "                                                              'dataasaservice.py',\n",
      "                                                              'CATALOG.csv',\n",
      "                                                              'car-evaluation-project',\n",
      "                                                              '.pytest_cache',\n",
      "                                                              '.ipynb_checkpoints',\n",
      "                                                              'GreatExpectations',\n",
      "                                                              'augur-code',\n",
      "                                                              'SEVIR_practice.ipynb'],\n",
      "                     'default_runtime_data_connector_name': ['my_runtime_asset_name']},\n",
      " 'VIS': {'default_inferred_data_connector_name': [],\n",
      "         'default_runtime_data_connector_name': ['my_runtime_asset_name']},\n",
      " 'datasevir': {'default_inferred_data_connector_name': ['LI_stats_master.csv',\n",
      "                                                        'WV_stats_master.csv',\n",
      "                                                        'README.md',\n",
      "                                                        'onestorm.nc',\n",
      "                                                        '.ipynb_checkpoints',\n",
      "                                                        'IR_stats_master.csv',\n",
      "                                                        'VIS_stats_master.csv',\n",
      "                                                        'VIL_stats_master.csv',\n",
      "                                                        'CATALOG.csv'],\n",
      "               'default_runtime_data_connector_name': ['my_runtime_asset_name']},\n",
      " 'sevircatalog': {'default_inferred_data_connector_name': [],\n",
      "                  'default_runtime_data_connector_name': ['my_runtime_asset_name']},\n",
      " 'sevirdata': {'default_inferred_data_connector_name': ['LI_stats_master.csv',\n",
      "                                                        'WV_stats_master.csv',\n",
      "                                                        'README.md',\n",
      "                                                        'onestorm.nc',\n",
      "                                                        '.ipynb_checkpoints',\n",
      "                                                        'IR_stats_master.csv',\n",
      "                                                        'VIS_stats_master.csv',\n",
      "                                                        'VIL_stats_master.csv',\n",
      "                                                        'CATALOG.csv'],\n",
      "               'default_runtime_data_connector_name': ['my_runtime_asset_name']},\n",
      " 'testVIS': {'default_inferred_data_connector_name': ['LI_stats_master.csv',\n",
      "                                                      'WV_stats_master.csv',\n",
      "                                                      'README.md',\n",
      "                                                      'onestorm.nc',\n",
      "                                                      '.ipynb_checkpoints',\n",
      "                                                      'IR_stats_master.csv',\n",
      "                                                      'VIS_stats_master.csv',\n",
      "                                                      'VIL_stats_master.csv',\n",
      "                                                      'CATALOG.csv'],\n",
      "             'default_runtime_data_connector_name': ['my_runtime_asset_name']}}\n"
     ]
    }
   ],
   "source": [
    "# Run this cell to print out the names of your Datasources, Data Connectors and Data Assets\n",
    "pprint(context.get_available_data_asset_names())"
   ]
  },
  {
   "cell_type": "code",
   "execution_count": 4,
   "id": "ad953cac",
   "metadata": {},
   "outputs": [
    {
     "data": {
      "text/plain": [
       "['CATALOG.csv.warning',\n",
       " 'IR_stats_master.csv.warning',\n",
       " 'VISMASTERtest',\n",
       " 'VIS_stats_master.csv.warning',\n",
       " 'catsevir',\n",
       " 'gevis',\n",
       " 'multisevir',\n",
       " 'sevircat',\n",
       " 'sevirvis',\n",
       " 'testcat',\n",
       " 'testge',\n",
       " 'vis',\n",
       " 'visstats']"
      ]
     },
     "execution_count": 4,
     "metadata": {},
     "output_type": "execute_result"
    }
   ],
   "source": [
    "context.list_expectation_suite_names()"
   ]
  },
  {
   "cell_type": "markdown",
   "id": "c12a79c3",
   "metadata": {},
   "source": [
    "# Test Your Checkpoint Configuration\n",
    "Here we will test your Checkpoint configuration to make sure it is valid.\n",
    "\n",
    "This `test_yaml_config()` function is meant to enable fast dev loops. If your configuration is correct, this cell will show a message that you successfully instantiated a Checkpoint. You can continually edit your Checkpoint config yaml and re-run the cell to check until the new config is valid.\n",
    "\n",
    "If you instead wish to use python instead of yaml to configure your Checkpoint, you can use `context.add_checkpoint()` and specify all the required parameters."
   ]
  },
  {
   "cell_type": "code",
   "execution_count": 5,
   "id": "135c667e",
   "metadata": {},
   "outputs": [
    {
     "name": "stdout",
     "output_type": "stream",
     "text": [
      "Attempting to instantiate class from config...\n",
      "\tInstantiating as a SimpleCheckpoint, since class_name is SimpleCheckpoint\n",
      "\tSuccessfully instantiated SimpleCheckpoint\n",
      "\n",
      "\n",
      "Checkpoint class name: SimpleCheckpoint\n"
     ]
    }
   ],
   "source": [
    "my_checkpoint = context.test_yaml_config(yaml_config=yaml_config)"
   ]
  },
  {
   "cell_type": "markdown",
   "id": "e7f16494",
   "metadata": {},
   "source": [
    "# Review Your Checkpoint\n",
    "\n",
    "You can run the following cell to print out the full yaml configuration. For example, if you used **SimpleCheckpoint**  this will show you the default action list."
   ]
  },
  {
   "cell_type": "code",
   "execution_count": 6,
   "id": "987c8413",
   "metadata": {},
   "outputs": [
    {
     "name": "stdout",
     "output_type": "stream",
     "text": [
      "name: sevircheck4\n",
      "config_version: 1.0\n",
      "template_name:\n",
      "module_name: great_expectations.checkpoint\n",
      "class_name: Checkpoint\n",
      "run_name_template: '%Y%m%d-%H%M%S-my-run-name-template'\n",
      "expectation_suite_name:\n",
      "batch_request: {}\n",
      "action_list:\n",
      "  - name: store_validation_result\n",
      "    action:\n",
      "      class_name: StoreValidationResultAction\n",
      "  - name: store_evaluation_params\n",
      "    action:\n",
      "      class_name: StoreEvaluationParametersAction\n",
      "  - name: update_data_docs\n",
      "    action:\n",
      "      class_name: UpdateDataDocsAction\n",
      "      site_names: []\n",
      "evaluation_parameters: {}\n",
      "runtime_configuration: {}\n",
      "validations:\n",
      "  - batch_request:\n",
      "      datasource_name: datasevir\n",
      "      data_connector_name: default_inferred_data_connector_name\n",
      "      data_asset_name: VIL_stats_master.csv\n",
      "      data_connector_query:\n",
      "        index: -1\n",
      "    expectation_suite_name: gevis\n",
      "profilers: []\n",
      "ge_cloud_id:\n",
      "expectation_suite_ge_cloud_id:\n",
      "\n"
     ]
    }
   ],
   "source": [
    "print(my_checkpoint.get_config(mode=\"yaml\"))"
   ]
  },
  {
   "cell_type": "markdown",
   "id": "098a9780",
   "metadata": {},
   "source": [
    "# Add Your Checkpoint\n",
    "\n",
    "Run the following cell to save this Checkpoint to your Checkpoint Store."
   ]
  },
  {
   "cell_type": "code",
   "execution_count": 7,
   "id": "d98792c1",
   "metadata": {},
   "outputs": [
    {
     "data": {
      "text/plain": [
       "{\n",
       "  \"action_list\": [\n",
       "    {\n",
       "      \"name\": \"store_validation_result\",\n",
       "      \"action\": {\n",
       "        \"class_name\": \"StoreValidationResultAction\"\n",
       "      }\n",
       "    },\n",
       "    {\n",
       "      \"name\": \"store_evaluation_params\",\n",
       "      \"action\": {\n",
       "        \"class_name\": \"StoreEvaluationParametersAction\"\n",
       "      }\n",
       "    },\n",
       "    {\n",
       "      \"name\": \"update_data_docs\",\n",
       "      \"action\": {\n",
       "        \"class_name\": \"UpdateDataDocsAction\",\n",
       "        \"site_names\": []\n",
       "      }\n",
       "    }\n",
       "  ],\n",
       "  \"batch_request\": {},\n",
       "  \"class_name\": \"Checkpoint\",\n",
       "  \"config_version\": 1.0,\n",
       "  \"evaluation_parameters\": {},\n",
       "  \"module_name\": \"great_expectations.checkpoint\",\n",
       "  \"name\": \"sevircheck4\",\n",
       "  \"profilers\": [],\n",
       "  \"run_name_template\": \"%Y%m%d-%H%M%S-my-run-name-template\",\n",
       "  \"runtime_configuration\": {},\n",
       "  \"validations\": [\n",
       "    {\n",
       "      \"batch_request\": {\n",
       "        \"datasource_name\": \"datasevir\",\n",
       "        \"data_connector_name\": \"default_inferred_data_connector_name\",\n",
       "        \"data_asset_name\": \"VIL_stats_master.csv\",\n",
       "        \"data_connector_query\": {\n",
       "          \"index\": -1\n",
       "        }\n",
       "      },\n",
       "      \"expectation_suite_name\": \"gevis\"\n",
       "    }\n",
       "  ]\n",
       "}"
      ]
     },
     "execution_count": 7,
     "metadata": {},
     "output_type": "execute_result"
    }
   ],
   "source": [
    "context.add_checkpoint(**yaml.load(yaml_config))"
   ]
  },
  {
   "cell_type": "markdown",
   "id": "c4ccece9",
   "metadata": {},
   "source": [
    "# Run Your Checkpoint & Open Data Docs(Optional)\n",
    "\n",
    "You may wish to run the Checkpoint now and review its output in Data Docs. If so uncomment and run the following cell."
   ]
  },
  {
   "cell_type": "code",
   "execution_count": 8,
   "id": "6b88ed0f",
   "metadata": {},
   "outputs": [
    {
     "name": "stderr",
     "output_type": "stream",
     "text": [
      "/Users/adh.arash/Downloads/conda/lib/python3.9/site-packages/great_expectations/execution_engine/pandas_execution_engine.py:325: DtypeWarning: Columns (10) have mixed types. Specify dtype option on import or set low_memory=False.\n",
      "  df = reader_fn(path, **reader_options)\n"
     ]
    },
    {
     "data": {
      "application/json": {
       "ascii": false,
       "bar_format": null,
       "colour": null,
       "elapsed": 0.02092742919921875,
       "initial": 0,
       "n": 0,
       "ncols": null,
       "nrows": null,
       "postfix": null,
       "prefix": "Calculating Metrics",
       "rate": null,
       "total": 129,
       "unit": "it",
       "unit_divisor": 1000,
       "unit_scale": false
      },
      "application/vnd.jupyter.widget-view+json": {
       "model_id": "ffea426db37c421ab1ce57a70e4cfb2e",
       "version_major": 2,
       "version_minor": 0
      },
      "text/plain": [
       "Calculating Metrics:   0%|          | 0/129 [00:00<?, ?it/s]"
      ]
     },
     "metadata": {},
     "output_type": "display_data"
    },
    {
     "name": "stderr",
     "output_type": "stream",
     "text": [
      "/Users/adh.arash/Downloads/conda/lib/python3.9/site-packages/great_expectations/expectations/metrics/map_metric_provider.py:1428: FutureWarning: The behavior of `series[i:j]` with an integer-dtype index is deprecated. In a future version, this will be treated as *label-based* indexing, consistent with e.g. `series[i]` lookups. To retain the old behavior, use `series.iloc[i:j]`. To get the future behavior, use `series.loc[i:j]`.\n",
      "  return list(domain_values[: result_format[\"partial_unexpected_count\"]])\n"
     ]
    }
   ],
   "source": [
    "context.run_checkpoint(checkpoint_name=my_checkpoint_name)\n",
    "context.open_data_docs()"
   ]
  }
 ],
 "metadata": {
  "kernelspec": {
   "display_name": "Python 3",
   "language": "python",
   "name": "python3"
  },
  "language_info": {
   "codemirror_mode": {
    "name": "ipython",
    "version": 3
   },
   "file_extension": ".py",
   "mimetype": "text/x-python",
   "name": "python",
   "nbconvert_exporter": "python",
   "pygments_lexer": "ipython3",
   "version": "3.9.12"
  }
 },
 "nbformat": 4,
 "nbformat_minor": 5
}
