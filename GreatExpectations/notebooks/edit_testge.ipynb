{
 "cells": [
  {
   "cell_type": "markdown",
   "id": "74dd4eb9",
   "metadata": {},
   "source": [
    "# Edit Your Expectation Suite\n",
    "Use this notebook to recreate and modify your expectation suite:\n",
    "\n",
    "**Expectation Suite Name**: `testge`\n"
   ]
  },
  {
   "cell_type": "code",
   "execution_count": 93,
   "id": "eeead327",
   "metadata": {},
   "outputs": [
    {
     "name": "stderr",
     "output_type": "stream",
     "text": [
      "/Users/adh.arash/Downloads/conda/lib/python3.9/site-packages/ipykernel/ipkernel.py:283: DeprecationWarning: `should_run_async` will not call `transform_cell` automatically in the future. Please pass the result to `transformed_cell` argument and any exception that happen during thetransform in `preprocessing_exc_tuple` in IPython 7.17 and above.\n",
      "  and should_run_async(code)\n"
     ]
    },
    {
     "name": "stdout",
     "output_type": "stream",
     "text": [
      "Loaded ExpectationSuite \"testge\" containing 85 expectations.\n"
     ]
    },
    {
     "name": "stderr",
     "output_type": "stream",
     "text": [
      "/Users/adh.arash/Downloads/conda/lib/python3.9/site-packages/great_expectations/execution_engine/pandas_execution_engine.py:325: DtypeWarning: Columns (5) have mixed types. Specify dtype option on import or set low_memory=False.\n",
      "  df = reader_fn(path, **reader_options)\n"
     ]
    },
    {
     "data": {
      "application/json": {
       "ascii": false,
       "bar_format": null,
       "colour": null,
       "elapsed": 0.01889204978942871,
       "initial": 0,
       "n": 0,
       "ncols": null,
       "nrows": null,
       "postfix": null,
       "prefix": "Calculating Metrics",
       "rate": null,
       "total": 2,
       "unit": "it",
       "unit_divisor": 1000,
       "unit_scale": false
      },
      "application/vnd.jupyter.widget-view+json": {
       "model_id": "1321fc92a4294a7f87804c0065711b04",
       "version_major": 2,
       "version_minor": 0
      },
      "text/plain": [
       "Calculating Metrics:   0%|          | 0/2 [00:00<?, ?it/s]"
      ]
     },
     "metadata": {},
     "output_type": "display_data"
    },
    {
     "name": "stdout",
     "output_type": "stream",
     "text": [
      "Columns: \"id\", \"file_name\", \"file_index\", \"img_type\", \"time_utc\", \"minute_offsets\", \"episode_id\", \"event_id\", \"event_type\", \"llcrnrlat\", \"llcrnrlon\", \"urcrnrlat\", \"urcrnrlon\", \"proj\", \"size_x\", \"size_y\", \"height_m\", \"width_m\", \"data_min\", \"data_max\", \"pct_missing\".\n"
     ]
    },
    {
     "data": {
      "application/json": {
       "ascii": false,
       "bar_format": null,
       "colour": null,
       "elapsed": 0.01827406883239746,
       "initial": 0,
       "n": 0,
       "ncols": null,
       "nrows": null,
       "postfix": null,
       "prefix": "Calculating Metrics",
       "rate": null,
       "total": 1,
       "unit": "it",
       "unit_divisor": 1000,
       "unit_scale": false
      },
      "application/vnd.jupyter.widget-view+json": {
       "model_id": "4bdbc21b7f2040c9961caae13ca89b88",
       "version_major": 2,
       "version_minor": 0
      },
      "text/plain": [
       "Calculating Metrics:   0%|          | 0/1 [00:00<?, ?it/s]"
      ]
     },
     "metadata": {},
     "output_type": "display_data"
    },
    {
     "data": {
      "text/html": [
       "<div>\n",
       "<style scoped>\n",
       "    .dataframe tbody tr th:only-of-type {\n",
       "        vertical-align: middle;\n",
       "    }\n",
       "\n",
       "    .dataframe tbody tr th {\n",
       "        vertical-align: top;\n",
       "    }\n",
       "\n",
       "    .dataframe thead th {\n",
       "        text-align: right;\n",
       "    }\n",
       "</style>\n",
       "<table border=\"1\" class=\"dataframe\">\n",
       "  <thead>\n",
       "    <tr style=\"text-align: right;\">\n",
       "      <th></th>\n",
       "      <th>id</th>\n",
       "      <th>file_name</th>\n",
       "      <th>file_index</th>\n",
       "      <th>img_type</th>\n",
       "      <th>time_utc</th>\n",
       "      <th>minute_offsets</th>\n",
       "      <th>episode_id</th>\n",
       "      <th>event_id</th>\n",
       "      <th>event_type</th>\n",
       "      <th>llcrnrlat</th>\n",
       "      <th>llcrnrlon</th>\n",
       "      <th>urcrnrlat</th>\n",
       "      <th>urcrnrlon</th>\n",
       "      <th>proj</th>\n",
       "      <th>size_x</th>\n",
       "      <th>size_y</th>\n",
       "      <th>height_m</th>\n",
       "      <th>width_m</th>\n",
       "      <th>data_min</th>\n",
       "      <th>data_max</th>\n",
       "      <th>pct_missing</th>\n",
       "    </tr>\n",
       "  </thead>\n",
       "  <tbody>\n",
       "    <tr>\n",
       "      <th>0</th>\n",
       "      <td>R18032505027684</td>\n",
       "      <td>vis/2018/SEVIR_VIS_RANDOMEVENTS_2018_0321_0331.h5</td>\n",
       "      <td>0</td>\n",
       "      <td>vis</td>\n",
       "      <td>2018-03-25 05:00:00</td>\n",
       "      <td>-120:-115:-110:-105:-100:-95:-90:-85:-80:-75:-70:-65:-60:-55:-50:-45:-40:-40:-30:-25:-20:-15:-10:-5:0:5:10:15:20:25:30:35:40:45:50:55:60:65:70:75:80:85:90:95:100:105:110:115:120</td>\n",
       "      <td>NaN</td>\n",
       "      <td>NaN</td>\n",
       "      <td>NaN</td>\n",
       "      <td>33.216708</td>\n",
       "      <td>-91.635132</td>\n",
       "      <td>36.336627</td>\n",
       "      <td>-87.070254</td>\n",
       "      <td>+proj=laea +lat_0=38 +lon_0=-98 +units=m +a=6370997.0 +ellps=sphere</td>\n",
       "      <td>768</td>\n",
       "      <td>768</td>\n",
       "      <td>384000.0</td>\n",
       "      <td>384000.0</td>\n",
       "      <td>-0.003361</td>\n",
       "      <td>0.005600</td>\n",
       "      <td>0.0</td>\n",
       "    </tr>\n",
       "    <tr>\n",
       "      <th>1</th>\n",
       "      <td>R18032505027677</td>\n",
       "      <td>vis/2018/SEVIR_VIS_RANDOMEVENTS_2018_0321_0331.h5</td>\n",
       "      <td>1</td>\n",
       "      <td>vis</td>\n",
       "      <td>2018-03-25 05:00:00</td>\n",
       "      <td>-120:-115:-110:-105:-100:-95:-90:-85:-80:-75:-70:-65:-60:-55:-50:-45:-40:-40:-30:-25:-20:-15:-10:-5:0:5:10:15:20:25:30:35:40:45:50:55:60:65:70:75:80:85:90:95:100:105:110:115:120</td>\n",
       "      <td>NaN</td>\n",
       "      <td>NaN</td>\n",
       "      <td>NaN</td>\n",
       "      <td>33.084309</td>\n",
       "      <td>-91.849435</td>\n",
       "      <td>36.213723</td>\n",
       "      <td>-87.301535</td>\n",
       "      <td>+proj=laea +lat_0=38 +lon_0=-98 +units=m +a=6370997.0 +ellps=sphere</td>\n",
       "      <td>768</td>\n",
       "      <td>768</td>\n",
       "      <td>384000.0</td>\n",
       "      <td>384000.0</td>\n",
       "      <td>-0.003361</td>\n",
       "      <td>0.005600</td>\n",
       "      <td>0.0</td>\n",
       "    </tr>\n",
       "    <tr>\n",
       "      <th>2</th>\n",
       "      <td>R18032505027721</td>\n",
       "      <td>vis/2018/SEVIR_VIS_RANDOMEVENTS_2018_0321_0331.h5</td>\n",
       "      <td>2</td>\n",
       "      <td>vis</td>\n",
       "      <td>2018-03-25 05:00:00</td>\n",
       "      <td>-120:-115:-110:-105:-100:-95:-90:-85:-80:-75:-70:-65:-60:-55:-50:-45:-40:-40:-30:-25:-20:-15:-10:-5:0:5:10:15:20:25:30:35:40:45:50:55:60:65:70:75:80:85:90:95:100:105:110:115:120</td>\n",
       "      <td>NaN</td>\n",
       "      <td>NaN</td>\n",
       "      <td>NaN</td>\n",
       "      <td>46.661866</td>\n",
       "      <td>-123.509928</td>\n",
       "      <td>50.883159</td>\n",
       "      <td>-120.009277</td>\n",
       "      <td>+proj=laea +lat_0=38 +lon_0=-98 +units=m +a=6370997.0 +ellps=sphere</td>\n",
       "      <td>768</td>\n",
       "      <td>768</td>\n",
       "      <td>384000.0</td>\n",
       "      <td>384000.0</td>\n",
       "      <td>-0.002870</td>\n",
       "      <td>0.005548</td>\n",
       "      <td>0.0</td>\n",
       "    </tr>\n",
       "    <tr>\n",
       "      <th>3</th>\n",
       "      <td>R18032516508249</td>\n",
       "      <td>vis/2018/SEVIR_VIS_RANDOMEVENTS_2018_0321_0331.h5</td>\n",
       "      <td>3</td>\n",
       "      <td>vis</td>\n",
       "      <td>2018-03-25 16:50:00</td>\n",
       "      <td>-120:-115:-110:-105:-100:-95:-90:-85:-80:-75:-70:-65:-60:-55:-50:-45:-40:-35:-30:-25:-20:-15:-10:-5:0:5:10:15:20:25:30:35:40:45:50:55:60:60:70:75:80:85:90:95:100:105:110:115:120</td>\n",
       "      <td>NaN</td>\n",
       "      <td>NaN</td>\n",
       "      <td>NaN</td>\n",
       "      <td>40.883237</td>\n",
       "      <td>-85.350213</td>\n",
       "      <td>43.686191</td>\n",
       "      <td>-79.903987</td>\n",
       "      <td>+proj=laea +lat_0=38 +lon_0=-98 +units=m +a=6370997.0 +ellps=sphere</td>\n",
       "      <td>768</td>\n",
       "      <td>768</td>\n",
       "      <td>384000.0</td>\n",
       "      <td>384000.0</td>\n",
       "      <td>0.029911</td>\n",
       "      <td>0.785600</td>\n",
       "      <td>0.0</td>\n",
       "    </tr>\n",
       "    <tr>\n",
       "      <th>4</th>\n",
       "      <td>R18032516507621</td>\n",
       "      <td>vis/2018/SEVIR_VIS_RANDOMEVENTS_2018_0321_0331.h5</td>\n",
       "      <td>4</td>\n",
       "      <td>vis</td>\n",
       "      <td>2018-03-25 16:50:00</td>\n",
       "      <td>-120:-115:-110:-105:-100:-95:-90:-85:-80:-75:-70:-65:-60:-55:-50:-45:-40:-35:-30:-25:-20:-15:-10:-5:0:5:10:15:20:25:30:35:40:45:50:55:60:60:70:75:80:85:90:95:100:105:110:115:120</td>\n",
       "      <td>NaN</td>\n",
       "      <td>NaN</td>\n",
       "      <td>NaN</td>\n",
       "      <td>44.946047</td>\n",
       "      <td>-123.972935</td>\n",
       "      <td>49.169436</td>\n",
       "      <td>-120.575175</td>\n",
       "      <td>+proj=laea +lat_0=38 +lon_0=-98 +units=m +a=6370997.0 +ellps=sphere</td>\n",
       "      <td>768</td>\n",
       "      <td>768</td>\n",
       "      <td>384000.0</td>\n",
       "      <td>384000.0</td>\n",
       "      <td>0.028560</td>\n",
       "      <td>0.792610</td>\n",
       "      <td>0.0</td>\n",
       "    </tr>\n",
       "  </tbody>\n",
       "</table>\n",
       "</div>"
      ],
      "text/plain": [
       "                id                                          file_name  \\\n",
       "0  R18032505027684  vis/2018/SEVIR_VIS_RANDOMEVENTS_2018_0321_0331.h5   \n",
       "1  R18032505027677  vis/2018/SEVIR_VIS_RANDOMEVENTS_2018_0321_0331.h5   \n",
       "2  R18032505027721  vis/2018/SEVIR_VIS_RANDOMEVENTS_2018_0321_0331.h5   \n",
       "3  R18032516508249  vis/2018/SEVIR_VIS_RANDOMEVENTS_2018_0321_0331.h5   \n",
       "4  R18032516507621  vis/2018/SEVIR_VIS_RANDOMEVENTS_2018_0321_0331.h5   \n",
       "\n",
       "   file_index img_type             time_utc  \\\n",
       "0           0      vis  2018-03-25 05:00:00   \n",
       "1           1      vis  2018-03-25 05:00:00   \n",
       "2           2      vis  2018-03-25 05:00:00   \n",
       "3           3      vis  2018-03-25 16:50:00   \n",
       "4           4      vis  2018-03-25 16:50:00   \n",
       "\n",
       "                                                                                                                                                                      minute_offsets  \\\n",
       "0  -120:-115:-110:-105:-100:-95:-90:-85:-80:-75:-70:-65:-60:-55:-50:-45:-40:-40:-30:-25:-20:-15:-10:-5:0:5:10:15:20:25:30:35:40:45:50:55:60:65:70:75:80:85:90:95:100:105:110:115:120   \n",
       "1  -120:-115:-110:-105:-100:-95:-90:-85:-80:-75:-70:-65:-60:-55:-50:-45:-40:-40:-30:-25:-20:-15:-10:-5:0:5:10:15:20:25:30:35:40:45:50:55:60:65:70:75:80:85:90:95:100:105:110:115:120   \n",
       "2  -120:-115:-110:-105:-100:-95:-90:-85:-80:-75:-70:-65:-60:-55:-50:-45:-40:-40:-30:-25:-20:-15:-10:-5:0:5:10:15:20:25:30:35:40:45:50:55:60:65:70:75:80:85:90:95:100:105:110:115:120   \n",
       "3  -120:-115:-110:-105:-100:-95:-90:-85:-80:-75:-70:-65:-60:-55:-50:-45:-40:-35:-30:-25:-20:-15:-10:-5:0:5:10:15:20:25:30:35:40:45:50:55:60:60:70:75:80:85:90:95:100:105:110:115:120   \n",
       "4  -120:-115:-110:-105:-100:-95:-90:-85:-80:-75:-70:-65:-60:-55:-50:-45:-40:-35:-30:-25:-20:-15:-10:-5:0:5:10:15:20:25:30:35:40:45:50:55:60:60:70:75:80:85:90:95:100:105:110:115:120   \n",
       "\n",
       "   episode_id  event_id event_type  llcrnrlat   llcrnrlon  urcrnrlat  \\\n",
       "0         NaN       NaN        NaN  33.216708  -91.635132  36.336627   \n",
       "1         NaN       NaN        NaN  33.084309  -91.849435  36.213723   \n",
       "2         NaN       NaN        NaN  46.661866 -123.509928  50.883159   \n",
       "3         NaN       NaN        NaN  40.883237  -85.350213  43.686191   \n",
       "4         NaN       NaN        NaN  44.946047 -123.972935  49.169436   \n",
       "\n",
       "    urcrnrlon  \\\n",
       "0  -87.070254   \n",
       "1  -87.301535   \n",
       "2 -120.009277   \n",
       "3  -79.903987   \n",
       "4 -120.575175   \n",
       "\n",
       "                                                                   proj  \\\n",
       "0  +proj=laea +lat_0=38 +lon_0=-98 +units=m +a=6370997.0 +ellps=sphere    \n",
       "1  +proj=laea +lat_0=38 +lon_0=-98 +units=m +a=6370997.0 +ellps=sphere    \n",
       "2  +proj=laea +lat_0=38 +lon_0=-98 +units=m +a=6370997.0 +ellps=sphere    \n",
       "3  +proj=laea +lat_0=38 +lon_0=-98 +units=m +a=6370997.0 +ellps=sphere    \n",
       "4  +proj=laea +lat_0=38 +lon_0=-98 +units=m +a=6370997.0 +ellps=sphere    \n",
       "\n",
       "   size_x  size_y  height_m   width_m  data_min  data_max  pct_missing  \n",
       "0     768     768  384000.0  384000.0 -0.003361  0.005600          0.0  \n",
       "1     768     768  384000.0  384000.0 -0.003361  0.005600          0.0  \n",
       "2     768     768  384000.0  384000.0 -0.002870  0.005548          0.0  \n",
       "3     768     768  384000.0  384000.0  0.029911  0.785600          0.0  \n",
       "4     768     768  384000.0  384000.0  0.028560  0.792610          0.0  "
      ]
     },
     "execution_count": 93,
     "metadata": {},
     "output_type": "execute_result"
    }
   ],
   "source": [
    "import datetime\n",
    "\n",
    "import pandas as pd\n",
    "\n",
    "import great_expectations as ge\n",
    "import great_expectations.jupyter_ux\n",
    "from great_expectations.core.batch import BatchRequest\n",
    "from great_expectations.checkpoint import SimpleCheckpoint\n",
    "from great_expectations.exceptions import DataContextError\n",
    "\n",
    "context = ge.data_context.DataContext()\n",
    "\n",
    "# Note that if you modify this batch request, you may save the new version as a .json file\n",
    "#  to pass in later via the --batch-request option\n",
    "batch_request = {'datasource_name': 'SEVIR_CATALOG_1', 'data_connector_name': 'default_inferred_data_connector_name', 'data_asset_name': 'CATALOG.csv', 'limit': 1000}\n",
    "\n",
    "\n",
    "# Feel free to change the name of your suite here. Renaming this will not remove the other one.\n",
    "expectation_suite_name = \"testge\"\n",
    "try:\n",
    "    suite = context.get_expectation_suite(expectation_suite_name=expectation_suite_name)\n",
    "    print(f'Loaded ExpectationSuite \"{suite.expectation_suite_name}\" containing {len(suite.expectations)} expectations.')\n",
    "except DataContextError:\n",
    "    suite = context.create_expectation_suite(expectation_suite_name=expectation_suite_name)\n",
    "    print(f'Created ExpectationSuite \"{suite.expectation_suite_name}\".')\n",
    "\n",
    "\n",
    "validator = context.get_validator(\n",
    "    batch_request=BatchRequest(**batch_request),\n",
    "    expectation_suite_name=expectation_suite_name\n",
    ")\n",
    "column_names = [f'\"{column_name}\"' for column_name in validator.columns()]\n",
    "print(f\"Columns: {', '.join(column_names)}.\")\n",
    "validator.head(n_rows=5, fetch_all=False)"
   ]
  },
  {
   "cell_type": "markdown",
   "id": "166a9d51",
   "metadata": {},
   "source": [
    "## Create & Edit Expectations\n",
    "\n",
    "\n",
    "Add expectations by calling specific expectation methods on the `validator` object. They all begin with `.expect_` which makes autocompleting easy using tab.\n",
    "\n",
    "Because you selected interactive mode, you are now creating or editing an Expectation Suite with validator feedback from the sample batch of data that you specified (see `batch_request`).\n",
    "\n",
    "Note that if you select manual mode you may still create or edit an Expectation Suite directly, without feedback from the `validator`. See our documentation for more info and examples: [How to create a new Expectation Suite without a sample batch](https://docs.greatexpectations.io/docs/guides/expectations/how_to_create_and_edit_expectations_based_on_domain_knowledge_without_inspecting_data_directly).\n",
    "\n",
    "\n",
    "\n",
    "You can see all the available expectations in the **[expectation gallery](https://greatexpectations.io/expectations)**."
   ]
  },
  {
   "cell_type": "markdown",
   "id": "d74b6055",
   "metadata": {},
   "source": [
    "### Table Expectation(s)"
   ]
  },
  {
   "cell_type": "code",
   "execution_count": 94,
   "id": "68901fc7",
   "metadata": {},
   "outputs": [
    {
     "name": "stderr",
     "output_type": "stream",
     "text": [
      "/Users/adh.arash/Downloads/conda/lib/python3.9/site-packages/ipykernel/ipkernel.py:283: DeprecationWarning: `should_run_async` will not call `transform_cell` automatically in the future. Please pass the result to `transformed_cell` argument and any exception that happen during thetransform in `preprocessing_exc_tuple` in IPython 7.17 and above.\n",
      "  and should_run_async(code)\n"
     ]
    },
    {
     "data": {
      "application/json": {
       "ascii": false,
       "bar_format": null,
       "colour": null,
       "elapsed": 0.012422323226928711,
       "initial": 0,
       "n": 0,
       "ncols": null,
       "nrows": null,
       "postfix": null,
       "prefix": "Calculating Metrics",
       "rate": null,
       "total": 2,
       "unit": "it",
       "unit_divisor": 1000,
       "unit_scale": false
      },
      "application/vnd.jupyter.widget-view+json": {
       "model_id": "792ad51a2c9a49aba55a1764e107e519",
       "version_major": 2,
       "version_minor": 0
      },
      "text/plain": [
       "Calculating Metrics:   0%|          | 0/2 [00:00<?, ?it/s]"
      ]
     },
     "metadata": {},
     "output_type": "display_data"
    },
    {
     "data": {
      "text/plain": [
       "{\n",
       "  \"success\": true,\n",
       "  \"result\": {\n",
       "    \"observed_value\": [\n",
       "      \"id\",\n",
       "      \"file_name\",\n",
       "      \"file_index\",\n",
       "      \"img_type\",\n",
       "      \"time_utc\",\n",
       "      \"minute_offsets\",\n",
       "      \"episode_id\",\n",
       "      \"event_id\",\n",
       "      \"event_type\",\n",
       "      \"llcrnrlat\",\n",
       "      \"llcrnrlon\",\n",
       "      \"urcrnrlat\",\n",
       "      \"urcrnrlon\",\n",
       "      \"proj\",\n",
       "      \"size_x\",\n",
       "      \"size_y\",\n",
       "      \"height_m\",\n",
       "      \"width_m\",\n",
       "      \"data_min\",\n",
       "      \"data_max\",\n",
       "      \"pct_missing\"\n",
       "    ]\n",
       "  },\n",
       "  \"meta\": {},\n",
       "  \"exception_info\": {\n",
       "    \"raised_exception\": false,\n",
       "    \"exception_traceback\": null,\n",
       "    \"exception_message\": null\n",
       "  }\n",
       "}"
      ]
     },
     "execution_count": 94,
     "metadata": {},
     "output_type": "execute_result"
    }
   ],
   "source": [
    "\n",
    "validator.expect_table_columns_to_match_set(column_set=['event_id', 'episode_id', 'data_min', 'pct_missing', 'width_m', 'event_type', 'time_utc', 'id', 'urcrnrlon', 'llcrnrlat', 'llcrnrlon', 'file_name', 'data_max', 'minute_offsets', 'size_x', 'img_type', 'proj', 'height_m', 'urcrnrlat', 'size_y', 'file_index'])"
   ]
  },
  {
   "cell_type": "code",
   "execution_count": 95,
   "id": "cd4d4436",
   "metadata": {},
   "outputs": [
    {
     "data": {
      "application/json": {
       "ascii": false,
       "bar_format": null,
       "colour": null,
       "elapsed": 0.050364017486572266,
       "initial": 0,
       "n": 0,
       "ncols": null,
       "nrows": null,
       "postfix": null,
       "prefix": "Calculating Metrics",
       "rate": null,
       "total": 1,
       "unit": "it",
       "unit_divisor": 1000,
       "unit_scale": false
      },
      "application/vnd.jupyter.widget-view+json": {
       "model_id": "ec5a24766e1e4eb39ba15b217bd5b280",
       "version_major": 2,
       "version_minor": 0
      },
      "text/plain": [
       "Calculating Metrics:   0%|          | 0/1 [00:00<?, ?it/s]"
      ]
     },
     "metadata": {},
     "output_type": "display_data"
    },
    {
     "data": {
      "text/plain": [
       "{\n",
       "  \"success\": true,\n",
       "  \"result\": {\n",
       "    \"observed_value\": 76004\n",
       "  },\n",
       "  \"meta\": {},\n",
       "  \"exception_info\": {\n",
       "    \"raised_exception\": false,\n",
       "    \"exception_traceback\": null,\n",
       "    \"exception_message\": null\n",
       "  }\n",
       "}"
      ]
     },
     "execution_count": 95,
     "metadata": {},
     "output_type": "execute_result"
    }
   ],
   "source": [
    "\n",
    "validator.expect_table_row_count_to_be_between(max_value=76004, min_value=76004)"
   ]
  },
  {
   "cell_type": "code",
   "execution_count": null,
   "id": "77bed94e",
   "metadata": {},
   "outputs": [],
   "source": []
  },
  {
   "cell_type": "markdown",
   "id": "bb89b638",
   "metadata": {},
   "source": [
    "### Column Expectation(s)"
   ]
  },
  {
   "cell_type": "markdown",
   "id": "3d40db2f",
   "metadata": {},
   "source": [
    "#### `id`"
   ]
  },
  {
   "cell_type": "code",
   "execution_count": 96,
   "id": "862b5a53",
   "metadata": {
    "scrolled": true
   },
   "outputs": [
    {
     "data": {
      "application/json": {
       "ascii": false,
       "bar_format": null,
       "colour": null,
       "elapsed": 0.013369083404541016,
       "initial": 0,
       "n": 0,
       "ncols": null,
       "nrows": null,
       "postfix": null,
       "prefix": "Calculating Metrics",
       "rate": null,
       "total": 6,
       "unit": "it",
       "unit_divisor": 1000,
       "unit_scale": false
      },
      "application/vnd.jupyter.widget-view+json": {
       "model_id": "622af0bef2b644abac50e612e40d50f2",
       "version_major": 2,
       "version_minor": 0
      },
      "text/plain": [
       "Calculating Metrics:   0%|          | 0/6 [00:00<?, ?it/s]"
      ]
     },
     "metadata": {},
     "output_type": "display_data"
    },
    {
     "name": "stderr",
     "output_type": "stream",
     "text": [
      "/Users/adh.arash/Downloads/conda/lib/python3.9/site-packages/great_expectations/expectations/metrics/map_metric_provider.py:1428: FutureWarning: The behavior of `series[i:j]` with an integer-dtype index is deprecated. In a future version, this will be treated as *label-based* indexing, consistent with e.g. `series[i]` lookups. To retain the old behavior, use `series.iloc[i:j]`. To get the future behavior, use `series.loc[i:j]`.\n",
      "  return list(domain_values[: result_format[\"partial_unexpected_count\"]])\n"
     ]
    },
    {
     "data": {
      "text/plain": [
       "{\n",
       "  \"success\": true,\n",
       "  \"result\": {\n",
       "    \"element_count\": 76004,\n",
       "    \"unexpected_count\": 0,\n",
       "    \"unexpected_percent\": 0.0,\n",
       "    \"partial_unexpected_list\": []\n",
       "  },\n",
       "  \"meta\": {},\n",
       "  \"exception_info\": {\n",
       "    \"raised_exception\": false,\n",
       "    \"exception_traceback\": null,\n",
       "    \"exception_message\": null\n",
       "  }\n",
       "}"
      ]
     },
     "execution_count": 96,
     "metadata": {},
     "output_type": "execute_result"
    }
   ],
   "source": [
    "\n",
    "validator.expect_column_values_to_not_be_null(column='id', meta={'profiler_details': {'metric_configuration': {'domain_kwargs': {'column': 'id'}, 'metric_dependencies': None, 'metric_name': 'column_values.nonnull.unexpected_count', 'metric_value_kwargs': None}, 'num_batches': 2}})"
   ]
  },
  {
   "cell_type": "code",
   "execution_count": 99,
   "id": "b9f53e21",
   "metadata": {},
   "outputs": [
    {
     "data": {
      "application/json": {
       "ascii": false,
       "bar_format": null,
       "colour": null,
       "elapsed": 0.012796163558959961,
       "initial": 0,
       "n": 0,
       "ncols": null,
       "nrows": null,
       "postfix": null,
       "prefix": "Calculating Metrics",
       "rate": null,
       "total": 9,
       "unit": "it",
       "unit_divisor": 1000,
       "unit_scale": false
      },
      "application/vnd.jupyter.widget-view+json": {
       "model_id": "fa2deccbac614cf2a1d70b8b50ae41ce",
       "version_major": 2,
       "version_minor": 0
      },
      "text/plain": [
       "Calculating Metrics:   0%|          | 0/9 [00:00<?, ?it/s]"
      ]
     },
     "metadata": {},
     "output_type": "display_data"
    },
    {
     "data": {
      "text/plain": [
       "{\n",
       "  \"success\": true,\n",
       "  \"result\": {\n",
       "    \"element_count\": 76004,\n",
       "    \"unexpected_count\": 0,\n",
       "    \"unexpected_percent\": 0.0,\n",
       "    \"partial_unexpected_list\": [],\n",
       "    \"missing_count\": 0,\n",
       "    \"missing_percent\": 0.0,\n",
       "    \"unexpected_percent_total\": 0.0,\n",
       "    \"unexpected_percent_nonmissing\": 0.0\n",
       "  },\n",
       "  \"meta\": {},\n",
       "  \"exception_info\": {\n",
       "    \"raised_exception\": false,\n",
       "    \"exception_traceback\": null,\n",
       "    \"exception_message\": null\n",
       "  }\n",
       "}"
      ]
     },
     "execution_count": 99,
     "metadata": {},
     "output_type": "execute_result"
    }
   ],
   "source": [
    "\n",
    "validator.expect_column_value_lengths_to_be_between(column='id', max_value=15, min_value=7, mostly=1.0, strict_max=False, strict_min=False, meta={'profiler_details': {'column_max_length_range_estimator': {'metric_configuration': {'domain_kwargs': {'column': 'id'}, 'metric_dependencies': None, 'metric_name': 'column_values.length.max', 'metric_value_kwargs': None}, 'num_batches': 1}, 'column_min_length_range_estimator': {'metric_configuration': {'domain_kwargs': {'column': 'id'}, 'metric_dependencies': None, 'metric_name': 'column_values.length.min', 'metric_value_kwargs': None}, 'num_batches': 1}}})"
   ]
  },
  {
   "cell_type": "code",
   "execution_count": 100,
   "id": "f7f76b9f",
   "metadata": {},
   "outputs": [
    {
     "name": "stderr",
     "output_type": "stream",
     "text": [
      "<>:1: DeprecationWarning: invalid escape sequence \\d\n",
      "<>:1: DeprecationWarning: invalid escape sequence \\d\n",
      "<ipython-input-100-5607f146b4d4>:1: DeprecationWarning: invalid escape sequence \\d\n",
      "  validator.expect_column_values_to_match_regex(column='id', mostly=1.0, regex='-?\\d+', meta={'profiler_details': {'evaluated_regexes': {'(?:25[0-5]|2[0-4]\\\\d|[01]\\\\d{2}|\\\\d{1,2})(?:.(?:25[0-5]|2[0-4]\\\\d|[01]\\\\d{2}|\\\\d{1,2})){3}': 0.7810115257091732, '-?\\\\d+': 1.0, '-?\\\\d+(?:\\\\.\\\\d*)?': 1.0, '<\\\\/?(?:p|a|b|img)(?: \\\\/)?>': 0.0, '[A-Za-z0-9\\\\.,;:!?()\\\\\"\\'%\\\\-]+': 1.0, '\\\\b[0-9a-fA-F]{8}\\\\b-[0-9a-fA-F]{4}-[0-5][0-9a-fA-F]{3}-[089ab][0-9a-fA-F]{3}-\\\\b[0-9a-fA-F]{12}\\\\b ': 0.0, '\\\\d+': 1.0, '\\\\s+$': 0.0, '^\\\\s+': 0.0, 'https?:\\\\/\\\\/(?:www\\\\.)?[-a-zA-Z0-9@:%._\\\\+~#=]{2,255}\\\\.[a-z]{2,6}\\\\b(?:[-a-zA-Z0-9@:%_\\\\+.~#()?&//=]*)': 0.0}, 'success_ratio': 1.0}})\n"
     ]
    },
    {
     "data": {
      "application/json": {
       "ascii": false,
       "bar_format": null,
       "colour": null,
       "elapsed": 0.0162661075592041,
       "initial": 0,
       "n": 0,
       "ncols": null,
       "nrows": null,
       "postfix": null,
       "prefix": "Calculating Metrics",
       "rate": null,
       "total": 8,
       "unit": "it",
       "unit_divisor": 1000,
       "unit_scale": false
      },
      "application/vnd.jupyter.widget-view+json": {
       "model_id": "08cf3b9683464143b2c18ffdb86830a9",
       "version_major": 2,
       "version_minor": 0
      },
      "text/plain": [
       "Calculating Metrics:   0%|          | 0/8 [00:00<?, ?it/s]"
      ]
     },
     "metadata": {},
     "output_type": "display_data"
    },
    {
     "data": {
      "text/plain": [
       "{\n",
       "  \"success\": true,\n",
       "  \"result\": {\n",
       "    \"element_count\": 76004,\n",
       "    \"unexpected_count\": 0,\n",
       "    \"unexpected_percent\": 0.0,\n",
       "    \"partial_unexpected_list\": [],\n",
       "    \"missing_count\": 0,\n",
       "    \"missing_percent\": 0.0,\n",
       "    \"unexpected_percent_total\": 0.0,\n",
       "    \"unexpected_percent_nonmissing\": 0.0\n",
       "  },\n",
       "  \"meta\": {},\n",
       "  \"exception_info\": {\n",
       "    \"raised_exception\": false,\n",
       "    \"exception_traceback\": null,\n",
       "    \"exception_message\": null\n",
       "  }\n",
       "}"
      ]
     },
     "execution_count": 100,
     "metadata": {},
     "output_type": "execute_result"
    }
   ],
   "source": [
    "\n",
    "validator.expect_column_values_to_match_regex(column='id', mostly=1.0, regex='-?\\d+', meta={'profiler_details': {'evaluated_regexes': {'(?:25[0-5]|2[0-4]\\\\d|[01]\\\\d{2}|\\\\d{1,2})(?:.(?:25[0-5]|2[0-4]\\\\d|[01]\\\\d{2}|\\\\d{1,2})){3}': 0.7810115257091732, '-?\\\\d+': 1.0, '-?\\\\d+(?:\\\\.\\\\d*)?': 1.0, '<\\\\/?(?:p|a|b|img)(?: \\\\/)?>': 0.0, '[A-Za-z0-9\\\\.,;:!?()\\\\\"\\'%\\\\-]+': 1.0, '\\\\b[0-9a-fA-F]{8}\\\\b-[0-9a-fA-F]{4}-[0-5][0-9a-fA-F]{3}-[089ab][0-9a-fA-F]{3}-\\\\b[0-9a-fA-F]{12}\\\\b ': 0.0, '\\\\d+': 1.0, '\\\\s+$': 0.0, '^\\\\s+': 0.0, 'https?:\\\\/\\\\/(?:www\\\\.)?[-a-zA-Z0-9@:%._\\\\+~#=]{2,255}\\\\.[a-z]{2,6}\\\\b(?:[-a-zA-Z0-9@:%_\\\\+.~#()?&//=]*)': 0.0}, 'success_ratio': 1.0}})"
   ]
  },
  {
   "cell_type": "code",
   "execution_count": 101,
   "id": "e3e52b7d",
   "metadata": {},
   "outputs": [
    {
     "data": {
      "application/json": {
       "ascii": false,
       "bar_format": null,
       "colour": null,
       "elapsed": 0.01260232925415039,
       "initial": 0,
       "n": 0,
       "ncols": null,
       "nrows": null,
       "postfix": null,
       "prefix": "Calculating Metrics",
       "rate": null,
       "total": 8,
       "unit": "it",
       "unit_divisor": 1000,
       "unit_scale": false
      },
      "application/vnd.jupyter.widget-view+json": {
       "model_id": "b64c7ef2d40041ff82668bfcb114d01e",
       "version_major": 2,
       "version_minor": 0
      },
      "text/plain": [
       "Calculating Metrics:   0%|          | 0/8 [00:00<?, ?it/s]"
      ]
     },
     "metadata": {},
     "output_type": "display_data"
    },
    {
     "data": {
      "text/plain": [
       "{\n",
       "  \"success\": false,\n",
       "  \"result\": {\n",
       "    \"element_count\": 76004,\n",
       "    \"unexpected_count\": 70352,\n",
       "    \"unexpected_percent\": 92.56354928687965,\n",
       "    \"partial_unexpected_list\": [\n",
       "      \"R18032505027684\",\n",
       "      \"R18032505027677\",\n",
       "      \"R18032505027721\",\n",
       "      \"R18032516508249\",\n",
       "      \"R18032516507621\",\n",
       "      \"R18032516508005\",\n",
       "      \"R18032516508688\",\n",
       "      \"R18032516507720\",\n",
       "      \"R18032516507955\",\n",
       "      \"R18032810357425\",\n",
       "      \"R18032810357459\",\n",
       "      \"R18032810357525\",\n",
       "      \"R18032810357497\",\n",
       "      \"R18032216107876\",\n",
       "      \"R18032216107750\",\n",
       "      \"R18032216107338\",\n",
       "      \"R18032216107425\",\n",
       "      \"R18032216107405\",\n",
       "      \"R18032216107389\",\n",
       "      \"R18032216107419\"\n",
       "    ],\n",
       "    \"missing_count\": 0,\n",
       "    \"missing_percent\": 0.0,\n",
       "    \"unexpected_percent_total\": 92.56354928687965,\n",
       "    \"unexpected_percent_nonmissing\": 92.56354928687965\n",
       "  },\n",
       "  \"meta\": {},\n",
       "  \"exception_info\": {\n",
       "    \"raised_exception\": false,\n",
       "    \"exception_traceback\": null,\n",
       "    \"exception_message\": null\n",
       "  }\n",
       "}"
      ]
     },
     "execution_count": 101,
     "metadata": {},
     "output_type": "execute_result"
    }
   ],
   "source": [
    "validator.expect_column_values_to_be_unique(column='id', meta={'profiler_details': {'metric_configuration': {'domain_kwargs': {'column': 'id'}, 'metric_dependencies': None, 'metric_name': 'column_values.unique', 'metric_value_kwargs': None}, 'num_batches': 2}})"
   ]
  },
  {
   "cell_type": "markdown",
   "id": "cbb02519",
   "metadata": {},
   "source": [
    "#### `file_name`"
   ]
  },
  {
   "cell_type": "code",
   "execution_count": 102,
   "id": "9417dbd5",
   "metadata": {},
   "outputs": [
    {
     "data": {
      "application/json": {
       "ascii": false,
       "bar_format": null,
       "colour": null,
       "elapsed": 0.01244974136352539,
       "initial": 0,
       "n": 0,
       "ncols": null,
       "nrows": null,
       "postfix": null,
       "prefix": "Calculating Metrics",
       "rate": null,
       "total": 6,
       "unit": "it",
       "unit_divisor": 1000,
       "unit_scale": false
      },
      "application/vnd.jupyter.widget-view+json": {
       "model_id": "8fcb9d67b9834af2b52efc8b8ebe0b03",
       "version_major": 2,
       "version_minor": 0
      },
      "text/plain": [
       "Calculating Metrics:   0%|          | 0/6 [00:00<?, ?it/s]"
      ]
     },
     "metadata": {},
     "output_type": "display_data"
    },
    {
     "data": {
      "text/plain": [
       "{\n",
       "  \"success\": true,\n",
       "  \"result\": {\n",
       "    \"element_count\": 76004,\n",
       "    \"unexpected_count\": 0,\n",
       "    \"unexpected_percent\": 0.0,\n",
       "    \"partial_unexpected_list\": []\n",
       "  },\n",
       "  \"meta\": {},\n",
       "  \"exception_info\": {\n",
       "    \"raised_exception\": false,\n",
       "    \"exception_traceback\": null,\n",
       "    \"exception_message\": null\n",
       "  }\n",
       "}"
      ]
     },
     "execution_count": 102,
     "metadata": {},
     "output_type": "execute_result"
    }
   ],
   "source": [
    "\n",
    "validator.expect_column_values_to_not_be_null(column='file_name', meta={'profiler_details': {'metric_configuration': {'domain_kwargs': {'column': 'file_name'}, 'metric_dependencies': None, 'metric_name': 'column_values.nonnull.unexpected_count', 'metric_value_kwargs': None}, 'num_batches': 1}})"
   ]
  },
  {
   "cell_type": "code",
   "execution_count": 103,
   "id": "1b0fe8bf",
   "metadata": {},
   "outputs": [
    {
     "data": {
      "application/json": {
       "ascii": false,
       "bar_format": null,
       "colour": null,
       "elapsed": 0.012664079666137695,
       "initial": 0,
       "n": 0,
       "ncols": null,
       "nrows": null,
       "postfix": null,
       "prefix": "Calculating Metrics",
       "rate": null,
       "total": 9,
       "unit": "it",
       "unit_divisor": 1000,
       "unit_scale": false
      },
      "application/vnd.jupyter.widget-view+json": {
       "model_id": "64b21a48551646c5ad75f4f16c15ea1b",
       "version_major": 2,
       "version_minor": 0
      },
      "text/plain": [
       "Calculating Metrics:   0%|          | 0/9 [00:00<?, ?it/s]"
      ]
     },
     "metadata": {},
     "output_type": "display_data"
    },
    {
     "data": {
      "text/plain": [
       "{\n",
       "  \"success\": true,\n",
       "  \"result\": {\n",
       "    \"element_count\": 76004,\n",
       "    \"unexpected_count\": 0,\n",
       "    \"unexpected_percent\": 0.0,\n",
       "    \"partial_unexpected_list\": [],\n",
       "    \"missing_count\": 0,\n",
       "    \"missing_percent\": 0.0,\n",
       "    \"unexpected_percent_total\": 0.0,\n",
       "    \"unexpected_percent_nonmissing\": 0.0\n",
       "  },\n",
       "  \"meta\": {},\n",
       "  \"exception_info\": {\n",
       "    \"raised_exception\": false,\n",
       "    \"exception_traceback\": null,\n",
       "    \"exception_message\": null\n",
       "  }\n",
       "}"
      ]
     },
     "execution_count": 103,
     "metadata": {},
     "output_type": "execute_result"
    }
   ],
   "source": [
    "\n",
    "validator.expect_column_value_lengths_to_be_between(column='file_name', max_value=53, min_value=48, mostly=1.0, strict_max=False, strict_min=False, meta={'profiler_details': {'column_max_length_range_estimator': {'metric_configuration': {'domain_kwargs': {'column': 'file_name'}, 'metric_dependencies': None, 'metric_name': 'column_values.length.max', 'metric_value_kwargs': None}, 'num_batches': 1}, 'column_min_length_range_estimator': {'metric_configuration': {'domain_kwargs': {'column': 'file_name'}, 'metric_dependencies': None, 'metric_name': 'column_values.length.min', 'metric_value_kwargs': None}, 'num_batches': 1}}})"
   ]
  },
  {
   "cell_type": "code",
   "execution_count": 104,
   "id": "a6050af3",
   "metadata": {},
   "outputs": [
    {
     "name": "stderr",
     "output_type": "stream",
     "text": [
      "<>:1: DeprecationWarning: invalid escape sequence \\d\n",
      "<>:1: DeprecationWarning: invalid escape sequence \\d\n",
      "<ipython-input-104-e05f5daeb804>:1: DeprecationWarning: invalid escape sequence \\d\n",
      "  validator.expect_column_values_to_match_regex(column='file_name', mostly=1.0, regex='(?:25[0-5]|2[0-4]\\d|[01]\\d{2}|\\d{1,2})(?:.(?:25[0-5]|2[0-4]\\d|[01]\\d{2}|\\d{1,2})){3}', meta={'profiler_details': {'evaluated_regexes': {'(?:25[0-5]|2[0-4]\\\\d|[01]\\\\d{2}|\\\\d{1,2})(?:.(?:25[0-5]|2[0-4]\\\\d|[01]\\\\d{2}|\\\\d{1,2})){3}': 1.0, '-?\\\\d+': 1.0, '-?\\\\d+(?:\\\\.\\\\d*)?': 1.0, '<\\\\/?(?:p|a|b|img)(?: \\\\/)?>': 0.0, '[A-Za-z0-9\\\\.,;:!?()\\\\\"\\'%\\\\-]+': 1.0, '\\\\b[0-9a-fA-F]{8}\\\\b-[0-9a-fA-F]{4}-[0-5][0-9a-fA-F]{3}-[089ab][0-9a-fA-F]{3}-\\\\b[0-9a-fA-F]{12}\\\\b ': 0.0, '\\\\d+': 1.0, '\\\\s+$': 0.0, '^\\\\s+': 0.0, 'https?:\\\\/\\\\/(?:www\\\\.)?[-a-zA-Z0-9@:%._\\\\+~#=]{2,255}\\\\.[a-z]{2,6}\\\\b(?:[-a-zA-Z0-9@:%_\\\\+.~#()?&//=]*)': 0.0}, 'success_ratio': 1.0}})\n"
     ]
    },
    {
     "data": {
      "application/json": {
       "ascii": false,
       "bar_format": null,
       "colour": null,
       "elapsed": 0.01275324821472168,
       "initial": 0,
       "n": 0,
       "ncols": null,
       "nrows": null,
       "postfix": null,
       "prefix": "Calculating Metrics",
       "rate": null,
       "total": 8,
       "unit": "it",
       "unit_divisor": 1000,
       "unit_scale": false
      },
      "application/vnd.jupyter.widget-view+json": {
       "model_id": "f16c1e2ea3174e8fba058ac5fc05452c",
       "version_major": 2,
       "version_minor": 0
      },
      "text/plain": [
       "Calculating Metrics:   0%|          | 0/8 [00:00<?, ?it/s]"
      ]
     },
     "metadata": {},
     "output_type": "display_data"
    },
    {
     "data": {
      "text/plain": [
       "{\n",
       "  \"success\": true,\n",
       "  \"result\": {\n",
       "    \"element_count\": 76004,\n",
       "    \"unexpected_count\": 0,\n",
       "    \"unexpected_percent\": 0.0,\n",
       "    \"partial_unexpected_list\": [],\n",
       "    \"missing_count\": 0,\n",
       "    \"missing_percent\": 0.0,\n",
       "    \"unexpected_percent_total\": 0.0,\n",
       "    \"unexpected_percent_nonmissing\": 0.0\n",
       "  },\n",
       "  \"meta\": {},\n",
       "  \"exception_info\": {\n",
       "    \"raised_exception\": false,\n",
       "    \"exception_traceback\": null,\n",
       "    \"exception_message\": null\n",
       "  }\n",
       "}"
      ]
     },
     "execution_count": 104,
     "metadata": {},
     "output_type": "execute_result"
    }
   ],
   "source": [
    "\n",
    "validator.expect_column_values_to_match_regex(column='file_name', mostly=1.0, regex='(?:25[0-5]|2[0-4]\\d|[01]\\d{2}|\\d{1,2})(?:.(?:25[0-5]|2[0-4]\\d|[01]\\d{2}|\\d{1,2})){3}', meta={'profiler_details': {'evaluated_regexes': {'(?:25[0-5]|2[0-4]\\\\d|[01]\\\\d{2}|\\\\d{1,2})(?:.(?:25[0-5]|2[0-4]\\\\d|[01]\\\\d{2}|\\\\d{1,2})){3}': 1.0, '-?\\\\d+': 1.0, '-?\\\\d+(?:\\\\.\\\\d*)?': 1.0, '<\\\\/?(?:p|a|b|img)(?: \\\\/)?>': 0.0, '[A-Za-z0-9\\\\.,;:!?()\\\\\"\\'%\\\\-]+': 1.0, '\\\\b[0-9a-fA-F]{8}\\\\b-[0-9a-fA-F]{4}-[0-5][0-9a-fA-F]{3}-[089ab][0-9a-fA-F]{3}-\\\\b[0-9a-fA-F]{12}\\\\b ': 0.0, '\\\\d+': 1.0, '\\\\s+$': 0.0, '^\\\\s+': 0.0, 'https?:\\\\/\\\\/(?:www\\\\.)?[-a-zA-Z0-9@:%._\\\\+~#=]{2,255}\\\\.[a-z]{2,6}\\\\b(?:[-a-zA-Z0-9@:%_\\\\+.~#()?&//=]*)': 0.0}, 'success_ratio': 1.0}})"
   ]
  },
  {
   "cell_type": "markdown",
   "id": "adb4cb8e",
   "metadata": {},
   "source": [
    "#### `file_index`"
   ]
  },
  {
   "cell_type": "code",
   "execution_count": 105,
   "id": "ae56f217",
   "metadata": {},
   "outputs": [
    {
     "data": {
      "application/json": {
       "ascii": false,
       "bar_format": null,
       "colour": null,
       "elapsed": 0.012949943542480469,
       "initial": 0,
       "n": 0,
       "ncols": null,
       "nrows": null,
       "postfix": null,
       "prefix": "Calculating Metrics",
       "rate": null,
       "total": 6,
       "unit": "it",
       "unit_divisor": 1000,
       "unit_scale": false
      },
      "application/vnd.jupyter.widget-view+json": {
       "model_id": "100de43a316946d691ea6edd2d020d2c",
       "version_major": 2,
       "version_minor": 0
      },
      "text/plain": [
       "Calculating Metrics:   0%|          | 0/6 [00:00<?, ?it/s]"
      ]
     },
     "metadata": {},
     "output_type": "display_data"
    },
    {
     "data": {
      "text/plain": [
       "{\n",
       "  \"success\": true,\n",
       "  \"result\": {\n",
       "    \"element_count\": 76004,\n",
       "    \"unexpected_count\": 0,\n",
       "    \"unexpected_percent\": 0.0,\n",
       "    \"partial_unexpected_list\": []\n",
       "  },\n",
       "  \"meta\": {},\n",
       "  \"exception_info\": {\n",
       "    \"raised_exception\": false,\n",
       "    \"exception_traceback\": null,\n",
       "    \"exception_message\": null\n",
       "  }\n",
       "}"
      ]
     },
     "execution_count": 105,
     "metadata": {},
     "output_type": "execute_result"
    }
   ],
   "source": [
    "\n",
    "validator.expect_column_values_to_not_be_null(column='file_index', meta={'profiler_details': {'metric_configuration': {'domain_kwargs': {'column': 'file_index'}, 'metric_dependencies': None, 'metric_name': 'column_values.nonnull.unexpected_count', 'metric_value_kwargs': None}, 'num_batches': 1}})"
   ]
  },
  {
   "cell_type": "code",
   "execution_count": 106,
   "id": "ee9d3589",
   "metadata": {},
   "outputs": [
    {
     "data": {
      "application/json": {
       "ascii": false,
       "bar_format": null,
       "colour": null,
       "elapsed": 0.012867927551269531,
       "initial": 0,
       "n": 0,
       "ncols": null,
       "nrows": null,
       "postfix": null,
       "prefix": "Calculating Metrics",
       "rate": null,
       "total": 4,
       "unit": "it",
       "unit_divisor": 1000,
       "unit_scale": false
      },
      "application/vnd.jupyter.widget-view+json": {
       "model_id": "cdeb2371452c4f56bf2b3c5c891004c1",
       "version_major": 2,
       "version_minor": 0
      },
      "text/plain": [
       "Calculating Metrics:   0%|          | 0/4 [00:00<?, ?it/s]"
      ]
     },
     "metadata": {},
     "output_type": "display_data"
    },
    {
     "data": {
      "text/plain": [
       "{\n",
       "  \"success\": true,\n",
       "  \"result\": {\n",
       "    \"observed_value\": 0\n",
       "  },\n",
       "  \"meta\": {},\n",
       "  \"exception_info\": {\n",
       "    \"raised_exception\": false,\n",
       "    \"exception_traceback\": null,\n",
       "    \"exception_message\": null\n",
       "  }\n",
       "}"
      ]
     },
     "execution_count": 106,
     "metadata": {},
     "output_type": "execute_result"
    }
   ],
   "source": [
    "\n",
    "validator.expect_column_min_to_be_between(column='file_index', max_value=0, min_value=0, strict_max=False, strict_min=False, meta={'profiler_details': {'metric_configuration': {'domain_kwargs': {'column': 'file_index'}, 'metric_dependencies': None, 'metric_name': 'column.min', 'metric_value_kwargs': None}, 'num_batches': 1}})"
   ]
  },
  {
   "cell_type": "code",
   "execution_count": 107,
   "id": "efd2d016",
   "metadata": {},
   "outputs": [
    {
     "data": {
      "application/json": {
       "ascii": false,
       "bar_format": null,
       "colour": null,
       "elapsed": 0.012125015258789062,
       "initial": 0,
       "n": 0,
       "ncols": null,
       "nrows": null,
       "postfix": null,
       "prefix": "Calculating Metrics",
       "rate": null,
       "total": 4,
       "unit": "it",
       "unit_divisor": 1000,
       "unit_scale": false
      },
      "application/vnd.jupyter.widget-view+json": {
       "model_id": "e3b4b7a63a4941558f85c0c6e07b422c",
       "version_major": 2,
       "version_minor": 0
      },
      "text/plain": [
       "Calculating Metrics:   0%|          | 0/4 [00:00<?, ?it/s]"
      ]
     },
     "metadata": {},
     "output_type": "display_data"
    },
    {
     "data": {
      "text/plain": [
       "{\n",
       "  \"success\": true,\n",
       "  \"result\": {\n",
       "    \"observed_value\": 2367\n",
       "  },\n",
       "  \"meta\": {},\n",
       "  \"exception_info\": {\n",
       "    \"raised_exception\": false,\n",
       "    \"exception_traceback\": null,\n",
       "    \"exception_message\": null\n",
       "  }\n",
       "}"
      ]
     },
     "execution_count": 107,
     "metadata": {},
     "output_type": "execute_result"
    }
   ],
   "source": [
    "\n",
    "validator.expect_column_max_to_be_between(column='file_index', max_value=2367, min_value=2367, strict_max=False, strict_min=False, meta={'profiler_details': {'metric_configuration': {'domain_kwargs': {'column': 'file_index'}, 'metric_dependencies': None, 'metric_name': 'column.max', 'metric_value_kwargs': None}, 'num_batches': 1}})"
   ]
  },
  {
   "cell_type": "code",
   "execution_count": 108,
   "id": "f484992b",
   "metadata": {},
   "outputs": [
    {
     "data": {
      "application/json": {
       "ascii": false,
       "bar_format": null,
       "colour": null,
       "elapsed": 0.01238107681274414,
       "initial": 0,
       "n": 0,
       "ncols": null,
       "nrows": null,
       "postfix": null,
       "prefix": "Calculating Metrics",
       "rate": null,
       "total": 8,
       "unit": "it",
       "unit_divisor": 1000,
       "unit_scale": false
      },
      "application/vnd.jupyter.widget-view+json": {
       "model_id": "4270566b321348c99bedb06314c16ecd",
       "version_major": 2,
       "version_minor": 0
      },
      "text/plain": [
       "Calculating Metrics:   0%|          | 0/8 [00:00<?, ?it/s]"
      ]
     },
     "metadata": {},
     "output_type": "display_data"
    },
    {
     "data": {
      "text/plain": [
       "{\n",
       "  \"success\": true,\n",
       "  \"result\": {\n",
       "    \"element_count\": 76004,\n",
       "    \"unexpected_count\": 0,\n",
       "    \"unexpected_percent\": 0.0,\n",
       "    \"partial_unexpected_list\": [],\n",
       "    \"missing_count\": 0,\n",
       "    \"missing_percent\": 0.0,\n",
       "    \"unexpected_percent_total\": 0.0,\n",
       "    \"unexpected_percent_nonmissing\": 0.0\n",
       "  },\n",
       "  \"meta\": {},\n",
       "  \"exception_info\": {\n",
       "    \"raised_exception\": false,\n",
       "    \"exception_traceback\": null,\n",
       "    \"exception_message\": null\n",
       "  }\n",
       "}"
      ]
     },
     "execution_count": 108,
     "metadata": {},
     "output_type": "execute_result"
    }
   ],
   "source": [
    "\n",
    "validator.expect_column_values_to_be_between(column='file_index', max_value=2367, min_value=0, mostly=1.0, strict_max=False, strict_min=False, meta={'profiler_details': {'column_max_values_range_estimator': {'metric_configuration': {'domain_kwargs': {'column': 'file_index'}, 'metric_dependencies': None, 'metric_name': 'column.max', 'metric_value_kwargs': None}, 'num_batches': 1}, 'column_min_values_range_estimator': {'metric_configuration': {'domain_kwargs': {'column': 'file_index'}, 'metric_dependencies': None, 'metric_name': 'column.min', 'metric_value_kwargs': None}, 'num_batches': 1}}})"
   ]
  },
  {
   "cell_type": "code",
   "execution_count": 109,
   "id": "1673a006",
   "metadata": {},
   "outputs": [
    {
     "data": {
      "application/json": {
       "ascii": false,
       "bar_format": null,
       "colour": null,
       "elapsed": 0.01185297966003418,
       "initial": 0,
       "n": 0,
       "ncols": null,
       "nrows": null,
       "postfix": null,
       "prefix": "Calculating Metrics",
       "rate": null,
       "total": 4,
       "unit": "it",
       "unit_divisor": 1000,
       "unit_scale": false
      },
      "application/vnd.jupyter.widget-view+json": {
       "model_id": "9169314b3df14dd8863211ce1d860d0d",
       "version_major": 2,
       "version_minor": 0
      },
      "text/plain": [
       "Calculating Metrics:   0%|          | 0/4 [00:00<?, ?it/s]"
      ]
     },
     "metadata": {},
     "output_type": "display_data"
    },
    {
     "data": {
      "text/plain": [
       "{\n",
       "  \"success\": true,\n",
       "  \"result\": {\n",
       "    \"observed_value\": {\n",
       "      \"quantiles\": [\n",
       "        0.25,\n",
       "        0.5,\n",
       "        0.75\n",
       "      ],\n",
       "      \"values\": [\n",
       "        34,\n",
       "        288,\n",
       "        953\n",
       "      ]\n",
       "    },\n",
       "    \"details\": {\n",
       "      \"success_details\": [\n",
       "        true,\n",
       "        true,\n",
       "        true\n",
       "      ]\n",
       "    }\n",
       "  },\n",
       "  \"meta\": {},\n",
       "  \"exception_info\": {\n",
       "    \"raised_exception\": false,\n",
       "    \"exception_traceback\": null,\n",
       "    \"exception_message\": null\n",
       "  }\n",
       "}"
      ]
     },
     "execution_count": 109,
     "metadata": {},
     "output_type": "execute_result"
    }
   ],
   "source": [
    "\n",
    "validator.expect_column_quantile_values_to_be_between(column='file_index', allow_relative_error=False, quantile_ranges={'quantiles': [0.25, 0.5, 0.75], 'value_ranges': [[34, 34], [288, 288], [953, 953]]}, meta={'profiler_details': {'metric_configuration': {'domain_kwargs': {'column': 'file_index'}, 'metric_dependencies': None, 'metric_name': 'column.quantile_values', 'metric_value_kwargs': {'allow_relative_error': False, 'quantiles': [0.25, 0.5, 0.75]}}, 'num_batches': 1}})"
   ]
  },
  {
   "cell_type": "code",
   "execution_count": 110,
   "id": "6b08961a",
   "metadata": {},
   "outputs": [
    {
     "data": {
      "application/json": {
       "ascii": false,
       "bar_format": null,
       "colour": null,
       "elapsed": 0.012407064437866211,
       "initial": 0,
       "n": 0,
       "ncols": null,
       "nrows": null,
       "postfix": null,
       "prefix": "Calculating Metrics",
       "rate": null,
       "total": 4,
       "unit": "it",
       "unit_divisor": 1000,
       "unit_scale": false
      },
      "application/vnd.jupyter.widget-view+json": {
       "model_id": "7f9d815a9cda40b9ac7f64777f492f4a",
       "version_major": 2,
       "version_minor": 0
      },
      "text/plain": [
       "Calculating Metrics:   0%|          | 0/4 [00:00<?, ?it/s]"
      ]
     },
     "metadata": {},
     "output_type": "display_data"
    },
    {
     "data": {
      "text/plain": [
       "{\n",
       "  \"success\": true,\n",
       "  \"result\": {\n",
       "    \"observed_value\": 288.0\n",
       "  },\n",
       "  \"meta\": {},\n",
       "  \"exception_info\": {\n",
       "    \"raised_exception\": false,\n",
       "    \"exception_traceback\": null,\n",
       "    \"exception_message\": null\n",
       "  }\n",
       "}"
      ]
     },
     "execution_count": 110,
     "metadata": {},
     "output_type": "execute_result"
    }
   ],
   "source": [
    "\n",
    "validator.expect_column_median_to_be_between(column='file_index', max_value=288.0, min_value=288.0, strict_max=False, strict_min=False, meta={'profiler_details': {'metric_configuration': {'domain_kwargs': {'column': 'file_index'}, 'metric_dependencies': None, 'metric_name': 'column.median', 'metric_value_kwargs': None}, 'num_batches': 1}})"
   ]
  },
  {
   "cell_type": "code",
   "execution_count": 111,
   "id": "2a8c5d82",
   "metadata": {},
   "outputs": [
    {
     "name": "stderr",
     "output_type": "stream",
     "text": [
      "/Users/adh.arash/Downloads/conda/lib/python3.9/site-packages/ipykernel/ipkernel.py:283: DeprecationWarning: `should_run_async` will not call `transform_cell` automatically in the future. Please pass the result to `transformed_cell` argument and any exception that happen during thetransform in `preprocessing_exc_tuple` in IPython 7.17 and above.\n",
      "  and should_run_async(code)\n"
     ]
    },
    {
     "data": {
      "application/json": {
       "ascii": false,
       "bar_format": null,
       "colour": null,
       "elapsed": 0.014724969863891602,
       "initial": 0,
       "n": 0,
       "ncols": null,
       "nrows": null,
       "postfix": null,
       "prefix": "Calculating Metrics",
       "rate": null,
       "total": 4,
       "unit": "it",
       "unit_divisor": 1000,
       "unit_scale": false
      },
      "application/vnd.jupyter.widget-view+json": {
       "model_id": "7d0a8d0d289947e68fb6c3a73d0d4003",
       "version_major": 2,
       "version_minor": 0
      },
      "text/plain": [
       "Calculating Metrics:   0%|          | 0/4 [00:00<?, ?it/s]"
      ]
     },
     "metadata": {},
     "output_type": "display_data"
    },
    {
     "data": {
      "text/plain": [
       "{\n",
       "  \"success\": true,\n",
       "  \"result\": {\n",
       "    \"observed_value\": 560.197529077417\n",
       "  },\n",
       "  \"meta\": {},\n",
       "  \"exception_info\": {\n",
       "    \"raised_exception\": false,\n",
       "    \"exception_traceback\": null,\n",
       "    \"exception_message\": null\n",
       "  }\n",
       "}"
      ]
     },
     "execution_count": 111,
     "metadata": {},
     "output_type": "execute_result"
    }
   ],
   "source": [
    "\n",
    "validator.expect_column_mean_to_be_between(column='file_index', max_value=560.197529077417, min_value=560.197529077417, strict_max=False, strict_min=False, meta={'profiler_details': {'metric_configuration': {'domain_kwargs': {'column': 'file_index'}, 'metric_dependencies': None, 'metric_name': 'column.mean', 'metric_value_kwargs': None}, 'num_batches': 1}})"
   ]
  },
  {
   "cell_type": "code",
   "execution_count": 112,
   "id": "6c3e571e",
   "metadata": {},
   "outputs": [
    {
     "data": {
      "application/json": {
       "ascii": false,
       "bar_format": null,
       "colour": null,
       "elapsed": 0.016052961349487305,
       "initial": 0,
       "n": 0,
       "ncols": null,
       "nrows": null,
       "postfix": null,
       "prefix": "Calculating Metrics",
       "rate": null,
       "total": 4,
       "unit": "it",
       "unit_divisor": 1000,
       "unit_scale": false
      },
      "application/vnd.jupyter.widget-view+json": {
       "model_id": "5de04b770e964b1694c3bc6684c945b5",
       "version_major": 2,
       "version_minor": 0
      },
      "text/plain": [
       "Calculating Metrics:   0%|          | 0/4 [00:00<?, ?it/s]"
      ]
     },
     "metadata": {},
     "output_type": "display_data"
    },
    {
     "data": {
      "text/plain": [
       "{\n",
       "  \"success\": true,\n",
       "  \"result\": {\n",
       "    \"observed_value\": 623.8829221285116\n",
       "  },\n",
       "  \"meta\": {},\n",
       "  \"exception_info\": {\n",
       "    \"raised_exception\": false,\n",
       "    \"exception_traceback\": null,\n",
       "    \"exception_message\": null\n",
       "  }\n",
       "}"
      ]
     },
     "execution_count": 112,
     "metadata": {},
     "output_type": "execute_result"
    }
   ],
   "source": [
    "\n",
    "validator.expect_column_stdev_to_be_between(column='file_index', max_value=623.8829221285116, min_value=623.8829221285116, strict_max=False, strict_min=False, meta={'profiler_details': {'metric_configuration': {'domain_kwargs': {'column': 'file_index'}, 'metric_dependencies': None, 'metric_name': 'column.standard_deviation', 'metric_value_kwargs': None}, 'num_batches': 1}})"
   ]
  },
  {
   "cell_type": "markdown",
   "id": "21cfb5b1",
   "metadata": {},
   "source": [
    "#### `img_type`"
   ]
  },
  {
   "cell_type": "code",
   "execution_count": 113,
   "id": "a9715fbd",
   "metadata": {},
   "outputs": [
    {
     "data": {
      "application/json": {
       "ascii": false,
       "bar_format": null,
       "colour": null,
       "elapsed": 0.014544010162353516,
       "initial": 0,
       "n": 0,
       "ncols": null,
       "nrows": null,
       "postfix": null,
       "prefix": "Calculating Metrics",
       "rate": null,
       "total": 6,
       "unit": "it",
       "unit_divisor": 1000,
       "unit_scale": false
      },
      "application/vnd.jupyter.widget-view+json": {
       "model_id": "7192559c602d4297af54de0790b36df1",
       "version_major": 2,
       "version_minor": 0
      },
      "text/plain": [
       "Calculating Metrics:   0%|          | 0/6 [00:00<?, ?it/s]"
      ]
     },
     "metadata": {},
     "output_type": "display_data"
    },
    {
     "name": "stderr",
     "output_type": "stream",
     "text": [
      "/Users/adh.arash/Downloads/conda/lib/python3.9/site-packages/great_expectations/expectations/metrics/map_metric_provider.py:1428: FutureWarning: The behavior of `series[i:j]` with an integer-dtype index is deprecated. In a future version, this will be treated as *label-based* indexing, consistent with e.g. `series[i]` lookups. To retain the old behavior, use `series.iloc[i:j]`. To get the future behavior, use `series.loc[i:j]`.\n",
      "  return list(domain_values[: result_format[\"partial_unexpected_count\"]])\n"
     ]
    },
    {
     "data": {
      "text/plain": [
       "{\n",
       "  \"success\": true,\n",
       "  \"result\": {\n",
       "    \"element_count\": 76004,\n",
       "    \"unexpected_count\": 0,\n",
       "    \"unexpected_percent\": 0.0,\n",
       "    \"partial_unexpected_list\": []\n",
       "  },\n",
       "  \"meta\": {},\n",
       "  \"exception_info\": {\n",
       "    \"raised_exception\": false,\n",
       "    \"exception_traceback\": null,\n",
       "    \"exception_message\": null\n",
       "  }\n",
       "}"
      ]
     },
     "execution_count": 113,
     "metadata": {},
     "output_type": "execute_result"
    }
   ],
   "source": [
    "\n",
    "validator.expect_column_values_to_not_be_null(column='img_type', meta={'profiler_details': {'metric_configuration': {'domain_kwargs': {'column': 'img_type'}, 'metric_dependencies': None, 'metric_name': 'column_values.nonnull.unexpected_count', 'metric_value_kwargs': None}, 'num_batches': 1}})"
   ]
  },
  {
   "cell_type": "code",
   "execution_count": 114,
   "id": "f1702a24",
   "metadata": {},
   "outputs": [
    {
     "data": {
      "application/json": {
       "ascii": false,
       "bar_format": null,
       "colour": null,
       "elapsed": 0.018992900848388672,
       "initial": 0,
       "n": 0,
       "ncols": null,
       "nrows": null,
       "postfix": null,
       "prefix": "Calculating Metrics",
       "rate": null,
       "total": 9,
       "unit": "it",
       "unit_divisor": 1000,
       "unit_scale": false
      },
      "application/vnd.jupyter.widget-view+json": {
       "model_id": "56684a425b8a4515a0b317cf59e40bed",
       "version_major": 2,
       "version_minor": 0
      },
      "text/plain": [
       "Calculating Metrics:   0%|          | 0/9 [00:00<?, ?it/s]"
      ]
     },
     "metadata": {},
     "output_type": "display_data"
    },
    {
     "data": {
      "text/plain": [
       "{\n",
       "  \"success\": true,\n",
       "  \"result\": {\n",
       "    \"element_count\": 76004,\n",
       "    \"unexpected_count\": 0,\n",
       "    \"unexpected_percent\": 0.0,\n",
       "    \"partial_unexpected_list\": [],\n",
       "    \"missing_count\": 0,\n",
       "    \"missing_percent\": 0.0,\n",
       "    \"unexpected_percent_total\": 0.0,\n",
       "    \"unexpected_percent_nonmissing\": 0.0\n",
       "  },\n",
       "  \"meta\": {},\n",
       "  \"exception_info\": {\n",
       "    \"raised_exception\": false,\n",
       "    \"exception_traceback\": null,\n",
       "    \"exception_message\": null\n",
       "  }\n",
       "}"
      ]
     },
     "execution_count": 114,
     "metadata": {},
     "output_type": "execute_result"
    }
   ],
   "source": [
    "\n",
    "validator.expect_column_value_lengths_to_be_between(column='img_type', max_value=5, min_value=3, mostly=1.0, strict_max=False, strict_min=False, meta={'profiler_details': {'column_max_length_range_estimator': {'metric_configuration': {'domain_kwargs': {'column': 'img_type'}, 'metric_dependencies': None, 'metric_name': 'column_values.length.max', 'metric_value_kwargs': None}, 'num_batches': 1}, 'column_min_length_range_estimator': {'metric_configuration': {'domain_kwargs': {'column': 'img_type'}, 'metric_dependencies': None, 'metric_name': 'column_values.length.min', 'metric_value_kwargs': None}, 'num_batches': 1}}})"
   ]
  },
  {
   "cell_type": "code",
   "execution_count": 115,
   "id": "8b327652",
   "metadata": {},
   "outputs": [
    {
     "name": "stderr",
     "output_type": "stream",
     "text": [
      "<>:1: DeprecationWarning: invalid escape sequence \\.\n",
      "<>:1: DeprecationWarning: invalid escape sequence \\.\n",
      "<ipython-input-115-f761df33b842>:1: DeprecationWarning: invalid escape sequence \\.\n",
      "  validator.expect_column_values_to_match_regex(column='img_type', mostly=1.0, regex='[A-Za-z0-9\\.,;:!?()\\\"'%\\-]+', meta={'profiler_details': {'evaluated_regexes': {'(?:25[0-5]|2[0-4]\\\\d|[01]\\\\d{2}|\\\\d{1,2})(?:.(?:25[0-5]|2[0-4]\\\\d|[01]\\\\d{2}|\\\\d{1,2})){3}': 0.0, '-?\\\\d+': 0.3564680806273354, '-?\\\\d+(?:\\\\.\\\\d*)?': 0.3564680806273354, '<\\\\/?(?:p|a|b|img)(?: \\\\/)?>': 0.0, '[A-Za-z0-9\\\\.,;:!?()\\\\\"\\'%\\\\-]+': 1.0, '\\\\b[0-9a-fA-F]{8}\\\\b-[0-9a-fA-F]{4}-[0-5][0-9a-fA-F]{3}-[089ab][0-9a-fA-F]{3}-\\\\b[0-9a-fA-F]{12}\\\\b ': 0.0, '\\\\d+': 0.3564680806273354, '\\\\s+$': 0.0, '^\\\\s+': 0.0, 'https?:\\\\/\\\\/(?:www\\\\.)?[-a-zA-Z0-9@:%._\\\\+~#=]{2,255}\\\\.[a-z]{2,6}\\\\b(?:[-a-zA-Z0-9@:%_\\\\+.~#()?&//=]*)': 0.0}, 'success_ratio': 1.0}})\n"
     ]
    },
    {
     "ename": "SyntaxError",
     "evalue": "unexpected character after line continuation character (<ipython-input-115-f761df33b842>, line 1)",
     "output_type": "error",
     "traceback": [
      "\u001b[0;36m  Cell \u001b[0;32mIn [115], line 1\u001b[0;36m\u001b[0m\n\u001b[0;31m    validator.expect_column_values_to_match_regex(column='img_type', mostly=1.0, regex='[A-Za-z0-9\\.,;:!?()\\\"'%\\-]+', meta={'profiler_details': {'evaluated_regexes': {'(?:25[0-5]|2[0-4]\\\\d|[01]\\\\d{2}|\\\\d{1,2})(?:.(?:25[0-5]|2[0-4]\\\\d|[01]\\\\d{2}|\\\\d{1,2})){3}': 0.0, '-?\\\\d+': 0.3564680806273354, '-?\\\\d+(?:\\\\.\\\\d*)?': 0.3564680806273354, '<\\\\/?(?:p|a|b|img)(?: \\\\/)?>': 0.0, '[A-Za-z0-9\\\\.,;:!?()\\\\\"\\'%\\\\-]+': 1.0, '\\\\b[0-9a-fA-F]{8}\\\\b-[0-9a-fA-F]{4}-[0-5][0-9a-fA-F]{3}-[089ab][0-9a-fA-F]{3}-\\\\b[0-9a-fA-F]{12}\\\\b ': 0.0, '\\\\d+': 0.3564680806273354, '\\\\s+$': 0.0, '^\\\\s+': 0.0, 'https?:\\\\/\\\\/(?:www\\\\.)?[-a-zA-Z0-9@:%._\\\\+~#=]{2,255}\\\\.[a-z]{2,6}\\\\b(?:[-a-zA-Z0-9@:%_\\\\+.~#()?&//=]*)': 0.0}, 'success_ratio': 1.0}})\u001b[0m\n\u001b[0m                                                                                                                ^\u001b[0m\n\u001b[0;31mSyntaxError\u001b[0m\u001b[0;31m:\u001b[0m unexpected character after line continuation character\n"
     ]
    }
   ],
   "source": [
    "\n",
    "validator.expect_column_values_to_match_regex(column='img_type', mostly=1.0, regex='[A-Za-z0-9\\.,;:!?()\\\"'%\\-]+', meta={'profiler_details': {'evaluated_regexes': {'(?:25[0-5]|2[0-4]\\\\d|[01]\\\\d{2}|\\\\d{1,2})(?:.(?:25[0-5]|2[0-4]\\\\d|[01]\\\\d{2}|\\\\d{1,2})){3}': 0.0, '-?\\\\d+': 0.3564680806273354, '-?\\\\d+(?:\\\\.\\\\d*)?': 0.3564680806273354, '<\\\\/?(?:p|a|b|img)(?: \\\\/)?>': 0.0, '[A-Za-z0-9\\\\.,;:!?()\\\\\"\\'%\\\\-]+': 1.0, '\\\\b[0-9a-fA-F]{8}\\\\b-[0-9a-fA-F]{4}-[0-5][0-9a-fA-F]{3}-[089ab][0-9a-fA-F]{3}-\\\\b[0-9a-fA-F]{12}\\\\b ': 0.0, '\\\\d+': 0.3564680806273354, '\\\\s+$': 0.0, '^\\\\s+': 0.0, 'https?:\\\\/\\\\/(?:www\\\\.)?[-a-zA-Z0-9@:%._\\\\+~#=]{2,255}\\\\.[a-z]{2,6}\\\\b(?:[-a-zA-Z0-9@:%_\\\\+.~#()?&//=]*)': 0.0}, 'success_ratio': 1.0}})"
   ]
  },
  {
   "cell_type": "code",
   "execution_count": 117,
   "id": "82c9f853",
   "metadata": {},
   "outputs": [
    {
     "data": {
      "application/json": {
       "ascii": false,
       "bar_format": null,
       "colour": null,
       "elapsed": 0.014320850372314453,
       "initial": 0,
       "n": 0,
       "ncols": null,
       "nrows": null,
       "postfix": null,
       "prefix": "Calculating Metrics",
       "rate": null,
       "total": 8,
       "unit": "it",
       "unit_divisor": 1000,
       "unit_scale": false
      },
      "application/vnd.jupyter.widget-view+json": {
       "model_id": "893503076c804b7e95ef4ae06fde7907",
       "version_major": 2,
       "version_minor": 0
      },
      "text/plain": [
       "Calculating Metrics:   0%|          | 0/8 [00:00<?, ?it/s]"
      ]
     },
     "metadata": {},
     "output_type": "display_data"
    },
    {
     "data": {
      "text/plain": [
       "{\n",
       "  \"success\": true,\n",
       "  \"result\": {\n",
       "    \"element_count\": 76004,\n",
       "    \"unexpected_count\": 0,\n",
       "    \"unexpected_percent\": 0.0,\n",
       "    \"partial_unexpected_list\": [],\n",
       "    \"missing_count\": 0,\n",
       "    \"missing_percent\": 0.0,\n",
       "    \"unexpected_percent_total\": 0.0,\n",
       "    \"unexpected_percent_nonmissing\": 0.0\n",
       "  },\n",
       "  \"meta\": {},\n",
       "  \"exception_info\": {\n",
       "    \"raised_exception\": false,\n",
       "    \"exception_traceback\": null,\n",
       "    \"exception_message\": null\n",
       "  }\n",
       "}"
      ]
     },
     "execution_count": 117,
     "metadata": {},
     "output_type": "execute_result"
    }
   ],
   "source": [
    "\n",
    "validator.expect_column_values_to_be_in_set(column='img_type', mostly=1.0, value_set=['ir107', 'vil', 'lght', 'vis', 'ir069'], meta={'profiler_details': {'metric_configuration': {'domain_kwargs': {'column': 'img_type'}, 'metric_dependencies': None, 'metric_name': 'column.distinct_values', 'metric_value_kwargs': None}, 'num_batches': 1, 'parse_strings_as_datetimes': False}})"
   ]
  },
  {
   "cell_type": "code",
   "execution_count": 118,
   "id": "36d5779e",
   "metadata": {},
   "outputs": [
    {
     "data": {
      "application/json": {
       "ascii": false,
       "bar_format": null,
       "colour": null,
       "elapsed": 0.014737844467163086,
       "initial": 0,
       "n": 0,
       "ncols": null,
       "nrows": null,
       "postfix": null,
       "prefix": "Calculating Metrics",
       "rate": null,
       "total": 4,
       "unit": "it",
       "unit_divisor": 1000,
       "unit_scale": false
      },
      "application/vnd.jupyter.widget-view+json": {
       "model_id": "873bd7d863ea4c788fd982f2bd017959",
       "version_major": 2,
       "version_minor": 0
      },
      "text/plain": [
       "Calculating Metrics:   0%|          | 0/4 [00:00<?, ?it/s]"
      ]
     },
     "metadata": {},
     "output_type": "display_data"
    },
    {
     "data": {
      "text/plain": [
       "{\n",
       "  \"success\": true,\n",
       "  \"result\": {\n",
       "    \"observed_value\": 5\n",
       "  },\n",
       "  \"meta\": {},\n",
       "  \"exception_info\": {\n",
       "    \"raised_exception\": false,\n",
       "    \"exception_traceback\": null,\n",
       "    \"exception_message\": null\n",
       "  }\n",
       "}"
      ]
     },
     "execution_count": 118,
     "metadata": {},
     "output_type": "execute_result"
    }
   ],
   "source": [
    "\n",
    "validator.expect_column_unique_value_count_to_be_between(column='img_type', max_value=5, min_value=5, strict_max=False, strict_min=False, meta={'profiler_details': {'metric_configuration': {'domain_kwargs': {'column': 'img_type'}, 'metric_dependencies': None, 'metric_name': 'column.distinct_values.count', 'metric_value_kwargs': None}, 'num_batches': 1}})"
   ]
  },
  {
   "cell_type": "code",
   "execution_count": 119,
   "id": "a115b7f0",
   "metadata": {},
   "outputs": [
    {
     "data": {
      "application/json": {
       "ascii": false,
       "bar_format": null,
       "colour": null,
       "elapsed": 0.015570878982543945,
       "initial": 0,
       "n": 0,
       "ncols": null,
       "nrows": null,
       "postfix": null,
       "prefix": "Calculating Metrics",
       "rate": null,
       "total": 7,
       "unit": "it",
       "unit_divisor": 1000,
       "unit_scale": false
      },
      "application/vnd.jupyter.widget-view+json": {
       "model_id": "eef867703eb7432289ecdb0bdd9030e9",
       "version_major": 2,
       "version_minor": 0
      },
      "text/plain": [
       "Calculating Metrics:   0%|          | 0/7 [00:00<?, ?it/s]"
      ]
     },
     "metadata": {},
     "output_type": "display_data"
    },
    {
     "data": {
      "text/plain": [
       "{\n",
       "  \"success\": true,\n",
       "  \"result\": {\n",
       "    \"observed_value\": 6.578601126256512e-05\n",
       "  },\n",
       "  \"meta\": {},\n",
       "  \"exception_info\": {\n",
       "    \"raised_exception\": false,\n",
       "    \"exception_traceback\": null,\n",
       "    \"exception_message\": null\n",
       "  }\n",
       "}"
      ]
     },
     "execution_count": 119,
     "metadata": {},
     "output_type": "execute_result"
    }
   ],
   "source": [
    "\n",
    "validator.expect_column_proportion_of_unique_values_to_be_between(column='img_type', max_value=6.578601126256512e-05, min_value=6.578601126256512e-05, strict_max=False, strict_min=False, meta={'profiler_details': {'metric_configuration': {'domain_kwargs': {'column': 'img_type'}, 'metric_dependencies': None, 'metric_name': 'column.unique_proportion', 'metric_value_kwargs': None}, 'num_batches': 1}})"
   ]
  },
  {
   "cell_type": "markdown",
   "id": "2133b6a6",
   "metadata": {},
   "source": [
    "#### `time_utc`"
   ]
  },
  {
   "cell_type": "code",
   "execution_count": 120,
   "id": "34b97955",
   "metadata": {},
   "outputs": [
    {
     "data": {
      "application/json": {
       "ascii": false,
       "bar_format": null,
       "colour": null,
       "elapsed": 0.013843059539794922,
       "initial": 0,
       "n": 0,
       "ncols": null,
       "nrows": null,
       "postfix": null,
       "prefix": "Calculating Metrics",
       "rate": null,
       "total": 6,
       "unit": "it",
       "unit_divisor": 1000,
       "unit_scale": false
      },
      "application/vnd.jupyter.widget-view+json": {
       "model_id": "1045625736e44bc3b1c446bd9e99900e",
       "version_major": 2,
       "version_minor": 0
      },
      "text/plain": [
       "Calculating Metrics:   0%|          | 0/6 [00:00<?, ?it/s]"
      ]
     },
     "metadata": {},
     "output_type": "display_data"
    },
    {
     "data": {
      "text/plain": [
       "{\n",
       "  \"success\": true,\n",
       "  \"result\": {\n",
       "    \"element_count\": 76004,\n",
       "    \"unexpected_count\": 0,\n",
       "    \"unexpected_percent\": 0.0,\n",
       "    \"partial_unexpected_list\": []\n",
       "  },\n",
       "  \"meta\": {},\n",
       "  \"exception_info\": {\n",
       "    \"raised_exception\": false,\n",
       "    \"exception_traceback\": null,\n",
       "    \"exception_message\": null\n",
       "  }\n",
       "}"
      ]
     },
     "execution_count": 120,
     "metadata": {},
     "output_type": "execute_result"
    }
   ],
   "source": [
    "\n",
    "validator.expect_column_values_to_not_be_null(column='time_utc', meta={'profiler_details': {'metric_configuration': {'domain_kwargs': {'column': 'time_utc'}, 'metric_dependencies': None, 'metric_name': 'column_values.nonnull.unexpected_count', 'metric_value_kwargs': None}, 'num_batches': 1}})"
   ]
  },
  {
   "cell_type": "code",
   "execution_count": 121,
   "id": "d6bccbbf",
   "metadata": {},
   "outputs": [
    {
     "data": {
      "application/json": {
       "ascii": false,
       "bar_format": null,
       "colour": null,
       "elapsed": 0.014683961868286133,
       "initial": 0,
       "n": 0,
       "ncols": null,
       "nrows": null,
       "postfix": null,
       "prefix": "Calculating Metrics",
       "rate": null,
       "total": 9,
       "unit": "it",
       "unit_divisor": 1000,
       "unit_scale": false
      },
      "application/vnd.jupyter.widget-view+json": {
       "model_id": "5b6fdc9c6e204be89f0df3eaea634b3b",
       "version_major": 2,
       "version_minor": 0
      },
      "text/plain": [
       "Calculating Metrics:   0%|          | 0/9 [00:00<?, ?it/s]"
      ]
     },
     "metadata": {},
     "output_type": "display_data"
    },
    {
     "data": {
      "text/plain": [
       "{\n",
       "  \"success\": true,\n",
       "  \"result\": {\n",
       "    \"element_count\": 76004,\n",
       "    \"unexpected_count\": 0,\n",
       "    \"unexpected_percent\": 0.0,\n",
       "    \"partial_unexpected_list\": [],\n",
       "    \"missing_count\": 0,\n",
       "    \"missing_percent\": 0.0,\n",
       "    \"unexpected_percent_total\": 0.0,\n",
       "    \"unexpected_percent_nonmissing\": 0.0\n",
       "  },\n",
       "  \"meta\": {},\n",
       "  \"exception_info\": {\n",
       "    \"raised_exception\": false,\n",
       "    \"exception_traceback\": null,\n",
       "    \"exception_message\": null\n",
       "  }\n",
       "}"
      ]
     },
     "execution_count": 121,
     "metadata": {},
     "output_type": "execute_result"
    }
   ],
   "source": [
    "\n",
    "validator.expect_column_value_lengths_to_be_between(column='time_utc', max_value=19, min_value=19, mostly=1.0, strict_max=False, strict_min=False, meta={'profiler_details': {'column_max_length_range_estimator': {'metric_configuration': {'domain_kwargs': {'column': 'time_utc'}, 'metric_dependencies': None, 'metric_name': 'column_values.length.max', 'metric_value_kwargs': None}, 'num_batches': 1}, 'column_min_length_range_estimator': {'metric_configuration': {'domain_kwargs': {'column': 'time_utc'}, 'metric_dependencies': None, 'metric_name': 'column_values.length.min', 'metric_value_kwargs': None}, 'num_batches': 1}}})"
   ]
  },
  {
   "cell_type": "code",
   "execution_count": 122,
   "id": "d6b19afd",
   "metadata": {},
   "outputs": [
    {
     "name": "stderr",
     "output_type": "stream",
     "text": [
      "<>:1: DeprecationWarning: invalid escape sequence \\d\n",
      "<>:1: DeprecationWarning: invalid escape sequence \\d\n",
      "<ipython-input-122-32c628086e49>:1: DeprecationWarning: invalid escape sequence \\d\n",
      "  validator.expect_column_values_to_match_regex(column='time_utc', mostly=1.0, regex='(?:25[0-5]|2[0-4]\\d|[01]\\d{2}|\\d{1,2})(?:.(?:25[0-5]|2[0-4]\\d|[01]\\d{2}|\\d{1,2})){3}', meta={'profiler_details': {'evaluated_regexes': {'(?:25[0-5]|2[0-4]\\\\d|[01]\\\\d{2}|\\\\d{1,2})(?:.(?:25[0-5]|2[0-4]\\\\d|[01]\\\\d{2}|\\\\d{1,2})){3}': 1.0, '-?\\\\d+': 1.0, '-?\\\\d+(?:\\\\.\\\\d*)?': 1.0, '<\\\\/?(?:p|a|b|img)(?: \\\\/)?>': 0.0, '[A-Za-z0-9\\\\.,;:!?()\\\\\"\\'%\\\\-]+': 1.0, '\\\\b[0-9a-fA-F]{8}\\\\b-[0-9a-fA-F]{4}-[0-5][0-9a-fA-F]{3}-[089ab][0-9a-fA-F]{3}-\\\\b[0-9a-fA-F]{12}\\\\b ': 0.0, '\\\\d+': 1.0, '\\\\s+$': 0.0, '^\\\\s+': 0.0, 'https?:\\\\/\\\\/(?:www\\\\.)?[-a-zA-Z0-9@:%._\\\\+~#=]{2,255}\\\\.[a-z]{2,6}\\\\b(?:[-a-zA-Z0-9@:%_\\\\+.~#()?&//=]*)': 0.0}, 'success_ratio': 1.0}})\n"
     ]
    },
    {
     "data": {
      "application/json": {
       "ascii": false,
       "bar_format": null,
       "colour": null,
       "elapsed": 0.012271881103515625,
       "initial": 0,
       "n": 0,
       "ncols": null,
       "nrows": null,
       "postfix": null,
       "prefix": "Calculating Metrics",
       "rate": null,
       "total": 8,
       "unit": "it",
       "unit_divisor": 1000,
       "unit_scale": false
      },
      "application/vnd.jupyter.widget-view+json": {
       "model_id": "7729e3ae4627436f9013579088c12be4",
       "version_major": 2,
       "version_minor": 0
      },
      "text/plain": [
       "Calculating Metrics:   0%|          | 0/8 [00:00<?, ?it/s]"
      ]
     },
     "metadata": {},
     "output_type": "display_data"
    },
    {
     "data": {
      "text/plain": [
       "{\n",
       "  \"success\": true,\n",
       "  \"result\": {\n",
       "    \"element_count\": 76004,\n",
       "    \"unexpected_count\": 0,\n",
       "    \"unexpected_percent\": 0.0,\n",
       "    \"partial_unexpected_list\": [],\n",
       "    \"missing_count\": 0,\n",
       "    \"missing_percent\": 0.0,\n",
       "    \"unexpected_percent_total\": 0.0,\n",
       "    \"unexpected_percent_nonmissing\": 0.0\n",
       "  },\n",
       "  \"meta\": {},\n",
       "  \"exception_info\": {\n",
       "    \"raised_exception\": false,\n",
       "    \"exception_traceback\": null,\n",
       "    \"exception_message\": null\n",
       "  }\n",
       "}"
      ]
     },
     "execution_count": 122,
     "metadata": {},
     "output_type": "execute_result"
    }
   ],
   "source": [
    "\n",
    "validator.expect_column_values_to_match_regex(column='time_utc', mostly=1.0, regex='(?:25[0-5]|2[0-4]\\d|[01]\\d{2}|\\d{1,2})(?:.(?:25[0-5]|2[0-4]\\d|[01]\\d{2}|\\d{1,2})){3}', meta={'profiler_details': {'evaluated_regexes': {'(?:25[0-5]|2[0-4]\\\\d|[01]\\\\d{2}|\\\\d{1,2})(?:.(?:25[0-5]|2[0-4]\\\\d|[01]\\\\d{2}|\\\\d{1,2})){3}': 1.0, '-?\\\\d+': 1.0, '-?\\\\d+(?:\\\\.\\\\d*)?': 1.0, '<\\\\/?(?:p|a|b|img)(?: \\\\/)?>': 0.0, '[A-Za-z0-9\\\\.,;:!?()\\\\\"\\'%\\\\-]+': 1.0, '\\\\b[0-9a-fA-F]{8}\\\\b-[0-9a-fA-F]{4}-[0-5][0-9a-fA-F]{3}-[089ab][0-9a-fA-F]{3}-\\\\b[0-9a-fA-F]{12}\\\\b ': 0.0, '\\\\d+': 1.0, '\\\\s+$': 0.0, '^\\\\s+': 0.0, 'https?:\\\\/\\\\/(?:www\\\\.)?[-a-zA-Z0-9@:%._\\\\+~#=]{2,255}\\\\.[a-z]{2,6}\\\\b(?:[-a-zA-Z0-9@:%_\\\\+.~#()?&//=]*)': 0.0}, 'success_ratio': 1.0}})"
   ]
  },
  {
   "cell_type": "markdown",
   "id": "1611be41",
   "metadata": {},
   "source": [
    "#### `llcrnrlat`"
   ]
  },
  {
   "cell_type": "code",
   "execution_count": 123,
   "id": "dc0e3ec4",
   "metadata": {},
   "outputs": [
    {
     "data": {
      "application/json": {
       "ascii": false,
       "bar_format": null,
       "colour": null,
       "elapsed": 0.01394796371459961,
       "initial": 0,
       "n": 0,
       "ncols": null,
       "nrows": null,
       "postfix": null,
       "prefix": "Calculating Metrics",
       "rate": null,
       "total": 6,
       "unit": "it",
       "unit_divisor": 1000,
       "unit_scale": false
      },
      "application/vnd.jupyter.widget-view+json": {
       "model_id": "c7cb7e25ca7a456b9512c476fd5d63a9",
       "version_major": 2,
       "version_minor": 0
      },
      "text/plain": [
       "Calculating Metrics:   0%|          | 0/6 [00:00<?, ?it/s]"
      ]
     },
     "metadata": {},
     "output_type": "display_data"
    },
    {
     "data": {
      "text/plain": [
       "{\n",
       "  \"success\": true,\n",
       "  \"result\": {\n",
       "    \"element_count\": 76004,\n",
       "    \"unexpected_count\": 0,\n",
       "    \"unexpected_percent\": 0.0,\n",
       "    \"partial_unexpected_list\": []\n",
       "  },\n",
       "  \"meta\": {},\n",
       "  \"exception_info\": {\n",
       "    \"raised_exception\": false,\n",
       "    \"exception_traceback\": null,\n",
       "    \"exception_message\": null\n",
       "  }\n",
       "}"
      ]
     },
     "execution_count": 123,
     "metadata": {},
     "output_type": "execute_result"
    }
   ],
   "source": [
    "\n",
    "validator.expect_column_values_to_not_be_null(column='llcrnrlat', meta={'profiler_details': {'metric_configuration': {'domain_kwargs': {'column': 'llcrnrlat'}, 'metric_dependencies': None, 'metric_name': 'column_values.nonnull.unexpected_count', 'metric_value_kwargs': None}, 'num_batches': 1}})"
   ]
  },
  {
   "cell_type": "code",
   "execution_count": 124,
   "id": "93c4986c",
   "metadata": {},
   "outputs": [
    {
     "data": {
      "application/json": {
       "ascii": false,
       "bar_format": null,
       "colour": null,
       "elapsed": 0.012960672378540039,
       "initial": 0,
       "n": 0,
       "ncols": null,
       "nrows": null,
       "postfix": null,
       "prefix": "Calculating Metrics",
       "rate": null,
       "total": 4,
       "unit": "it",
       "unit_divisor": 1000,
       "unit_scale": false
      },
      "application/vnd.jupyter.widget-view+json": {
       "model_id": "feceec88bd29421da9d2b9811017a75f",
       "version_major": 2,
       "version_minor": 0
      },
      "text/plain": [
       "Calculating Metrics:   0%|          | 0/4 [00:00<?, ?it/s]"
      ]
     },
     "metadata": {},
     "output_type": "display_data"
    },
    {
     "data": {
      "text/plain": [
       "{\n",
       "  \"success\": true,\n",
       "  \"result\": {\n",
       "    \"observed_value\": 22.037719406438192\n",
       "  },\n",
       "  \"meta\": {},\n",
       "  \"exception_info\": {\n",
       "    \"raised_exception\": false,\n",
       "    \"exception_traceback\": null,\n",
       "    \"exception_message\": null\n",
       "  }\n",
       "}"
      ]
     },
     "execution_count": 124,
     "metadata": {},
     "output_type": "execute_result"
    }
   ],
   "source": [
    "\n",
    "validator.expect_column_min_to_be_between(column='llcrnrlat', max_value=22.037719406438192, min_value=22.037719406438192, strict_max=False, strict_min=False, meta={'profiler_details': {'metric_configuration': {'domain_kwargs': {'column': 'llcrnrlat'}, 'metric_dependencies': None, 'metric_name': 'column.min', 'metric_value_kwargs': None}, 'num_batches': 1}})"
   ]
  },
  {
   "cell_type": "code",
   "execution_count": 125,
   "id": "4d3c211d",
   "metadata": {},
   "outputs": [
    {
     "data": {
      "application/json": {
       "ascii": false,
       "bar_format": null,
       "colour": null,
       "elapsed": 0.012814760208129883,
       "initial": 0,
       "n": 0,
       "ncols": null,
       "nrows": null,
       "postfix": null,
       "prefix": "Calculating Metrics",
       "rate": null,
       "total": 4,
       "unit": "it",
       "unit_divisor": 1000,
       "unit_scale": false
      },
      "application/vnd.jupyter.widget-view+json": {
       "model_id": "8997369b930a406caeba693f30f3b794",
       "version_major": 2,
       "version_minor": 0
      },
      "text/plain": [
       "Calculating Metrics:   0%|          | 0/4 [00:00<?, ?it/s]"
      ]
     },
     "metadata": {},
     "output_type": "display_data"
    },
    {
     "data": {
      "text/plain": [
       "{\n",
       "  \"success\": true,\n",
       "  \"result\": {\n",
       "    \"observed_value\": 47.6451952545839\n",
       "  },\n",
       "  \"meta\": {},\n",
       "  \"exception_info\": {\n",
       "    \"raised_exception\": false,\n",
       "    \"exception_traceback\": null,\n",
       "    \"exception_message\": null\n",
       "  }\n",
       "}"
      ]
     },
     "execution_count": 125,
     "metadata": {},
     "output_type": "execute_result"
    }
   ],
   "source": [
    "\n",
    "validator.expect_column_max_to_be_between(column='llcrnrlat', max_value=47.6451952545839, min_value=47.6451952545839, strict_max=False, strict_min=False, meta={'profiler_details': {'metric_configuration': {'domain_kwargs': {'column': 'llcrnrlat'}, 'metric_dependencies': None, 'metric_name': 'column.max', 'metric_value_kwargs': None}, 'num_batches': 1}})"
   ]
  },
  {
   "cell_type": "code",
   "execution_count": 126,
   "id": "3cd36723",
   "metadata": {},
   "outputs": [
    {
     "data": {
      "application/json": {
       "ascii": false,
       "bar_format": null,
       "colour": null,
       "elapsed": 0.013107061386108398,
       "initial": 0,
       "n": 0,
       "ncols": null,
       "nrows": null,
       "postfix": null,
       "prefix": "Calculating Metrics",
       "rate": null,
       "total": 8,
       "unit": "it",
       "unit_divisor": 1000,
       "unit_scale": false
      },
      "application/vnd.jupyter.widget-view+json": {
       "model_id": "547eda4117894cf8a166a724d1892c68",
       "version_major": 2,
       "version_minor": 0
      },
      "text/plain": [
       "Calculating Metrics:   0%|          | 0/8 [00:00<?, ?it/s]"
      ]
     },
     "metadata": {},
     "output_type": "display_data"
    },
    {
     "data": {
      "text/plain": [
       "{\n",
       "  \"success\": true,\n",
       "  \"result\": {\n",
       "    \"element_count\": 76004,\n",
       "    \"unexpected_count\": 0,\n",
       "    \"unexpected_percent\": 0.0,\n",
       "    \"partial_unexpected_list\": [],\n",
       "    \"missing_count\": 0,\n",
       "    \"missing_percent\": 0.0,\n",
       "    \"unexpected_percent_total\": 0.0,\n",
       "    \"unexpected_percent_nonmissing\": 0.0\n",
       "  },\n",
       "  \"meta\": {},\n",
       "  \"exception_info\": {\n",
       "    \"raised_exception\": false,\n",
       "    \"exception_traceback\": null,\n",
       "    \"exception_message\": null\n",
       "  }\n",
       "}"
      ]
     },
     "execution_count": 126,
     "metadata": {},
     "output_type": "execute_result"
    }
   ],
   "source": [
    "\n",
    "validator.expect_column_values_to_be_between(column='llcrnrlat', max_value=47.6451952545839, min_value=22.037719406438192, mostly=1.0, strict_max=False, strict_min=False, meta={'profiler_details': {'column_max_values_range_estimator': {'metric_configuration': {'domain_kwargs': {'column': 'llcrnrlat'}, 'metric_dependencies': None, 'metric_name': 'column.max', 'metric_value_kwargs': None}, 'num_batches': 1}, 'column_min_values_range_estimator': {'metric_configuration': {'domain_kwargs': {'column': 'llcrnrlat'}, 'metric_dependencies': None, 'metric_name': 'column.min', 'metric_value_kwargs': None}, 'num_batches': 1}}})"
   ]
  },
  {
   "cell_type": "code",
   "execution_count": 127,
   "id": "674191be",
   "metadata": {},
   "outputs": [
    {
     "data": {
      "application/json": {
       "ascii": false,
       "bar_format": null,
       "colour": null,
       "elapsed": 0.011613130569458008,
       "initial": 0,
       "n": 0,
       "ncols": null,
       "nrows": null,
       "postfix": null,
       "prefix": "Calculating Metrics",
       "rate": null,
       "total": 4,
       "unit": "it",
       "unit_divisor": 1000,
       "unit_scale": false
      },
      "application/vnd.jupyter.widget-view+json": {
       "model_id": "5de9770a668b45f794793f1e6021b79c",
       "version_major": 2,
       "version_minor": 0
      },
      "text/plain": [
       "Calculating Metrics:   0%|          | 0/4 [00:00<?, ?it/s]"
      ]
     },
     "metadata": {},
     "output_type": "display_data"
    },
    {
     "data": {
      "text/plain": [
       "{\n",
       "  \"success\": true,\n",
       "  \"result\": {\n",
       "    \"observed_value\": {\n",
       "      \"quantiles\": [\n",
       "        0.25,\n",
       "        0.5,\n",
       "        0.75\n",
       "      ],\n",
       "      \"values\": [\n",
       "        31.504089053000357,\n",
       "        35.90351723295371,\n",
       "        40.25077938682679\n",
       "      ]\n",
       "    },\n",
       "    \"details\": {\n",
       "      \"success_details\": [\n",
       "        true,\n",
       "        true,\n",
       "        true\n",
       "      ]\n",
       "    }\n",
       "  },\n",
       "  \"meta\": {},\n",
       "  \"exception_info\": {\n",
       "    \"raised_exception\": false,\n",
       "    \"exception_traceback\": null,\n",
       "    \"exception_message\": null\n",
       "  }\n",
       "}"
      ]
     },
     "execution_count": 127,
     "metadata": {},
     "output_type": "execute_result"
    }
   ],
   "source": [
    "\n",
    "validator.expect_column_quantile_values_to_be_between(column='llcrnrlat', allow_relative_error=False, quantile_ranges={'quantiles': [0.25, 0.5, 0.75], 'value_ranges': [[31.504089053000357, 31.504089053000357], [35.90351723295371, 35.90351723295371], [40.25077938682679, 40.25077938682679]]}, meta={'profiler_details': {'metric_configuration': {'domain_kwargs': {'column': 'llcrnrlat'}, 'metric_dependencies': None, 'metric_name': 'column.quantile_values', 'metric_value_kwargs': {'allow_relative_error': False, 'quantiles': [0.25, 0.5, 0.75]}}, 'num_batches': 1}})"
   ]
  },
  {
   "cell_type": "code",
   "execution_count": 128,
   "id": "5888ff29",
   "metadata": {},
   "outputs": [
    {
     "data": {
      "application/json": {
       "ascii": false,
       "bar_format": null,
       "colour": null,
       "elapsed": 0.012044906616210938,
       "initial": 0,
       "n": 0,
       "ncols": null,
       "nrows": null,
       "postfix": null,
       "prefix": "Calculating Metrics",
       "rate": null,
       "total": 4,
       "unit": "it",
       "unit_divisor": 1000,
       "unit_scale": false
      },
      "application/vnd.jupyter.widget-view+json": {
       "model_id": "1499ac56d5b94e63bf380ae4ae69e192",
       "version_major": 2,
       "version_minor": 0
      },
      "text/plain": [
       "Calculating Metrics:   0%|          | 0/4 [00:00<?, ?it/s]"
      ]
     },
     "metadata": {},
     "output_type": "display_data"
    },
    {
     "data": {
      "text/plain": [
       "{\n",
       "  \"success\": true,\n",
       "  \"result\": {\n",
       "    \"observed_value\": 35.90351723295371\n",
       "  },\n",
       "  \"meta\": {},\n",
       "  \"exception_info\": {\n",
       "    \"raised_exception\": false,\n",
       "    \"exception_traceback\": null,\n",
       "    \"exception_message\": null\n",
       "  }\n",
       "}"
      ]
     },
     "execution_count": 128,
     "metadata": {},
     "output_type": "execute_result"
    }
   ],
   "source": [
    "\n",
    "validator.expect_column_median_to_be_between(column='llcrnrlat', max_value=35.90351723295371, min_value=35.90351723295371, strict_max=False, strict_min=False, meta={'profiler_details': {'metric_configuration': {'domain_kwargs': {'column': 'llcrnrlat'}, 'metric_dependencies': None, 'metric_name': 'column.median', 'metric_value_kwargs': None}, 'num_batches': 1}})"
   ]
  },
  {
   "cell_type": "code",
   "execution_count": 129,
   "id": "8aa1c3b8",
   "metadata": {},
   "outputs": [
    {
     "name": "stderr",
     "output_type": "stream",
     "text": [
      "/Users/adh.arash/Downloads/conda/lib/python3.9/site-packages/ipykernel/ipkernel.py:283: DeprecationWarning: `should_run_async` will not call `transform_cell` automatically in the future. Please pass the result to `transformed_cell` argument and any exception that happen during thetransform in `preprocessing_exc_tuple` in IPython 7.17 and above.\n",
      "  and should_run_async(code)\n"
     ]
    },
    {
     "data": {
      "application/json": {
       "ascii": false,
       "bar_format": null,
       "colour": null,
       "elapsed": 0.012527227401733398,
       "initial": 0,
       "n": 0,
       "ncols": null,
       "nrows": null,
       "postfix": null,
       "prefix": "Calculating Metrics",
       "rate": null,
       "total": 4,
       "unit": "it",
       "unit_divisor": 1000,
       "unit_scale": false
      },
      "application/vnd.jupyter.widget-view+json": {
       "model_id": "e62cbdc1ef614920a3c4b8f0902ba68c",
       "version_major": 2,
       "version_minor": 0
      },
      "text/plain": [
       "Calculating Metrics:   0%|          | 0/4 [00:00<?, ?it/s]"
      ]
     },
     "metadata": {},
     "output_type": "display_data"
    },
    {
     "data": {
      "text/plain": [
       "{\n",
       "  \"success\": true,\n",
       "  \"result\": {\n",
       "    \"observed_value\": 35.88721299948105\n",
       "  },\n",
       "  \"meta\": {},\n",
       "  \"exception_info\": {\n",
       "    \"raised_exception\": false,\n",
       "    \"exception_traceback\": null,\n",
       "    \"exception_message\": null\n",
       "  }\n",
       "}"
      ]
     },
     "execution_count": 129,
     "metadata": {},
     "output_type": "execute_result"
    }
   ],
   "source": [
    "\n",
    "validator.expect_column_mean_to_be_between(column='llcrnrlat', max_value=35.88721299948105, min_value=35.88721299948105, strict_max=False, strict_min=False, meta={'profiler_details': {'metric_configuration': {'domain_kwargs': {'column': 'llcrnrlat'}, 'metric_dependencies': None, 'metric_name': 'column.mean', 'metric_value_kwargs': None}, 'num_batches': 1}})"
   ]
  },
  {
   "cell_type": "code",
   "execution_count": 130,
   "id": "7a0869dc",
   "metadata": {},
   "outputs": [
    {
     "data": {
      "application/json": {
       "ascii": false,
       "bar_format": null,
       "colour": null,
       "elapsed": 0.023977994918823242,
       "initial": 0,
       "n": 0,
       "ncols": null,
       "nrows": null,
       "postfix": null,
       "prefix": "Calculating Metrics",
       "rate": null,
       "total": 4,
       "unit": "it",
       "unit_divisor": 1000,
       "unit_scale": false
      },
      "application/vnd.jupyter.widget-view+json": {
       "model_id": "18c09dbba9bd49d29fb6912344c88078",
       "version_major": 2,
       "version_minor": 0
      },
      "text/plain": [
       "Calculating Metrics:   0%|          | 0/4 [00:00<?, ?it/s]"
      ]
     },
     "metadata": {},
     "output_type": "display_data"
    },
    {
     "data": {
      "text/plain": [
       "{\n",
       "  \"success\": true,\n",
       "  \"result\": {\n",
       "    \"observed_value\": 5.594122687133442\n",
       "  },\n",
       "  \"meta\": {},\n",
       "  \"exception_info\": {\n",
       "    \"raised_exception\": false,\n",
       "    \"exception_traceback\": null,\n",
       "    \"exception_message\": null\n",
       "  }\n",
       "}"
      ]
     },
     "execution_count": 130,
     "metadata": {},
     "output_type": "execute_result"
    }
   ],
   "source": [
    "\n",
    "validator.expect_column_stdev_to_be_between(column='llcrnrlat', max_value=5.594122687133442, min_value=5.594122687133442, strict_max=False, strict_min=False, meta={'profiler_details': {'metric_configuration': {'domain_kwargs': {'column': 'llcrnrlat'}, 'metric_dependencies': None, 'metric_name': 'column.standard_deviation', 'metric_value_kwargs': None}, 'num_batches': 1}})"
   ]
  },
  {
   "cell_type": "markdown",
   "id": "80947b01",
   "metadata": {},
   "source": [
    "#### `llcrnrlon`"
   ]
  },
  {
   "cell_type": "code",
   "execution_count": 131,
   "id": "8b9571c9",
   "metadata": {},
   "outputs": [
    {
     "data": {
      "application/json": {
       "ascii": false,
       "bar_format": null,
       "colour": null,
       "elapsed": 0.016789913177490234,
       "initial": 0,
       "n": 0,
       "ncols": null,
       "nrows": null,
       "postfix": null,
       "prefix": "Calculating Metrics",
       "rate": null,
       "total": 6,
       "unit": "it",
       "unit_divisor": 1000,
       "unit_scale": false
      },
      "application/vnd.jupyter.widget-view+json": {
       "model_id": "0b7019ea9c3647c5b55434ae00d19629",
       "version_major": 2,
       "version_minor": 0
      },
      "text/plain": [
       "Calculating Metrics:   0%|          | 0/6 [00:00<?, ?it/s]"
      ]
     },
     "metadata": {},
     "output_type": "display_data"
    },
    {
     "name": "stderr",
     "output_type": "stream",
     "text": [
      "/Users/adh.arash/Downloads/conda/lib/python3.9/site-packages/great_expectations/expectations/metrics/map_metric_provider.py:1428: FutureWarning: The behavior of `series[i:j]` with an integer-dtype index is deprecated. In a future version, this will be treated as *label-based* indexing, consistent with e.g. `series[i]` lookups. To retain the old behavior, use `series.iloc[i:j]`. To get the future behavior, use `series.loc[i:j]`.\n",
      "  return list(domain_values[: result_format[\"partial_unexpected_count\"]])\n"
     ]
    },
    {
     "data": {
      "text/plain": [
       "{\n",
       "  \"success\": true,\n",
       "  \"result\": {\n",
       "    \"element_count\": 76004,\n",
       "    \"unexpected_count\": 0,\n",
       "    \"unexpected_percent\": 0.0,\n",
       "    \"partial_unexpected_list\": []\n",
       "  },\n",
       "  \"meta\": {},\n",
       "  \"exception_info\": {\n",
       "    \"raised_exception\": false,\n",
       "    \"exception_traceback\": null,\n",
       "    \"exception_message\": null\n",
       "  }\n",
       "}"
      ]
     },
     "execution_count": 131,
     "metadata": {},
     "output_type": "execute_result"
    }
   ],
   "source": [
    "\n",
    "validator.expect_column_values_to_not_be_null(column='llcrnrlon', meta={'profiler_details': {'metric_configuration': {'domain_kwargs': {'column': 'llcrnrlon'}, 'metric_dependencies': None, 'metric_name': 'column_values.nonnull.unexpected_count', 'metric_value_kwargs': None}, 'num_batches': 1}})"
   ]
  },
  {
   "cell_type": "code",
   "execution_count": 132,
   "id": "945557ea",
   "metadata": {},
   "outputs": [
    {
     "data": {
      "application/json": {
       "ascii": false,
       "bar_format": null,
       "colour": null,
       "elapsed": 0.015047073364257812,
       "initial": 0,
       "n": 0,
       "ncols": null,
       "nrows": null,
       "postfix": null,
       "prefix": "Calculating Metrics",
       "rate": null,
       "total": 4,
       "unit": "it",
       "unit_divisor": 1000,
       "unit_scale": false
      },
      "application/vnd.jupyter.widget-view+json": {
       "model_id": "18673a3bf37f4f36ad50b6add332a552",
       "version_major": 2,
       "version_minor": 0
      },
      "text/plain": [
       "Calculating Metrics:   0%|          | 0/4 [00:00<?, ?it/s]"
      ]
     },
     "metadata": {},
     "output_type": "display_data"
    },
    {
     "data": {
      "text/plain": [
       "{\n",
       "  \"success\": true,\n",
       "  \"result\": {\n",
       "    \"observed_value\": -127.23602309043991\n",
       "  },\n",
       "  \"meta\": {},\n",
       "  \"exception_info\": {\n",
       "    \"raised_exception\": false,\n",
       "    \"exception_traceback\": null,\n",
       "    \"exception_message\": null\n",
       "  }\n",
       "}"
      ]
     },
     "execution_count": 132,
     "metadata": {},
     "output_type": "execute_result"
    }
   ],
   "source": [
    "\n",
    "validator.expect_column_min_to_be_between(column='llcrnrlon', max_value=-127.23602309043991, min_value=-127.23602309043991, strict_max=False, strict_min=False, meta={'profiler_details': {'metric_configuration': {'domain_kwargs': {'column': 'llcrnrlon'}, 'metric_dependencies': None, 'metric_name': 'column.min', 'metric_value_kwargs': None}, 'num_batches': 1}})"
   ]
  },
  {
   "cell_type": "code",
   "execution_count": 133,
   "id": "89b21979",
   "metadata": {},
   "outputs": [
    {
     "data": {
      "application/json": {
       "ascii": false,
       "bar_format": null,
       "colour": null,
       "elapsed": 0.017737865447998047,
       "initial": 0,
       "n": 0,
       "ncols": null,
       "nrows": null,
       "postfix": null,
       "prefix": "Calculating Metrics",
       "rate": null,
       "total": 4,
       "unit": "it",
       "unit_divisor": 1000,
       "unit_scale": false
      },
      "application/vnd.jupyter.widget-view+json": {
       "model_id": "97bd1c12b4414f4ab6c4ee0569d5e066",
       "version_major": 2,
       "version_minor": 0
      },
      "text/plain": [
       "Calculating Metrics:   0%|          | 0/4 [00:00<?, ?it/s]"
      ]
     },
     "metadata": {},
     "output_type": "display_data"
    },
    {
     "data": {
      "text/plain": [
       "{\n",
       "  \"success\": true,\n",
       "  \"result\": {\n",
       "    \"observed_value\": -69.59615266178442\n",
       "  },\n",
       "  \"meta\": {},\n",
       "  \"exception_info\": {\n",
       "    \"raised_exception\": false,\n",
       "    \"exception_traceback\": null,\n",
       "    \"exception_message\": null\n",
       "  }\n",
       "}"
      ]
     },
     "execution_count": 133,
     "metadata": {},
     "output_type": "execute_result"
    }
   ],
   "source": [
    "\n",
    "validator.expect_column_max_to_be_between(column='llcrnrlon', max_value=-69.59615266178442, min_value=-69.59615266178442, strict_max=False, strict_min=False, meta={'profiler_details': {'metric_configuration': {'domain_kwargs': {'column': 'llcrnrlon'}, 'metric_dependencies': None, 'metric_name': 'column.max', 'metric_value_kwargs': None}, 'num_batches': 1}})"
   ]
  },
  {
   "cell_type": "code",
   "execution_count": 134,
   "id": "1345d2d4",
   "metadata": {},
   "outputs": [
    {
     "data": {
      "application/json": {
       "ascii": false,
       "bar_format": null,
       "colour": null,
       "elapsed": 0.020782947540283203,
       "initial": 0,
       "n": 0,
       "ncols": null,
       "nrows": null,
       "postfix": null,
       "prefix": "Calculating Metrics",
       "rate": null,
       "total": 8,
       "unit": "it",
       "unit_divisor": 1000,
       "unit_scale": false
      },
      "application/vnd.jupyter.widget-view+json": {
       "model_id": "61612760ccb7482e8912457037cd736e",
       "version_major": 2,
       "version_minor": 0
      },
      "text/plain": [
       "Calculating Metrics:   0%|          | 0/8 [00:00<?, ?it/s]"
      ]
     },
     "metadata": {},
     "output_type": "display_data"
    },
    {
     "data": {
      "text/plain": [
       "{\n",
       "  \"success\": true,\n",
       "  \"result\": {\n",
       "    \"element_count\": 76004,\n",
       "    \"unexpected_count\": 0,\n",
       "    \"unexpected_percent\": 0.0,\n",
       "    \"partial_unexpected_list\": [],\n",
       "    \"missing_count\": 0,\n",
       "    \"missing_percent\": 0.0,\n",
       "    \"unexpected_percent_total\": 0.0,\n",
       "    \"unexpected_percent_nonmissing\": 0.0\n",
       "  },\n",
       "  \"meta\": {},\n",
       "  \"exception_info\": {\n",
       "    \"raised_exception\": false,\n",
       "    \"exception_traceback\": null,\n",
       "    \"exception_message\": null\n",
       "  }\n",
       "}"
      ]
     },
     "execution_count": 134,
     "metadata": {},
     "output_type": "execute_result"
    }
   ],
   "source": [
    "\n",
    "validator.expect_column_values_to_be_between(column='llcrnrlon', max_value=-69.59615266178442, min_value=-127.23602309043991, mostly=1.0, strict_max=False, strict_min=False, meta={'profiler_details': {'column_max_values_range_estimator': {'metric_configuration': {'domain_kwargs': {'column': 'llcrnrlon'}, 'metric_dependencies': None, 'metric_name': 'column.max', 'metric_value_kwargs': None}, 'num_batches': 1}, 'column_min_values_range_estimator': {'metric_configuration': {'domain_kwargs': {'column': 'llcrnrlon'}, 'metric_dependencies': None, 'metric_name': 'column.min', 'metric_value_kwargs': None}, 'num_batches': 1}}})"
   ]
  },
  {
   "cell_type": "code",
   "execution_count": 135,
   "id": "84fb8192",
   "metadata": {},
   "outputs": [
    {
     "data": {
      "application/json": {
       "ascii": false,
       "bar_format": null,
       "colour": null,
       "elapsed": 0.029153108596801758,
       "initial": 0,
       "n": 0,
       "ncols": null,
       "nrows": null,
       "postfix": null,
       "prefix": "Calculating Metrics",
       "rate": null,
       "total": 4,
       "unit": "it",
       "unit_divisor": 1000,
       "unit_scale": false
      },
      "application/vnd.jupyter.widget-view+json": {
       "model_id": "f5534488754e4c37849f10858fc2147e",
       "version_major": 2,
       "version_minor": 0
      },
      "text/plain": [
       "Calculating Metrics:   0%|          | 0/4 [00:00<?, ?it/s]"
      ]
     },
     "metadata": {},
     "output_type": "display_data"
    },
    {
     "data": {
      "text/plain": [
       "{\n",
       "  \"success\": true,\n",
       "  \"result\": {\n",
       "    \"observed_value\": {\n",
       "      \"quantiles\": [\n",
       "        0.25,\n",
       "        0.5,\n",
       "        0.75\n",
       "      ],\n",
       "      \"values\": [\n",
       "        -101.95866854645936,\n",
       "        -93.61010329974404,\n",
       "        -85.50213715244381\n",
       "      ]\n",
       "    },\n",
       "    \"details\": {\n",
       "      \"success_details\": [\n",
       "        true,\n",
       "        true,\n",
       "        true\n",
       "      ]\n",
       "    }\n",
       "  },\n",
       "  \"meta\": {},\n",
       "  \"exception_info\": {\n",
       "    \"raised_exception\": false,\n",
       "    \"exception_traceback\": null,\n",
       "    \"exception_message\": null\n",
       "  }\n",
       "}"
      ]
     },
     "execution_count": 135,
     "metadata": {},
     "output_type": "execute_result"
    }
   ],
   "source": [
    "\n",
    "validator.expect_column_quantile_values_to_be_between(column='llcrnrlon', allow_relative_error=False, quantile_ranges={'quantiles': [0.25, 0.5, 0.75], 'value_ranges': [[-101.95866854645936, -101.95866854645936], [-93.61010329974404, -93.61010329974404], [-85.50213715244381, -85.50213715244381]]}, meta={'profiler_details': {'metric_configuration': {'domain_kwargs': {'column': 'llcrnrlon'}, 'metric_dependencies': None, 'metric_name': 'column.quantile_values', 'metric_value_kwargs': {'allow_relative_error': False, 'quantiles': [0.25, 0.5, 0.75]}}, 'num_batches': 1}})"
   ]
  },
  {
   "cell_type": "code",
   "execution_count": 136,
   "id": "1d4fe416",
   "metadata": {},
   "outputs": [
    {
     "data": {
      "application/json": {
       "ascii": false,
       "bar_format": null,
       "colour": null,
       "elapsed": 0.02526402473449707,
       "initial": 0,
       "n": 0,
       "ncols": null,
       "nrows": null,
       "postfix": null,
       "prefix": "Calculating Metrics",
       "rate": null,
       "total": 4,
       "unit": "it",
       "unit_divisor": 1000,
       "unit_scale": false
      },
      "application/vnd.jupyter.widget-view+json": {
       "model_id": "a55de808f35045e2a5dbd5e41d42531b",
       "version_major": 2,
       "version_minor": 0
      },
      "text/plain": [
       "Calculating Metrics:   0%|          | 0/4 [00:00<?, ?it/s]"
      ]
     },
     "metadata": {},
     "output_type": "display_data"
    },
    {
     "data": {
      "text/plain": [
       "{\n",
       "  \"success\": true,\n",
       "  \"result\": {\n",
       "    \"observed_value\": -93.61010329974404\n",
       "  },\n",
       "  \"meta\": {},\n",
       "  \"exception_info\": {\n",
       "    \"raised_exception\": false,\n",
       "    \"exception_traceback\": null,\n",
       "    \"exception_message\": null\n",
       "  }\n",
       "}"
      ]
     },
     "execution_count": 136,
     "metadata": {},
     "output_type": "execute_result"
    }
   ],
   "source": [
    "\n",
    "validator.expect_column_median_to_be_between(column='llcrnrlon', max_value=-93.61010329974404, min_value=-93.61010329974404, strict_max=False, strict_min=False, meta={'profiler_details': {'metric_configuration': {'domain_kwargs': {'column': 'llcrnrlon'}, 'metric_dependencies': None, 'metric_name': 'column.median', 'metric_value_kwargs': None}, 'num_batches': 1}})"
   ]
  },
  {
   "cell_type": "code",
   "execution_count": 137,
   "id": "75efb5cf",
   "metadata": {},
   "outputs": [
    {
     "name": "stderr",
     "output_type": "stream",
     "text": [
      "/Users/adh.arash/Downloads/conda/lib/python3.9/site-packages/ipykernel/ipkernel.py:283: DeprecationWarning: `should_run_async` will not call `transform_cell` automatically in the future. Please pass the result to `transformed_cell` argument and any exception that happen during thetransform in `preprocessing_exc_tuple` in IPython 7.17 and above.\n",
      "  and should_run_async(code)\n"
     ]
    },
    {
     "data": {
      "application/json": {
       "ascii": false,
       "bar_format": null,
       "colour": null,
       "elapsed": 0.024611949920654297,
       "initial": 0,
       "n": 0,
       "ncols": null,
       "nrows": null,
       "postfix": null,
       "prefix": "Calculating Metrics",
       "rate": null,
       "total": 4,
       "unit": "it",
       "unit_divisor": 1000,
       "unit_scale": false
      },
      "application/vnd.jupyter.widget-view+json": {
       "model_id": "c60c61379ddb4d6097137ed2102e7f3c",
       "version_major": 2,
       "version_minor": 0
      },
      "text/plain": [
       "Calculating Metrics:   0%|          | 0/4 [00:00<?, ?it/s]"
      ]
     },
     "metadata": {},
     "output_type": "display_data"
    },
    {
     "data": {
      "text/plain": [
       "{\n",
       "  \"success\": true,\n",
       "  \"result\": {\n",
       "    \"observed_value\": -95.09555553043528\n",
       "  },\n",
       "  \"meta\": {},\n",
       "  \"exception_info\": {\n",
       "    \"raised_exception\": false,\n",
       "    \"exception_traceback\": null,\n",
       "    \"exception_message\": null\n",
       "  }\n",
       "}"
      ]
     },
     "execution_count": 137,
     "metadata": {},
     "output_type": "execute_result"
    }
   ],
   "source": [
    "\n",
    "validator.expect_column_mean_to_be_between(column='llcrnrlon', max_value=-95.09555553043528, min_value=-95.09555553043528, strict_max=False, strict_min=False, meta={'profiler_details': {'metric_configuration': {'domain_kwargs': {'column': 'llcrnrlon'}, 'metric_dependencies': None, 'metric_name': 'column.mean', 'metric_value_kwargs': None}, 'num_batches': 1}})"
   ]
  },
  {
   "cell_type": "code",
   "execution_count": 138,
   "id": "17c14d88",
   "metadata": {},
   "outputs": [
    {
     "data": {
      "application/json": {
       "ascii": false,
       "bar_format": null,
       "colour": null,
       "elapsed": 0.018477678298950195,
       "initial": 0,
       "n": 0,
       "ncols": null,
       "nrows": null,
       "postfix": null,
       "prefix": "Calculating Metrics",
       "rate": null,
       "total": 4,
       "unit": "it",
       "unit_divisor": 1000,
       "unit_scale": false
      },
      "application/vnd.jupyter.widget-view+json": {
       "model_id": "98db6e3111924599882d42b8ca872e01",
       "version_major": 2,
       "version_minor": 0
      },
      "text/plain": [
       "Calculating Metrics:   0%|          | 0/4 [00:00<?, ?it/s]"
      ]
     },
     "metadata": {},
     "output_type": "display_data"
    },
    {
     "data": {
      "text/plain": [
       "{\n",
       "  \"success\": true,\n",
       "  \"result\": {\n",
       "    \"observed_value\": 12.521708865404335\n",
       "  },\n",
       "  \"meta\": {},\n",
       "  \"exception_info\": {\n",
       "    \"raised_exception\": false,\n",
       "    \"exception_traceback\": null,\n",
       "    \"exception_message\": null\n",
       "  }\n",
       "}"
      ]
     },
     "execution_count": 138,
     "metadata": {},
     "output_type": "execute_result"
    }
   ],
   "source": [
    "\n",
    "validator.expect_column_stdev_to_be_between(column='llcrnrlon', max_value=12.521708865404335, min_value=12.521708865404335, strict_max=False, strict_min=False, meta={'profiler_details': {'metric_configuration': {'domain_kwargs': {'column': 'llcrnrlon'}, 'metric_dependencies': None, 'metric_name': 'column.standard_deviation', 'metric_value_kwargs': None}, 'num_batches': 1}})"
   ]
  },
  {
   "cell_type": "markdown",
   "id": "b5cf5e39",
   "metadata": {},
   "source": [
    "#### `urcrnrlat`"
   ]
  },
  {
   "cell_type": "code",
   "execution_count": 139,
   "id": "a0d1371e",
   "metadata": {},
   "outputs": [
    {
     "data": {
      "application/json": {
       "ascii": false,
       "bar_format": null,
       "colour": null,
       "elapsed": 0.018829822540283203,
       "initial": 0,
       "n": 0,
       "ncols": null,
       "nrows": null,
       "postfix": null,
       "prefix": "Calculating Metrics",
       "rate": null,
       "total": 6,
       "unit": "it",
       "unit_divisor": 1000,
       "unit_scale": false
      },
      "application/vnd.jupyter.widget-view+json": {
       "model_id": "7a6573d6efdc4c19b705954a00a54b9f",
       "version_major": 2,
       "version_minor": 0
      },
      "text/plain": [
       "Calculating Metrics:   0%|          | 0/6 [00:00<?, ?it/s]"
      ]
     },
     "metadata": {},
     "output_type": "display_data"
    },
    {
     "name": "stderr",
     "output_type": "stream",
     "text": [
      "/Users/adh.arash/Downloads/conda/lib/python3.9/site-packages/great_expectations/expectations/metrics/map_metric_provider.py:1428: FutureWarning: The behavior of `series[i:j]` with an integer-dtype index is deprecated. In a future version, this will be treated as *label-based* indexing, consistent with e.g. `series[i]` lookups. To retain the old behavior, use `series.iloc[i:j]`. To get the future behavior, use `series.loc[i:j]`.\n",
      "  return list(domain_values[: result_format[\"partial_unexpected_count\"]])\n"
     ]
    },
    {
     "data": {
      "text/plain": [
       "{\n",
       "  \"success\": true,\n",
       "  \"result\": {\n",
       "    \"element_count\": 76004,\n",
       "    \"unexpected_count\": 0,\n",
       "    \"unexpected_percent\": 0.0,\n",
       "    \"partial_unexpected_list\": []\n",
       "  },\n",
       "  \"meta\": {},\n",
       "  \"exception_info\": {\n",
       "    \"raised_exception\": false,\n",
       "    \"exception_traceback\": null,\n",
       "    \"exception_message\": null\n",
       "  }\n",
       "}"
      ]
     },
     "execution_count": 139,
     "metadata": {},
     "output_type": "execute_result"
    }
   ],
   "source": [
    "\n",
    "validator.expect_column_values_to_not_be_null(column='urcrnrlat', meta={'profiler_details': {'metric_configuration': {'domain_kwargs': {'column': 'urcrnrlat'}, 'metric_dependencies': None, 'metric_name': 'column_values.nonnull.unexpected_count', 'metric_value_kwargs': None}, 'num_batches': 1}})"
   ]
  },
  {
   "cell_type": "code",
   "execution_count": 140,
   "id": "1a20e426",
   "metadata": {},
   "outputs": [
    {
     "data": {
      "application/json": {
       "ascii": false,
       "bar_format": null,
       "colour": null,
       "elapsed": 0.017683029174804688,
       "initial": 0,
       "n": 0,
       "ncols": null,
       "nrows": null,
       "postfix": null,
       "prefix": "Calculating Metrics",
       "rate": null,
       "total": 4,
       "unit": "it",
       "unit_divisor": 1000,
       "unit_scale": false
      },
      "application/vnd.jupyter.widget-view+json": {
       "model_id": "916991d52b114de08d08254b72cd5abf",
       "version_major": 2,
       "version_minor": 0
      },
      "text/plain": [
       "Calculating Metrics:   0%|          | 0/4 [00:00<?, ?it/s]"
      ]
     },
     "metadata": {},
     "output_type": "display_data"
    },
    {
     "data": {
      "text/plain": [
       "{\n",
       "  \"success\": true,\n",
       "  \"result\": {\n",
       "    \"observed_value\": 24.88471165440152\n",
       "  },\n",
       "  \"meta\": {},\n",
       "  \"exception_info\": {\n",
       "    \"raised_exception\": false,\n",
       "    \"exception_traceback\": null,\n",
       "    \"exception_message\": null\n",
       "  }\n",
       "}"
      ]
     },
     "execution_count": 140,
     "metadata": {},
     "output_type": "execute_result"
    }
   ],
   "source": [
    "\n",
    "validator.expect_column_min_to_be_between(column='urcrnrlat', max_value=24.88471165440152, min_value=24.88471165440152, strict_max=False, strict_min=False, meta={'profiler_details': {'metric_configuration': {'domain_kwargs': {'column': 'urcrnrlat'}, 'metric_dependencies': None, 'metric_name': 'column.min', 'metric_value_kwargs': None}, 'num_batches': 1}})"
   ]
  },
  {
   "cell_type": "code",
   "execution_count": 141,
   "id": "edbaf0ba",
   "metadata": {},
   "outputs": [
    {
     "data": {
      "application/json": {
       "ascii": false,
       "bar_format": null,
       "colour": null,
       "elapsed": 0.01629781723022461,
       "initial": 0,
       "n": 0,
       "ncols": null,
       "nrows": null,
       "postfix": null,
       "prefix": "Calculating Metrics",
       "rate": null,
       "total": 4,
       "unit": "it",
       "unit_divisor": 1000,
       "unit_scale": false
      },
      "application/vnd.jupyter.widget-view+json": {
       "model_id": "7b4745a67bb84ed2bbe95b4002a827d2",
       "version_major": 2,
       "version_minor": 0
      },
      "text/plain": [
       "Calculating Metrics:   0%|          | 0/4 [00:00<?, ?it/s]"
      ]
     },
     "metadata": {},
     "output_type": "display_data"
    },
    {
     "data": {
      "text/plain": [
       "{\n",
       "  \"success\": true,\n",
       "  \"result\": {\n",
       "    \"observed_value\": 51.89677240465032\n",
       "  },\n",
       "  \"meta\": {},\n",
       "  \"exception_info\": {\n",
       "    \"raised_exception\": false,\n",
       "    \"exception_traceback\": null,\n",
       "    \"exception_message\": null\n",
       "  }\n",
       "}"
      ]
     },
     "execution_count": 141,
     "metadata": {},
     "output_type": "execute_result"
    }
   ],
   "source": [
    "\n",
    "validator.expect_column_max_to_be_between(column='urcrnrlat', max_value=51.89677240465032, min_value=51.89677240465032, strict_max=False, strict_min=False, meta={'profiler_details': {'metric_configuration': {'domain_kwargs': {'column': 'urcrnrlat'}, 'metric_dependencies': None, 'metric_name': 'column.max', 'metric_value_kwargs': None}, 'num_batches': 1}})"
   ]
  },
  {
   "cell_type": "code",
   "execution_count": 142,
   "id": "f8ff19b8",
   "metadata": {},
   "outputs": [
    {
     "data": {
      "application/json": {
       "ascii": false,
       "bar_format": null,
       "colour": null,
       "elapsed": 0.012105226516723633,
       "initial": 0,
       "n": 0,
       "ncols": null,
       "nrows": null,
       "postfix": null,
       "prefix": "Calculating Metrics",
       "rate": null,
       "total": 8,
       "unit": "it",
       "unit_divisor": 1000,
       "unit_scale": false
      },
      "application/vnd.jupyter.widget-view+json": {
       "model_id": "d447f0792b3d4320b80a40971b32280f",
       "version_major": 2,
       "version_minor": 0
      },
      "text/plain": [
       "Calculating Metrics:   0%|          | 0/8 [00:00<?, ?it/s]"
      ]
     },
     "metadata": {},
     "output_type": "display_data"
    },
    {
     "data": {
      "text/plain": [
       "{\n",
       "  \"success\": true,\n",
       "  \"result\": {\n",
       "    \"element_count\": 76004,\n",
       "    \"unexpected_count\": 0,\n",
       "    \"unexpected_percent\": 0.0,\n",
       "    \"partial_unexpected_list\": [],\n",
       "    \"missing_count\": 0,\n",
       "    \"missing_percent\": 0.0,\n",
       "    \"unexpected_percent_total\": 0.0,\n",
       "    \"unexpected_percent_nonmissing\": 0.0\n",
       "  },\n",
       "  \"meta\": {},\n",
       "  \"exception_info\": {\n",
       "    \"raised_exception\": false,\n",
       "    \"exception_traceback\": null,\n",
       "    \"exception_message\": null\n",
       "  }\n",
       "}"
      ]
     },
     "execution_count": 142,
     "metadata": {},
     "output_type": "execute_result"
    }
   ],
   "source": [
    "\n",
    "validator.expect_column_values_to_be_between(column='urcrnrlat', max_value=51.89677240465032, min_value=24.88471165440152, mostly=1.0, strict_max=False, strict_min=False, meta={'profiler_details': {'column_max_values_range_estimator': {'metric_configuration': {'domain_kwargs': {'column': 'urcrnrlat'}, 'metric_dependencies': None, 'metric_name': 'column.max', 'metric_value_kwargs': None}, 'num_batches': 1}, 'column_min_values_range_estimator': {'metric_configuration': {'domain_kwargs': {'column': 'urcrnrlat'}, 'metric_dependencies': None, 'metric_name': 'column.min', 'metric_value_kwargs': None}, 'num_batches': 1}}})"
   ]
  },
  {
   "cell_type": "code",
   "execution_count": 143,
   "id": "df1d27ff",
   "metadata": {},
   "outputs": [
    {
     "data": {
      "application/json": {
       "ascii": false,
       "bar_format": null,
       "colour": null,
       "elapsed": 0.01239323616027832,
       "initial": 0,
       "n": 0,
       "ncols": null,
       "nrows": null,
       "postfix": null,
       "prefix": "Calculating Metrics",
       "rate": null,
       "total": 4,
       "unit": "it",
       "unit_divisor": 1000,
       "unit_scale": false
      },
      "application/vnd.jupyter.widget-view+json": {
       "model_id": "06ab8fef7de34585bf799b820de9a30f",
       "version_major": 2,
       "version_minor": 0
      },
      "text/plain": [
       "Calculating Metrics:   0%|          | 0/4 [00:00<?, ?it/s]"
      ]
     },
     "metadata": {},
     "output_type": "display_data"
    },
    {
     "data": {
      "text/plain": [
       "{\n",
       "  \"success\": true,\n",
       "  \"result\": {\n",
       "    \"observed_value\": {\n",
       "      \"quantiles\": [\n",
       "        0.25,\n",
       "        0.5,\n",
       "        0.75\n",
       "      ],\n",
       "      \"values\": [\n",
       "        34.78448218289119,\n",
       "        39.16108782439054,\n",
       "        43.301251558311776\n",
       "      ]\n",
       "    },\n",
       "    \"details\": {\n",
       "      \"success_details\": [\n",
       "        true,\n",
       "        true,\n",
       "        true\n",
       "      ]\n",
       "    }\n",
       "  },\n",
       "  \"meta\": {},\n",
       "  \"exception_info\": {\n",
       "    \"raised_exception\": false,\n",
       "    \"exception_traceback\": null,\n",
       "    \"exception_message\": null\n",
       "  }\n",
       "}"
      ]
     },
     "execution_count": 143,
     "metadata": {},
     "output_type": "execute_result"
    }
   ],
   "source": [
    "\n",
    "validator.expect_column_quantile_values_to_be_between(column='urcrnrlat', allow_relative_error=False, quantile_ranges={'quantiles': [0.25, 0.5, 0.75], 'value_ranges': [[34.78448218289119, 34.78448218289119], [39.16108782439054, 39.16108782439054], [43.301251558311776, 43.301251558311776]]}, meta={'profiler_details': {'metric_configuration': {'domain_kwargs': {'column': 'urcrnrlat'}, 'metric_dependencies': None, 'metric_name': 'column.quantile_values', 'metric_value_kwargs': {'allow_relative_error': False, 'quantiles': [0.25, 0.5, 0.75]}}, 'num_batches': 1}})"
   ]
  },
  {
   "cell_type": "code",
   "execution_count": 144,
   "id": "82dd7820",
   "metadata": {},
   "outputs": [
    {
     "data": {
      "application/json": {
       "ascii": false,
       "bar_format": null,
       "colour": null,
       "elapsed": 0.012705087661743164,
       "initial": 0,
       "n": 0,
       "ncols": null,
       "nrows": null,
       "postfix": null,
       "prefix": "Calculating Metrics",
       "rate": null,
       "total": 4,
       "unit": "it",
       "unit_divisor": 1000,
       "unit_scale": false
      },
      "application/vnd.jupyter.widget-view+json": {
       "model_id": "78100468ff564d9a974bb8a64be1add5",
       "version_major": 2,
       "version_minor": 0
      },
      "text/plain": [
       "Calculating Metrics:   0%|          | 0/4 [00:00<?, ?it/s]"
      ]
     },
     "metadata": {},
     "output_type": "display_data"
    },
    {
     "data": {
      "text/plain": [
       "{\n",
       "  \"success\": true,\n",
       "  \"result\": {\n",
       "    \"observed_value\": 39.16108782439054\n",
       "  },\n",
       "  \"meta\": {},\n",
       "  \"exception_info\": {\n",
       "    \"raised_exception\": false,\n",
       "    \"exception_traceback\": null,\n",
       "    \"exception_message\": null\n",
       "  }\n",
       "}"
      ]
     },
     "execution_count": 144,
     "metadata": {},
     "output_type": "execute_result"
    }
   ],
   "source": [
    "\n",
    "validator.expect_column_median_to_be_between(column='urcrnrlat', max_value=39.16108782439054, min_value=39.16108782439054, strict_max=False, strict_min=False, meta={'profiler_details': {'metric_configuration': {'domain_kwargs': {'column': 'urcrnrlat'}, 'metric_dependencies': None, 'metric_name': 'column.median', 'metric_value_kwargs': None}, 'num_batches': 1}})"
   ]
  },
  {
   "cell_type": "code",
   "execution_count": 145,
   "id": "619581fd",
   "metadata": {},
   "outputs": [
    {
     "name": "stderr",
     "output_type": "stream",
     "text": [
      "/Users/adh.arash/Downloads/conda/lib/python3.9/site-packages/ipykernel/ipkernel.py:283: DeprecationWarning: `should_run_async` will not call `transform_cell` automatically in the future. Please pass the result to `transformed_cell` argument and any exception that happen during thetransform in `preprocessing_exc_tuple` in IPython 7.17 and above.\n",
      "  and should_run_async(code)\n"
     ]
    },
    {
     "data": {
      "application/json": {
       "ascii": false,
       "bar_format": null,
       "colour": null,
       "elapsed": 0.012467145919799805,
       "initial": 0,
       "n": 0,
       "ncols": null,
       "nrows": null,
       "postfix": null,
       "prefix": "Calculating Metrics",
       "rate": null,
       "total": 4,
       "unit": "it",
       "unit_divisor": 1000,
       "unit_scale": false
      },
      "application/vnd.jupyter.widget-view+json": {
       "model_id": "0656d209836e4c399467e0d2a96b5153",
       "version_major": 2,
       "version_minor": 0
      },
      "text/plain": [
       "Calculating Metrics:   0%|          | 0/4 [00:00<?, ?it/s]"
      ]
     },
     "metadata": {},
     "output_type": "display_data"
    },
    {
     "data": {
      "text/plain": [
       "{\n",
       "  \"success\": true,\n",
       "  \"result\": {\n",
       "    \"observed_value\": 39.10037506511802\n",
       "  },\n",
       "  \"meta\": {},\n",
       "  \"exception_info\": {\n",
       "    \"raised_exception\": false,\n",
       "    \"exception_traceback\": null,\n",
       "    \"exception_message\": null\n",
       "  }\n",
       "}"
      ]
     },
     "execution_count": 145,
     "metadata": {},
     "output_type": "execute_result"
    }
   ],
   "source": [
    "\n",
    "validator.expect_column_mean_to_be_between(column='urcrnrlat', max_value=39.10037506511802, min_value=39.10037506511802, strict_max=False, strict_min=False, meta={'profiler_details': {'metric_configuration': {'domain_kwargs': {'column': 'urcrnrlat'}, 'metric_dependencies': None, 'metric_name': 'column.mean', 'metric_value_kwargs': None}, 'num_batches': 1}})"
   ]
  },
  {
   "cell_type": "code",
   "execution_count": 146,
   "id": "d570b6a4",
   "metadata": {},
   "outputs": [
    {
     "data": {
      "application/json": {
       "ascii": false,
       "bar_format": null,
       "colour": null,
       "elapsed": 0.012826204299926758,
       "initial": 0,
       "n": 0,
       "ncols": null,
       "nrows": null,
       "postfix": null,
       "prefix": "Calculating Metrics",
       "rate": null,
       "total": 4,
       "unit": "it",
       "unit_divisor": 1000,
       "unit_scale": false
      },
      "application/vnd.jupyter.widget-view+json": {
       "model_id": "f735505d10584d648566623215bb22f2",
       "version_major": 2,
       "version_minor": 0
      },
      "text/plain": [
       "Calculating Metrics:   0%|          | 0/4 [00:00<?, ?it/s]"
      ]
     },
     "metadata": {},
     "output_type": "display_data"
    },
    {
     "data": {
      "text/plain": [
       "{\n",
       "  \"success\": true,\n",
       "  \"result\": {\n",
       "    \"observed_value\": 5.636998305059644\n",
       "  },\n",
       "  \"meta\": {},\n",
       "  \"exception_info\": {\n",
       "    \"raised_exception\": false,\n",
       "    \"exception_traceback\": null,\n",
       "    \"exception_message\": null\n",
       "  }\n",
       "}"
      ]
     },
     "execution_count": 146,
     "metadata": {},
     "output_type": "execute_result"
    }
   ],
   "source": [
    "\n",
    "validator.expect_column_stdev_to_be_between(column='urcrnrlat', max_value=5.636998305059644, min_value=5.636998305059644, strict_max=False, strict_min=False, meta={'profiler_details': {'metric_configuration': {'domain_kwargs': {'column': 'urcrnrlat'}, 'metric_dependencies': None, 'metric_name': 'column.standard_deviation', 'metric_value_kwargs': None}, 'num_batches': 1}})"
   ]
  },
  {
   "cell_type": "markdown",
   "id": "620530d9",
   "metadata": {},
   "source": [
    "#### `urcrnrlon`"
   ]
  },
  {
   "cell_type": "code",
   "execution_count": 147,
   "id": "96a22712",
   "metadata": {},
   "outputs": [
    {
     "data": {
      "application/json": {
       "ascii": false,
       "bar_format": null,
       "colour": null,
       "elapsed": 0.01404714584350586,
       "initial": 0,
       "n": 0,
       "ncols": null,
       "nrows": null,
       "postfix": null,
       "prefix": "Calculating Metrics",
       "rate": null,
       "total": 6,
       "unit": "it",
       "unit_divisor": 1000,
       "unit_scale": false
      },
      "application/vnd.jupyter.widget-view+json": {
       "model_id": "2da06695f3f54a76a57bee32c88fa4ba",
       "version_major": 2,
       "version_minor": 0
      },
      "text/plain": [
       "Calculating Metrics:   0%|          | 0/6 [00:00<?, ?it/s]"
      ]
     },
     "metadata": {},
     "output_type": "display_data"
    },
    {
     "name": "stderr",
     "output_type": "stream",
     "text": [
      "/Users/adh.arash/Downloads/conda/lib/python3.9/site-packages/great_expectations/expectations/metrics/map_metric_provider.py:1428: FutureWarning: The behavior of `series[i:j]` with an integer-dtype index is deprecated. In a future version, this will be treated as *label-based* indexing, consistent with e.g. `series[i]` lookups. To retain the old behavior, use `series.iloc[i:j]`. To get the future behavior, use `series.loc[i:j]`.\n",
      "  return list(domain_values[: result_format[\"partial_unexpected_count\"]])\n"
     ]
    },
    {
     "data": {
      "text/plain": [
       "{\n",
       "  \"success\": true,\n",
       "  \"result\": {\n",
       "    \"element_count\": 76004,\n",
       "    \"unexpected_count\": 0,\n",
       "    \"unexpected_percent\": 0.0,\n",
       "    \"partial_unexpected_list\": []\n",
       "  },\n",
       "  \"meta\": {},\n",
       "  \"exception_info\": {\n",
       "    \"raised_exception\": false,\n",
       "    \"exception_traceback\": null,\n",
       "    \"exception_message\": null\n",
       "  }\n",
       "}"
      ]
     },
     "execution_count": 147,
     "metadata": {},
     "output_type": "execute_result"
    }
   ],
   "source": [
    "\n",
    "validator.expect_column_values_to_not_be_null(column='urcrnrlon', meta={'profiler_details': {'metric_configuration': {'domain_kwargs': {'column': 'urcrnrlon'}, 'metric_dependencies': None, 'metric_name': 'column_values.nonnull.unexpected_count', 'metric_value_kwargs': None}, 'num_batches': 1}})"
   ]
  },
  {
   "cell_type": "code",
   "execution_count": 148,
   "id": "923b08e9",
   "metadata": {},
   "outputs": [
    {
     "data": {
      "application/json": {
       "ascii": false,
       "bar_format": null,
       "colour": null,
       "elapsed": 0.01273488998413086,
       "initial": 0,
       "n": 0,
       "ncols": null,
       "nrows": null,
       "postfix": null,
       "prefix": "Calculating Metrics",
       "rate": null,
       "total": 4,
       "unit": "it",
       "unit_divisor": 1000,
       "unit_scale": false
      },
      "application/vnd.jupyter.widget-view+json": {
       "model_id": "39f159e15d7345d2842a813d927153f3",
       "version_major": 2,
       "version_minor": 0
      },
      "text/plain": [
       "Calculating Metrics:   0%|          | 0/4 [00:00<?, ?it/s]"
      ]
     },
     "metadata": {},
     "output_type": "display_data"
    },
    {
     "data": {
      "text/plain": [
       "{\n",
       "  \"success\": true,\n",
       "  \"result\": {\n",
       "    \"observed_value\": -124.09200893291904\n",
       "  },\n",
       "  \"meta\": {},\n",
       "  \"exception_info\": {\n",
       "    \"raised_exception\": false,\n",
       "    \"exception_traceback\": null,\n",
       "    \"exception_message\": null\n",
       "  }\n",
       "}"
      ]
     },
     "execution_count": 148,
     "metadata": {},
     "output_type": "execute_result"
    }
   ],
   "source": [
    "\n",
    "validator.expect_column_min_to_be_between(column='urcrnrlon', max_value=-124.09200893291904, min_value=-124.09200893291904, strict_max=False, strict_min=False, meta={'profiler_details': {'metric_configuration': {'domain_kwargs': {'column': 'urcrnrlon'}, 'metric_dependencies': None, 'metric_name': 'column.min', 'metric_value_kwargs': None}, 'num_batches': 1}})"
   ]
  },
  {
   "cell_type": "code",
   "execution_count": 149,
   "id": "a0ffb6f9",
   "metadata": {},
   "outputs": [
    {
     "data": {
      "application/json": {
       "ascii": false,
       "bar_format": null,
       "colour": null,
       "elapsed": 0.012629270553588867,
       "initial": 0,
       "n": 0,
       "ncols": null,
       "nrows": null,
       "postfix": null,
       "prefix": "Calculating Metrics",
       "rate": null,
       "total": 4,
       "unit": "it",
       "unit_divisor": 1000,
       "unit_scale": false
      },
      "application/vnd.jupyter.widget-view+json": {
       "model_id": "db7c737f81884737a0ef7490fc7be346",
       "version_major": 2,
       "version_minor": 0
      },
      "text/plain": [
       "Calculating Metrics:   0%|          | 0/4 [00:00<?, ?it/s]"
      ]
     },
     "metadata": {},
     "output_type": "display_data"
    },
    {
     "data": {
      "text/plain": [
       "{\n",
       "  \"success\": true,\n",
       "  \"result\": {\n",
       "    \"observed_value\": -62.923893868831385\n",
       "  },\n",
       "  \"meta\": {},\n",
       "  \"exception_info\": {\n",
       "    \"raised_exception\": false,\n",
       "    \"exception_traceback\": null,\n",
       "    \"exception_message\": null\n",
       "  }\n",
       "}"
      ]
     },
     "execution_count": 149,
     "metadata": {},
     "output_type": "execute_result"
    }
   ],
   "source": [
    "\n",
    "validator.expect_column_max_to_be_between(column='urcrnrlon', max_value=-62.923893868831385, min_value=-62.923893868831385, strict_max=False, strict_min=False, meta={'profiler_details': {'metric_configuration': {'domain_kwargs': {'column': 'urcrnrlon'}, 'metric_dependencies': None, 'metric_name': 'column.max', 'metric_value_kwargs': None}, 'num_batches': 1}})"
   ]
  },
  {
   "cell_type": "code",
   "execution_count": 150,
   "id": "d6cdb324",
   "metadata": {},
   "outputs": [
    {
     "data": {
      "application/json": {
       "ascii": false,
       "bar_format": null,
       "colour": null,
       "elapsed": 0.012711048126220703,
       "initial": 0,
       "n": 0,
       "ncols": null,
       "nrows": null,
       "postfix": null,
       "prefix": "Calculating Metrics",
       "rate": null,
       "total": 8,
       "unit": "it",
       "unit_divisor": 1000,
       "unit_scale": false
      },
      "application/vnd.jupyter.widget-view+json": {
       "model_id": "74fe8afe1bb94948b508e2daacac56d5",
       "version_major": 2,
       "version_minor": 0
      },
      "text/plain": [
       "Calculating Metrics:   0%|          | 0/8 [00:00<?, ?it/s]"
      ]
     },
     "metadata": {},
     "output_type": "display_data"
    },
    {
     "data": {
      "text/plain": [
       "{\n",
       "  \"success\": true,\n",
       "  \"result\": {\n",
       "    \"element_count\": 76004,\n",
       "    \"unexpected_count\": 0,\n",
       "    \"unexpected_percent\": 0.0,\n",
       "    \"partial_unexpected_list\": [],\n",
       "    \"missing_count\": 0,\n",
       "    \"missing_percent\": 0.0,\n",
       "    \"unexpected_percent_total\": 0.0,\n",
       "    \"unexpected_percent_nonmissing\": 0.0\n",
       "  },\n",
       "  \"meta\": {},\n",
       "  \"exception_info\": {\n",
       "    \"raised_exception\": false,\n",
       "    \"exception_traceback\": null,\n",
       "    \"exception_message\": null\n",
       "  }\n",
       "}"
      ]
     },
     "execution_count": 150,
     "metadata": {},
     "output_type": "execute_result"
    }
   ],
   "source": [
    "\n",
    "validator.expect_column_values_to_be_between(column='urcrnrlon', max_value=-62.923893868831385, min_value=-124.09200893291904, mostly=1.0, strict_max=False, strict_min=False, meta={'profiler_details': {'column_max_values_range_estimator': {'metric_configuration': {'domain_kwargs': {'column': 'urcrnrlon'}, 'metric_dependencies': None, 'metric_name': 'column.max', 'metric_value_kwargs': None}, 'num_batches': 1}, 'column_min_values_range_estimator': {'metric_configuration': {'domain_kwargs': {'column': 'urcrnrlon'}, 'metric_dependencies': None, 'metric_name': 'column.min', 'metric_value_kwargs': None}, 'num_batches': 1}}})"
   ]
  },
  {
   "cell_type": "code",
   "execution_count": 151,
   "id": "9e7a86a0",
   "metadata": {},
   "outputs": [
    {
     "data": {
      "application/json": {
       "ascii": false,
       "bar_format": null,
       "colour": null,
       "elapsed": 0.013109922409057617,
       "initial": 0,
       "n": 0,
       "ncols": null,
       "nrows": null,
       "postfix": null,
       "prefix": "Calculating Metrics",
       "rate": null,
       "total": 4,
       "unit": "it",
       "unit_divisor": 1000,
       "unit_scale": false
      },
      "application/vnd.jupyter.widget-view+json": {
       "model_id": "42915d136d924bc287c180e8efb22312",
       "version_major": 2,
       "version_minor": 0
      },
      "text/plain": [
       "Calculating Metrics:   0%|          | 0/4 [00:00<?, ?it/s]"
      ]
     },
     "metadata": {},
     "output_type": "display_data"
    },
    {
     "data": {
      "text/plain": [
       "{\n",
       "  \"success\": true,\n",
       "  \"result\": {\n",
       "    \"observed_value\": {\n",
       "      \"quantiles\": [\n",
       "        0.25,\n",
       "        0.5,\n",
       "        0.75\n",
       "      ],\n",
       "      \"values\": [\n",
       "        -97.6054098345261,\n",
       "        -88.82070045499479,\n",
       "        -80.64909018058297\n",
       "      ]\n",
       "    },\n",
       "    \"details\": {\n",
       "      \"success_details\": [\n",
       "        true,\n",
       "        true,\n",
       "        true\n",
       "      ]\n",
       "    }\n",
       "  },\n",
       "  \"meta\": {},\n",
       "  \"exception_info\": {\n",
       "    \"raised_exception\": false,\n",
       "    \"exception_traceback\": null,\n",
       "    \"exception_message\": null\n",
       "  }\n",
       "}"
      ]
     },
     "execution_count": 151,
     "metadata": {},
     "output_type": "execute_result"
    }
   ],
   "source": [
    "\n",
    "validator.expect_column_quantile_values_to_be_between(column='urcrnrlon', allow_relative_error=False, quantile_ranges={'quantiles': [0.25, 0.5, 0.75], 'value_ranges': [[-97.6054098345261, -97.6054098345261], [-88.82070045499479, -88.82070045499479], [-80.64909018058297, -80.64909018058297]]}, meta={'profiler_details': {'metric_configuration': {'domain_kwargs': {'column': 'urcrnrlon'}, 'metric_dependencies': None, 'metric_name': 'column.quantile_values', 'metric_value_kwargs': {'allow_relative_error': False, 'quantiles': [0.25, 0.5, 0.75]}}, 'num_batches': 1}})"
   ]
  },
  {
   "cell_type": "code",
   "execution_count": 152,
   "id": "cb413c70",
   "metadata": {},
   "outputs": [
    {
     "data": {
      "application/json": {
       "ascii": false,
       "bar_format": null,
       "colour": null,
       "elapsed": 0.013147830963134766,
       "initial": 0,
       "n": 0,
       "ncols": null,
       "nrows": null,
       "postfix": null,
       "prefix": "Calculating Metrics",
       "rate": null,
       "total": 4,
       "unit": "it",
       "unit_divisor": 1000,
       "unit_scale": false
      },
      "application/vnd.jupyter.widget-view+json": {
       "model_id": "f3917580bf984c0083e1aea633ab1e3e",
       "version_major": 2,
       "version_minor": 0
      },
      "text/plain": [
       "Calculating Metrics:   0%|          | 0/4 [00:00<?, ?it/s]"
      ]
     },
     "metadata": {},
     "output_type": "display_data"
    },
    {
     "data": {
      "text/plain": [
       "{\n",
       "  \"success\": true,\n",
       "  \"result\": {\n",
       "    \"observed_value\": -88.82070045499482\n",
       "  },\n",
       "  \"meta\": {},\n",
       "  \"exception_info\": {\n",
       "    \"raised_exception\": false,\n",
       "    \"exception_traceback\": null,\n",
       "    \"exception_message\": null\n",
       "  }\n",
       "}"
      ]
     },
     "execution_count": 152,
     "metadata": {},
     "output_type": "execute_result"
    }
   ],
   "source": [
    "\n",
    "validator.expect_column_median_to_be_between(column='urcrnrlon', max_value=-88.82070045499482, min_value=-88.82070045499482, strict_max=False, strict_min=False, meta={'profiler_details': {'metric_configuration': {'domain_kwargs': {'column': 'urcrnrlon'}, 'metric_dependencies': None, 'metric_name': 'column.median', 'metric_value_kwargs': None}, 'num_batches': 1}})"
   ]
  },
  {
   "cell_type": "code",
   "execution_count": 153,
   "id": "2a4c348b",
   "metadata": {},
   "outputs": [
    {
     "name": "stderr",
     "output_type": "stream",
     "text": [
      "/Users/adh.arash/Downloads/conda/lib/python3.9/site-packages/ipykernel/ipkernel.py:283: DeprecationWarning: `should_run_async` will not call `transform_cell` automatically in the future. Please pass the result to `transformed_cell` argument and any exception that happen during thetransform in `preprocessing_exc_tuple` in IPython 7.17 and above.\n",
      "  and should_run_async(code)\n"
     ]
    },
    {
     "data": {
      "application/json": {
       "ascii": false,
       "bar_format": null,
       "colour": null,
       "elapsed": 0.01469111442565918,
       "initial": 0,
       "n": 0,
       "ncols": null,
       "nrows": null,
       "postfix": null,
       "prefix": "Calculating Metrics",
       "rate": null,
       "total": 4,
       "unit": "it",
       "unit_divisor": 1000,
       "unit_scale": false
      },
      "application/vnd.jupyter.widget-view+json": {
       "model_id": "3ff5e2b0f62047989015a9e91d824f6c",
       "version_major": 2,
       "version_minor": 0
      },
      "text/plain": [
       "Calculating Metrics:   0%|          | 0/4 [00:00<?, ?it/s]"
      ]
     },
     "metadata": {},
     "output_type": "display_data"
    },
    {
     "data": {
      "text/plain": [
       "{\n",
       "  \"success\": true,\n",
       "  \"result\": {\n",
       "    \"observed_value\": -90.50152810067166\n",
       "  },\n",
       "  \"meta\": {},\n",
       "  \"exception_info\": {\n",
       "    \"raised_exception\": false,\n",
       "    \"exception_traceback\": null,\n",
       "    \"exception_message\": null\n",
       "  }\n",
       "}"
      ]
     },
     "execution_count": 153,
     "metadata": {},
     "output_type": "execute_result"
    }
   ],
   "source": [
    "\n",
    "validator.expect_column_mean_to_be_between(column='urcrnrlon', max_value=-90.50152810067166, min_value=-90.50152810067166, strict_max=False, strict_min=False, meta={'profiler_details': {'metric_configuration': {'domain_kwargs': {'column': 'urcrnrlon'}, 'metric_dependencies': None, 'metric_name': 'column.mean', 'metric_value_kwargs': None}, 'num_batches': 1}})"
   ]
  },
  {
   "cell_type": "code",
   "execution_count": 154,
   "id": "4fdd5c7d",
   "metadata": {},
   "outputs": [
    {
     "data": {
      "application/json": {
       "ascii": false,
       "bar_format": null,
       "colour": null,
       "elapsed": 0.012170076370239258,
       "initial": 0,
       "n": 0,
       "ncols": null,
       "nrows": null,
       "postfix": null,
       "prefix": "Calculating Metrics",
       "rate": null,
       "total": 4,
       "unit": "it",
       "unit_divisor": 1000,
       "unit_scale": false
      },
      "application/vnd.jupyter.widget-view+json": {
       "model_id": "9afd69fe20eb4a30a4d82517c5f7d7e6",
       "version_major": 2,
       "version_minor": 0
      },
      "text/plain": [
       "Calculating Metrics:   0%|          | 0/4 [00:00<?, ?it/s]"
      ]
     },
     "metadata": {},
     "output_type": "display_data"
    },
    {
     "data": {
      "text/plain": [
       "{\n",
       "  \"success\": true,\n",
       "  \"result\": {\n",
       "    \"observed_value\": 13.103338786082888\n",
       "  },\n",
       "  \"meta\": {},\n",
       "  \"exception_info\": {\n",
       "    \"raised_exception\": false,\n",
       "    \"exception_traceback\": null,\n",
       "    \"exception_message\": null\n",
       "  }\n",
       "}"
      ]
     },
     "execution_count": 154,
     "metadata": {},
     "output_type": "execute_result"
    }
   ],
   "source": [
    "\n",
    "validator.expect_column_stdev_to_be_between(column='urcrnrlon', max_value=13.103338786082888, min_value=13.103338786082888, strict_max=False, strict_min=False, meta={'profiler_details': {'metric_configuration': {'domain_kwargs': {'column': 'urcrnrlon'}, 'metric_dependencies': None, 'metric_name': 'column.standard_deviation', 'metric_value_kwargs': None}, 'num_batches': 1}})"
   ]
  },
  {
   "cell_type": "markdown",
   "id": "40768880",
   "metadata": {},
   "source": [
    "#### `pct_missing`"
   ]
  },
  {
   "cell_type": "code",
   "execution_count": 155,
   "id": "acc249c2",
   "metadata": {},
   "outputs": [
    {
     "data": {
      "application/json": {
       "ascii": false,
       "bar_format": null,
       "colour": null,
       "elapsed": 0.012852907180786133,
       "initial": 0,
       "n": 0,
       "ncols": null,
       "nrows": null,
       "postfix": null,
       "prefix": "Calculating Metrics",
       "rate": null,
       "total": 6,
       "unit": "it",
       "unit_divisor": 1000,
       "unit_scale": false
      },
      "application/vnd.jupyter.widget-view+json": {
       "model_id": "7764d5bf249742b9b1045589e654c427",
       "version_major": 2,
       "version_minor": 0
      },
      "text/plain": [
       "Calculating Metrics:   0%|          | 0/6 [00:00<?, ?it/s]"
      ]
     },
     "metadata": {},
     "output_type": "display_data"
    },
    {
     "name": "stderr",
     "output_type": "stream",
     "text": [
      "/Users/adh.arash/Downloads/conda/lib/python3.9/site-packages/great_expectations/expectations/metrics/map_metric_provider.py:1428: FutureWarning: The behavior of `series[i:j]` with an integer-dtype index is deprecated. In a future version, this will be treated as *label-based* indexing, consistent with e.g. `series[i]` lookups. To retain the old behavior, use `series.iloc[i:j]`. To get the future behavior, use `series.loc[i:j]`.\n",
      "  return list(domain_values[: result_format[\"partial_unexpected_count\"]])\n"
     ]
    },
    {
     "data": {
      "text/plain": [
       "{\n",
       "  \"success\": true,\n",
       "  \"result\": {\n",
       "    \"element_count\": 76004,\n",
       "    \"unexpected_count\": 0,\n",
       "    \"unexpected_percent\": 0.0,\n",
       "    \"partial_unexpected_list\": []\n",
       "  },\n",
       "  \"meta\": {},\n",
       "  \"exception_info\": {\n",
       "    \"raised_exception\": false,\n",
       "    \"exception_traceback\": null,\n",
       "    \"exception_message\": null\n",
       "  }\n",
       "}"
      ]
     },
     "execution_count": 155,
     "metadata": {},
     "output_type": "execute_result"
    }
   ],
   "source": [
    "\n",
    "validator.expect_column_values_to_not_be_null(column='pct_missing', meta={'profiler_details': {'metric_configuration': {'domain_kwargs': {'column': 'pct_missing'}, 'metric_dependencies': None, 'metric_name': 'column_values.nonnull.unexpected_count', 'metric_value_kwargs': None}, 'num_batches': 1}})"
   ]
  },
  {
   "cell_type": "code",
   "execution_count": 156,
   "id": "860316e7",
   "metadata": {},
   "outputs": [
    {
     "data": {
      "application/json": {
       "ascii": false,
       "bar_format": null,
       "colour": null,
       "elapsed": 0.01243281364440918,
       "initial": 0,
       "n": 0,
       "ncols": null,
       "nrows": null,
       "postfix": null,
       "prefix": "Calculating Metrics",
       "rate": null,
       "total": 4,
       "unit": "it",
       "unit_divisor": 1000,
       "unit_scale": false
      },
      "application/vnd.jupyter.widget-view+json": {
       "model_id": "4c16d4f1ef88482a87b33b80b55d0ebb",
       "version_major": 2,
       "version_minor": 0
      },
      "text/plain": [
       "Calculating Metrics:   0%|          | 0/4 [00:00<?, ?it/s]"
      ]
     },
     "metadata": {},
     "output_type": "display_data"
    },
    {
     "data": {
      "text/plain": [
       "{\n",
       "  \"success\": true,\n",
       "  \"result\": {\n",
       "    \"observed_value\": 0.0\n",
       "  },\n",
       "  \"meta\": {},\n",
       "  \"exception_info\": {\n",
       "    \"raised_exception\": false,\n",
       "    \"exception_traceback\": null,\n",
       "    \"exception_message\": null\n",
       "  }\n",
       "}"
      ]
     },
     "execution_count": 156,
     "metadata": {},
     "output_type": "execute_result"
    }
   ],
   "source": [
    "\n",
    "validator.expect_column_min_to_be_between(column='pct_missing', max_value=0.0, min_value=0.0, strict_max=False, strict_min=False, meta={'profiler_details': {'metric_configuration': {'domain_kwargs': {'column': 'pct_missing'}, 'metric_dependencies': None, 'metric_name': 'column.min', 'metric_value_kwargs': None}, 'num_batches': 1}})"
   ]
  },
  {
   "cell_type": "code",
   "execution_count": 157,
   "id": "7f32729b",
   "metadata": {},
   "outputs": [
    {
     "data": {
      "application/json": {
       "ascii": false,
       "bar_format": null,
       "colour": null,
       "elapsed": 0.012636184692382812,
       "initial": 0,
       "n": 0,
       "ncols": null,
       "nrows": null,
       "postfix": null,
       "prefix": "Calculating Metrics",
       "rate": null,
       "total": 4,
       "unit": "it",
       "unit_divisor": 1000,
       "unit_scale": false
      },
      "application/vnd.jupyter.widget-view+json": {
       "model_id": "9202064fb41948aa8bded954bb6959df",
       "version_major": 2,
       "version_minor": 0
      },
      "text/plain": [
       "Calculating Metrics:   0%|          | 0/4 [00:00<?, ?it/s]"
      ]
     },
     "metadata": {},
     "output_type": "display_data"
    },
    {
     "data": {
      "text/plain": [
       "{\n",
       "  \"success\": true,\n",
       "  \"result\": {\n",
       "    \"observed_value\": 1.0\n",
       "  },\n",
       "  \"meta\": {},\n",
       "  \"exception_info\": {\n",
       "    \"raised_exception\": false,\n",
       "    \"exception_traceback\": null,\n",
       "    \"exception_message\": null\n",
       "  }\n",
       "}"
      ]
     },
     "execution_count": 157,
     "metadata": {},
     "output_type": "execute_result"
    }
   ],
   "source": [
    "\n",
    "validator.expect_column_max_to_be_between(column='pct_missing', max_value=1.0, min_value=1.0, strict_max=False, strict_min=False, meta={'profiler_details': {'metric_configuration': {'domain_kwargs': {'column': 'pct_missing'}, 'metric_dependencies': None, 'metric_name': 'column.max', 'metric_value_kwargs': None}, 'num_batches': 1}})"
   ]
  },
  {
   "cell_type": "code",
   "execution_count": 158,
   "id": "815db8c7",
   "metadata": {},
   "outputs": [
    {
     "data": {
      "application/json": {
       "ascii": false,
       "bar_format": null,
       "colour": null,
       "elapsed": 0.028065204620361328,
       "initial": 0,
       "n": 0,
       "ncols": null,
       "nrows": null,
       "postfix": null,
       "prefix": "Calculating Metrics",
       "rate": null,
       "total": 8,
       "unit": "it",
       "unit_divisor": 1000,
       "unit_scale": false
      },
      "application/vnd.jupyter.widget-view+json": {
       "model_id": "19939b8701564a3d8baa2ac12bd77f74",
       "version_major": 2,
       "version_minor": 0
      },
      "text/plain": [
       "Calculating Metrics:   0%|          | 0/8 [00:00<?, ?it/s]"
      ]
     },
     "metadata": {},
     "output_type": "display_data"
    },
    {
     "data": {
      "text/plain": [
       "{\n",
       "  \"success\": true,\n",
       "  \"result\": {\n",
       "    \"element_count\": 76004,\n",
       "    \"unexpected_count\": 0,\n",
       "    \"unexpected_percent\": 0.0,\n",
       "    \"partial_unexpected_list\": [],\n",
       "    \"missing_count\": 0,\n",
       "    \"missing_percent\": 0.0,\n",
       "    \"unexpected_percent_total\": 0.0,\n",
       "    \"unexpected_percent_nonmissing\": 0.0\n",
       "  },\n",
       "  \"meta\": {},\n",
       "  \"exception_info\": {\n",
       "    \"raised_exception\": false,\n",
       "    \"exception_traceback\": null,\n",
       "    \"exception_message\": null\n",
       "  }\n",
       "}"
      ]
     },
     "execution_count": 158,
     "metadata": {},
     "output_type": "execute_result"
    }
   ],
   "source": [
    "\n",
    "validator.expect_column_values_to_be_between(column='pct_missing', max_value=1.0, min_value=0.0, mostly=1.0, strict_max=False, strict_min=False, meta={'profiler_details': {'column_max_values_range_estimator': {'metric_configuration': {'domain_kwargs': {'column': 'pct_missing'}, 'metric_dependencies': None, 'metric_name': 'column.max', 'metric_value_kwargs': None}, 'num_batches': 1}, 'column_min_values_range_estimator': {'metric_configuration': {'domain_kwargs': {'column': 'pct_missing'}, 'metric_dependencies': None, 'metric_name': 'column.min', 'metric_value_kwargs': None}, 'num_batches': 1}}})"
   ]
  },
  {
   "cell_type": "code",
   "execution_count": 159,
   "id": "a758fea2",
   "metadata": {},
   "outputs": [
    {
     "data": {
      "application/json": {
       "ascii": false,
       "bar_format": null,
       "colour": null,
       "elapsed": 0.013854026794433594,
       "initial": 0,
       "n": 0,
       "ncols": null,
       "nrows": null,
       "postfix": null,
       "prefix": "Calculating Metrics",
       "rate": null,
       "total": 4,
       "unit": "it",
       "unit_divisor": 1000,
       "unit_scale": false
      },
      "application/vnd.jupyter.widget-view+json": {
       "model_id": "3d2265c4a8dd4e72b9c1dc0a436fb72c",
       "version_major": 2,
       "version_minor": 0
      },
      "text/plain": [
       "Calculating Metrics:   0%|          | 0/4 [00:00<?, ?it/s]"
      ]
     },
     "metadata": {},
     "output_type": "display_data"
    },
    {
     "data": {
      "text/plain": [
       "{\n",
       "  \"success\": true,\n",
       "  \"result\": {\n",
       "    \"observed_value\": {\n",
       "      \"quantiles\": [\n",
       "        0.25,\n",
       "        0.5,\n",
       "        0.75\n",
       "      ],\n",
       "      \"values\": [\n",
       "        0.0,\n",
       "        0.0,\n",
       "        0.0\n",
       "      ]\n",
       "    },\n",
       "    \"details\": {\n",
       "      \"success_details\": [\n",
       "        true,\n",
       "        true,\n",
       "        true\n",
       "      ]\n",
       "    }\n",
       "  },\n",
       "  \"meta\": {},\n",
       "  \"exception_info\": {\n",
       "    \"raised_exception\": false,\n",
       "    \"exception_traceback\": null,\n",
       "    \"exception_message\": null\n",
       "  }\n",
       "}"
      ]
     },
     "execution_count": 159,
     "metadata": {},
     "output_type": "execute_result"
    }
   ],
   "source": [
    "\n",
    "validator.expect_column_quantile_values_to_be_between(column='pct_missing', allow_relative_error=False, quantile_ranges={'quantiles': [0.25, 0.5, 0.75], 'value_ranges': [[0.0, 0.0], [0.0, 0.0], [0.0, 0.0]]}, meta={'profiler_details': {'metric_configuration': {'domain_kwargs': {'column': 'pct_missing'}, 'metric_dependencies': None, 'metric_name': 'column.quantile_values', 'metric_value_kwargs': {'allow_relative_error': False, 'quantiles': [0.25, 0.5, 0.75]}}, 'num_batches': 1}})"
   ]
  },
  {
   "cell_type": "code",
   "execution_count": 160,
   "id": "5096f649",
   "metadata": {},
   "outputs": [
    {
     "data": {
      "application/json": {
       "ascii": false,
       "bar_format": null,
       "colour": null,
       "elapsed": 0.014549970626831055,
       "initial": 0,
       "n": 0,
       "ncols": null,
       "nrows": null,
       "postfix": null,
       "prefix": "Calculating Metrics",
       "rate": null,
       "total": 4,
       "unit": "it",
       "unit_divisor": 1000,
       "unit_scale": false
      },
      "application/vnd.jupyter.widget-view+json": {
       "model_id": "344f7369378c463b8b47c5dd997a4c1e",
       "version_major": 2,
       "version_minor": 0
      },
      "text/plain": [
       "Calculating Metrics:   0%|          | 0/4 [00:00<?, ?it/s]"
      ]
     },
     "metadata": {},
     "output_type": "display_data"
    },
    {
     "data": {
      "text/plain": [
       "{\n",
       "  \"success\": true,\n",
       "  \"result\": {\n",
       "    \"observed_value\": 0.0\n",
       "  },\n",
       "  \"meta\": {},\n",
       "  \"exception_info\": {\n",
       "    \"raised_exception\": false,\n",
       "    \"exception_traceback\": null,\n",
       "    \"exception_message\": null\n",
       "  }\n",
       "}"
      ]
     },
     "execution_count": 160,
     "metadata": {},
     "output_type": "execute_result"
    }
   ],
   "source": [
    "\n",
    "validator.expect_column_median_to_be_between(column='pct_missing', max_value=0.0, min_value=0.0, strict_max=False, strict_min=False, meta={'profiler_details': {'metric_configuration': {'domain_kwargs': {'column': 'pct_missing'}, 'metric_dependencies': None, 'metric_name': 'column.median', 'metric_value_kwargs': None}, 'num_batches': 1}})"
   ]
  },
  {
   "cell_type": "code",
   "execution_count": 161,
   "id": "00858c63",
   "metadata": {},
   "outputs": [
    {
     "name": "stderr",
     "output_type": "stream",
     "text": [
      "/Users/adh.arash/Downloads/conda/lib/python3.9/site-packages/ipykernel/ipkernel.py:283: DeprecationWarning: `should_run_async` will not call `transform_cell` automatically in the future. Please pass the result to `transformed_cell` argument and any exception that happen during thetransform in `preprocessing_exc_tuple` in IPython 7.17 and above.\n",
      "  and should_run_async(code)\n"
     ]
    },
    {
     "data": {
      "application/json": {
       "ascii": false,
       "bar_format": null,
       "colour": null,
       "elapsed": 0.01421213150024414,
       "initial": 0,
       "n": 0,
       "ncols": null,
       "nrows": null,
       "postfix": null,
       "prefix": "Calculating Metrics",
       "rate": null,
       "total": 4,
       "unit": "it",
       "unit_divisor": 1000,
       "unit_scale": false
      },
      "application/vnd.jupyter.widget-view+json": {
       "model_id": "521c6fb930a2465383113172a9cd8957",
       "version_major": 2,
       "version_minor": 0
      },
      "text/plain": [
       "Calculating Metrics:   0%|          | 0/4 [00:00<?, ?it/s]"
      ]
     },
     "metadata": {},
     "output_type": "display_data"
    },
    {
     "data": {
      "text/plain": [
       "{\n",
       "  \"success\": true,\n",
       "  \"result\": {\n",
       "    \"observed_value\": 0.003552192379775688\n",
       "  },\n",
       "  \"meta\": {},\n",
       "  \"exception_info\": {\n",
       "    \"raised_exception\": false,\n",
       "    \"exception_traceback\": null,\n",
       "    \"exception_message\": null\n",
       "  }\n",
       "}"
      ]
     },
     "execution_count": 161,
     "metadata": {},
     "output_type": "execute_result"
    }
   ],
   "source": [
    "\n",
    "validator.expect_column_mean_to_be_between(column='pct_missing', max_value=0.003552192379775688, min_value=0.003552192379775688, strict_max=False, strict_min=False, meta={'profiler_details': {'metric_configuration': {'domain_kwargs': {'column': 'pct_missing'}, 'metric_dependencies': None, 'metric_name': 'column.mean', 'metric_value_kwargs': None}, 'num_batches': 1}})"
   ]
  },
  {
   "cell_type": "code",
   "execution_count": 162,
   "id": "cd3dfcd2",
   "metadata": {},
   "outputs": [
    {
     "data": {
      "application/json": {
       "ascii": false,
       "bar_format": null,
       "colour": null,
       "elapsed": 0.014350652694702148,
       "initial": 0,
       "n": 0,
       "ncols": null,
       "nrows": null,
       "postfix": null,
       "prefix": "Calculating Metrics",
       "rate": null,
       "total": 4,
       "unit": "it",
       "unit_divisor": 1000,
       "unit_scale": false
      },
      "application/vnd.jupyter.widget-view+json": {
       "model_id": "0e0e13ba7c1246ae84650c52d37d515e",
       "version_major": 2,
       "version_minor": 0
      },
      "text/plain": [
       "Calculating Metrics:   0%|          | 0/4 [00:00<?, ?it/s]"
      ]
     },
     "metadata": {},
     "output_type": "display_data"
    },
    {
     "data": {
      "text/plain": [
       "{\n",
       "  \"success\": true,\n",
       "  \"result\": {\n",
       "    \"observed_value\": 0.0321447250441359\n",
       "  },\n",
       "  \"meta\": {},\n",
       "  \"exception_info\": {\n",
       "    \"raised_exception\": false,\n",
       "    \"exception_traceback\": null,\n",
       "    \"exception_message\": null\n",
       "  }\n",
       "}"
      ]
     },
     "execution_count": 162,
     "metadata": {},
     "output_type": "execute_result"
    }
   ],
   "source": [
    "\n",
    "validator.expect_column_stdev_to_be_between(column='pct_missing', max_value=0.0321447250441359, min_value=0.0321447250441359, strict_max=False, strict_min=False, meta={'profiler_details': {'metric_configuration': {'domain_kwargs': {'column': 'pct_missing'}, 'metric_dependencies': None, 'metric_name': 'column.standard_deviation', 'metric_value_kwargs': None}, 'num_batches': 1}})"
   ]
  },
  {
   "cell_type": "markdown",
   "id": "3921b53d",
   "metadata": {},
   "source": [
    "#### `data_min`"
   ]
  },
  {
   "cell_type": "code",
   "execution_count": 163,
   "id": "7916dbdf",
   "metadata": {},
   "outputs": [
    {
     "data": {
      "application/json": {
       "ascii": false,
       "bar_format": null,
       "colour": null,
       "elapsed": 0.01553201675415039,
       "initial": 0,
       "n": 0,
       "ncols": null,
       "nrows": null,
       "postfix": null,
       "prefix": "Calculating Metrics",
       "rate": null,
       "total": 4,
       "unit": "it",
       "unit_divisor": 1000,
       "unit_scale": false
      },
      "application/vnd.jupyter.widget-view+json": {
       "model_id": "ecefbaa199244a06965d3c8c09eca662",
       "version_major": 2,
       "version_minor": 0
      },
      "text/plain": [
       "Calculating Metrics:   0%|          | 0/4 [00:00<?, ?it/s]"
      ]
     },
     "metadata": {},
     "output_type": "display_data"
    },
    {
     "data": {
      "text/plain": [
       "{\n",
       "  \"success\": true,\n",
       "  \"result\": {\n",
       "    \"observed_value\": -31718.416015625\n",
       "  },\n",
       "  \"meta\": {},\n",
       "  \"exception_info\": {\n",
       "    \"raised_exception\": false,\n",
       "    \"exception_traceback\": null,\n",
       "    \"exception_message\": null\n",
       "  }\n",
       "}"
      ]
     },
     "execution_count": 163,
     "metadata": {},
     "output_type": "execute_result"
    }
   ],
   "source": [
    "\n",
    "validator.expect_column_min_to_be_between(column='data_min', max_value=-31718.416015625, min_value=-31718.416015625, strict_max=False, strict_min=False, meta={'profiler_details': {'metric_configuration': {'domain_kwargs': {'column': 'data_min'}, 'metric_dependencies': None, 'metric_name': 'column.min', 'metric_value_kwargs': None}, 'num_batches': 1}})"
   ]
  },
  {
   "cell_type": "code",
   "execution_count": 164,
   "id": "7fd33964",
   "metadata": {},
   "outputs": [
    {
     "data": {
      "application/json": {
       "ascii": false,
       "bar_format": null,
       "colour": null,
       "elapsed": 0.014518022537231445,
       "initial": 0,
       "n": 0,
       "ncols": null,
       "nrows": null,
       "postfix": null,
       "prefix": "Calculating Metrics",
       "rate": null,
       "total": 4,
       "unit": "it",
       "unit_divisor": 1000,
       "unit_scale": false
      },
      "application/vnd.jupyter.widget-view+json": {
       "model_id": "ede33b4df9d2487984b02c5ea8337066",
       "version_major": 2,
       "version_minor": 0
      },
      "text/plain": [
       "Calculating Metrics:   0%|          | 0/4 [00:00<?, ?it/s]"
      ]
     },
     "metadata": {},
     "output_type": "display_data"
    },
    {
     "data": {
      "text/plain": [
       "{\n",
       "  \"success\": true,\n",
       "  \"result\": {\n",
       "    \"observed_value\": 18.269269943237305\n",
       "  },\n",
       "  \"meta\": {},\n",
       "  \"exception_info\": {\n",
       "    \"raised_exception\": false,\n",
       "    \"exception_traceback\": null,\n",
       "    \"exception_message\": null\n",
       "  }\n",
       "}"
      ]
     },
     "execution_count": 164,
     "metadata": {},
     "output_type": "execute_result"
    }
   ],
   "source": [
    "\n",
    "validator.expect_column_max_to_be_between(column='data_min', max_value=18.269269943237305, min_value=18.269269943237305, strict_max=False, strict_min=False, meta={'profiler_details': {'metric_configuration': {'domain_kwargs': {'column': 'data_min'}, 'metric_dependencies': None, 'metric_name': 'column.max', 'metric_value_kwargs': None}, 'num_batches': 1}})"
   ]
  },
  {
   "cell_type": "code",
   "execution_count": 165,
   "id": "b84a1e4f",
   "metadata": {},
   "outputs": [
    {
     "data": {
      "application/json": {
       "ascii": false,
       "bar_format": null,
       "colour": null,
       "elapsed": 0.014661073684692383,
       "initial": 0,
       "n": 0,
       "ncols": null,
       "nrows": null,
       "postfix": null,
       "prefix": "Calculating Metrics",
       "rate": null,
       "total": 8,
       "unit": "it",
       "unit_divisor": 1000,
       "unit_scale": false
      },
      "application/vnd.jupyter.widget-view+json": {
       "model_id": "98c3df31a3674689bf0de81c4b3b0311",
       "version_major": 2,
       "version_minor": 0
      },
      "text/plain": [
       "Calculating Metrics:   0%|          | 0/8 [00:00<?, ?it/s]"
      ]
     },
     "metadata": {},
     "output_type": "display_data"
    },
    {
     "name": "stderr",
     "output_type": "stream",
     "text": [
      "/Users/adh.arash/Downloads/conda/lib/python3.9/site-packages/great_expectations/expectations/metrics/map_metric_provider.py:1428: FutureWarning: The behavior of `series[i:j]` with an integer-dtype index is deprecated. In a future version, this will be treated as *label-based* indexing, consistent with e.g. `series[i]` lookups. To retain the old behavior, use `series.iloc[i:j]`. To get the future behavior, use `series.loc[i:j]`.\n",
      "  return list(domain_values[: result_format[\"partial_unexpected_count\"]])\n"
     ]
    },
    {
     "data": {
      "text/plain": [
       "{\n",
       "  \"success\": true,\n",
       "  \"result\": {\n",
       "    \"element_count\": 76004,\n",
       "    \"unexpected_count\": 0,\n",
       "    \"unexpected_percent\": 0.0,\n",
       "    \"partial_unexpected_list\": [],\n",
       "    \"missing_count\": 3,\n",
       "    \"missing_percent\": 0.003947160675753908,\n",
       "    \"unexpected_percent_total\": 0.0,\n",
       "    \"unexpected_percent_nonmissing\": 0.0\n",
       "  },\n",
       "  \"meta\": {},\n",
       "  \"exception_info\": {\n",
       "    \"raised_exception\": false,\n",
       "    \"exception_traceback\": null,\n",
       "    \"exception_message\": null\n",
       "  }\n",
       "}"
      ]
     },
     "execution_count": 165,
     "metadata": {},
     "output_type": "execute_result"
    }
   ],
   "source": [
    "\n",
    "validator.expect_column_values_to_be_between(column='data_min', max_value=18.269269943237305, min_value=-31718.416015625, mostly=1.0, strict_max=False, strict_min=False, meta={'profiler_details': {'column_max_values_range_estimator': {'metric_configuration': {'domain_kwargs': {'column': 'data_min'}, 'metric_dependencies': None, 'metric_name': 'column.max', 'metric_value_kwargs': None}, 'num_batches': 1}, 'column_min_values_range_estimator': {'metric_configuration': {'domain_kwargs': {'column': 'data_min'}, 'metric_dependencies': None, 'metric_name': 'column.min', 'metric_value_kwargs': None}, 'num_batches': 1}}})"
   ]
  },
  {
   "cell_type": "code",
   "execution_count": 166,
   "id": "da9aa4c7",
   "metadata": {},
   "outputs": [
    {
     "data": {
      "application/json": {
       "ascii": false,
       "bar_format": null,
       "colour": null,
       "elapsed": 0.01640915870666504,
       "initial": 0,
       "n": 0,
       "ncols": null,
       "nrows": null,
       "postfix": null,
       "prefix": "Calculating Metrics",
       "rate": null,
       "total": 4,
       "unit": "it",
       "unit_divisor": 1000,
       "unit_scale": false
      },
      "application/vnd.jupyter.widget-view+json": {
       "model_id": "57c6641406bd4768bacf9725734ea36c",
       "version_major": 2,
       "version_minor": 0
      },
      "text/plain": [
       "Calculating Metrics:   0%|          | 0/4 [00:00<?, ?it/s]"
      ]
     },
     "metadata": {},
     "output_type": "display_data"
    },
    {
     "data": {
      "text/plain": [
       "{\n",
       "  \"success\": true,\n",
       "  \"result\": {\n",
       "    \"observed_value\": {\n",
       "      \"quantiles\": [\n",
       "        0.25,\n",
       "        0.5,\n",
       "        0.75\n",
       "      ],\n",
       "      \"values\": [\n",
       "        -54.34331130981445,\n",
       "        0.0,\n",
       "        0.0\n",
       "      ]\n",
       "    },\n",
       "    \"details\": {\n",
       "      \"success_details\": [\n",
       "        true,\n",
       "        true,\n",
       "        true\n",
       "      ]\n",
       "    }\n",
       "  },\n",
       "  \"meta\": {},\n",
       "  \"exception_info\": {\n",
       "    \"raised_exception\": false,\n",
       "    \"exception_traceback\": null,\n",
       "    \"exception_message\": null\n",
       "  }\n",
       "}"
      ]
     },
     "execution_count": 166,
     "metadata": {},
     "output_type": "execute_result"
    }
   ],
   "source": [
    "\n",
    "validator.expect_column_quantile_values_to_be_between(column='data_min', allow_relative_error=False, quantile_ranges={'quantiles': [0.25, 0.5, 0.75], 'value_ranges': [[-54.34331130981445, -54.34331130981445], [0.0, 0.0], [0.0, 0.0]]}, meta={'profiler_details': {'metric_configuration': {'domain_kwargs': {'column': 'data_min'}, 'metric_dependencies': None, 'metric_name': 'column.quantile_values', 'metric_value_kwargs': {'allow_relative_error': False, 'quantiles': [0.25, 0.5, 0.75]}}, 'num_batches': 1}})"
   ]
  },
  {
   "cell_type": "code",
   "execution_count": 167,
   "id": "ac5fcfcf",
   "metadata": {},
   "outputs": [
    {
     "data": {
      "application/json": {
       "ascii": false,
       "bar_format": null,
       "colour": null,
       "elapsed": 0.01669025421142578,
       "initial": 0,
       "n": 0,
       "ncols": null,
       "nrows": null,
       "postfix": null,
       "prefix": "Calculating Metrics",
       "rate": null,
       "total": 4,
       "unit": "it",
       "unit_divisor": 1000,
       "unit_scale": false
      },
      "application/vnd.jupyter.widget-view+json": {
       "model_id": "49228bf62f5147129d9b447c34a48180",
       "version_major": 2,
       "version_minor": 0
      },
      "text/plain": [
       "Calculating Metrics:   0%|          | 0/4 [00:00<?, ?it/s]"
      ]
     },
     "metadata": {},
     "output_type": "display_data"
    },
    {
     "data": {
      "text/plain": [
       "{\n",
       "  \"success\": true,\n",
       "  \"result\": {\n",
       "    \"observed_value\": 0.0\n",
       "  },\n",
       "  \"meta\": {},\n",
       "  \"exception_info\": {\n",
       "    \"raised_exception\": false,\n",
       "    \"exception_traceback\": null,\n",
       "    \"exception_message\": null\n",
       "  }\n",
       "}"
      ]
     },
     "execution_count": 167,
     "metadata": {},
     "output_type": "execute_result"
    }
   ],
   "source": [
    "\n",
    "validator.expect_column_median_to_be_between(column='data_min', max_value=0.0, min_value=0.0, strict_max=False, strict_min=False, meta={'profiler_details': {'metric_configuration': {'domain_kwargs': {'column': 'data_min'}, 'metric_dependencies': None, 'metric_name': 'column.median', 'metric_value_kwargs': None}, 'num_batches': 1}})"
   ]
  },
  {
   "cell_type": "code",
   "execution_count": 168,
   "id": "bb6e317f",
   "metadata": {},
   "outputs": [
    {
     "name": "stderr",
     "output_type": "stream",
     "text": [
      "/Users/adh.arash/Downloads/conda/lib/python3.9/site-packages/ipykernel/ipkernel.py:283: DeprecationWarning: `should_run_async` will not call `transform_cell` automatically in the future. Please pass the result to `transformed_cell` argument and any exception that happen during thetransform in `preprocessing_exc_tuple` in IPython 7.17 and above.\n",
      "  and should_run_async(code)\n"
     ]
    },
    {
     "data": {
      "application/json": {
       "ascii": false,
       "bar_format": null,
       "colour": null,
       "elapsed": 0.019201993942260742,
       "initial": 0,
       "n": 0,
       "ncols": null,
       "nrows": null,
       "postfix": null,
       "prefix": "Calculating Metrics",
       "rate": null,
       "total": 4,
       "unit": "it",
       "unit_divisor": 1000,
       "unit_scale": false
      },
      "application/vnd.jupyter.widget-view+json": {
       "model_id": "ed37d900394d4df4b2531f2f9a19ceae",
       "version_major": 2,
       "version_minor": 0
      },
      "text/plain": [
       "Calculating Metrics:   0%|          | 0/4 [00:00<?, ?it/s]"
      ]
     },
     "metadata": {},
     "output_type": "display_data"
    },
    {
     "data": {
      "text/plain": [
       "{\n",
       "  \"success\": true,\n",
       "  \"result\": {\n",
       "    \"observed_value\": -31.575113660166586\n",
       "  },\n",
       "  \"meta\": {},\n",
       "  \"exception_info\": {\n",
       "    \"raised_exception\": false,\n",
       "    \"exception_traceback\": null,\n",
       "    \"exception_message\": null\n",
       "  }\n",
       "}"
      ]
     },
     "execution_count": 168,
     "metadata": {},
     "output_type": "execute_result"
    }
   ],
   "source": [
    "\n",
    "validator.expect_column_mean_to_be_between(column='data_min', max_value=-31.575113660166586, min_value=-31.575113660166586, strict_max=False, strict_min=False, meta={'profiler_details': {'metric_configuration': {'domain_kwargs': {'column': 'data_min'}, 'metric_dependencies': None, 'metric_name': 'column.mean', 'metric_value_kwargs': None}, 'num_batches': 1}})"
   ]
  },
  {
   "cell_type": "code",
   "execution_count": 169,
   "id": "455d785d",
   "metadata": {},
   "outputs": [
    {
     "data": {
      "application/json": {
       "ascii": false,
       "bar_format": null,
       "colour": null,
       "elapsed": 0.019869089126586914,
       "initial": 0,
       "n": 0,
       "ncols": null,
       "nrows": null,
       "postfix": null,
       "prefix": "Calculating Metrics",
       "rate": null,
       "total": 4,
       "unit": "it",
       "unit_divisor": 1000,
       "unit_scale": false
      },
      "application/vnd.jupyter.widget-view+json": {
       "model_id": "bc6ef02b590846389846802cdef63927",
       "version_major": 2,
       "version_minor": 0
      },
      "text/plain": [
       "Calculating Metrics:   0%|          | 0/4 [00:00<?, ?it/s]"
      ]
     },
     "metadata": {},
     "output_type": "display_data"
    },
    {
     "data": {
      "text/plain": [
       "{\n",
       "  \"success\": true,\n",
       "  \"result\": {\n",
       "    \"observed_value\": 474.0938475500106\n",
       "  },\n",
       "  \"meta\": {},\n",
       "  \"exception_info\": {\n",
       "    \"raised_exception\": false,\n",
       "    \"exception_traceback\": null,\n",
       "    \"exception_message\": null\n",
       "  }\n",
       "}"
      ]
     },
     "execution_count": 169,
     "metadata": {},
     "output_type": "execute_result"
    }
   ],
   "source": [
    "\n",
    "validator.expect_column_stdev_to_be_between(column='data_min', max_value=474.0938475500106, min_value=474.0938475500106, strict_max=False, strict_min=False, meta={'profiler_details': {'metric_configuration': {'domain_kwargs': {'column': 'data_min'}, 'metric_dependencies': None, 'metric_name': 'column.standard_deviation', 'metric_value_kwargs': None}, 'num_batches': 1}})"
   ]
  },
  {
   "cell_type": "markdown",
   "id": "7df56165",
   "metadata": {},
   "source": [
    "#### `data_max`"
   ]
  },
  {
   "cell_type": "code",
   "execution_count": 170,
   "id": "49751d3d",
   "metadata": {},
   "outputs": [
    {
     "data": {
      "application/json": {
       "ascii": false,
       "bar_format": null,
       "colour": null,
       "elapsed": 0.018897056579589844,
       "initial": 0,
       "n": 0,
       "ncols": null,
       "nrows": null,
       "postfix": null,
       "prefix": "Calculating Metrics",
       "rate": null,
       "total": 4,
       "unit": "it",
       "unit_divisor": 1000,
       "unit_scale": false
      },
      "application/vnd.jupyter.widget-view+json": {
       "model_id": "f9fa36db46034a6098d5e49a9a03716c",
       "version_major": 2,
       "version_minor": 0
      },
      "text/plain": [
       "Calculating Metrics:   0%|          | 0/4 [00:00<?, ?it/s]"
      ]
     },
     "metadata": {},
     "output_type": "display_data"
    },
    {
     "data": {
      "text/plain": [
       "{\n",
       "  \"success\": true,\n",
       "  \"result\": {\n",
       "    \"observed_value\": -48.28739547729492\n",
       "  },\n",
       "  \"meta\": {},\n",
       "  \"exception_info\": {\n",
       "    \"raised_exception\": false,\n",
       "    \"exception_traceback\": null,\n",
       "    \"exception_message\": null\n",
       "  }\n",
       "}"
      ]
     },
     "execution_count": 170,
     "metadata": {},
     "output_type": "execute_result"
    }
   ],
   "source": [
    "\n",
    "validator.expect_column_min_to_be_between(column='data_max', max_value=-48.28739547729492, min_value=-48.28739547729492, strict_max=False, strict_min=False, meta={'profiler_details': {'metric_configuration': {'domain_kwargs': {'column': 'data_max'}, 'metric_dependencies': None, 'metric_name': 'column.min', 'metric_value_kwargs': None}, 'num_batches': 1}})"
   ]
  },
  {
   "cell_type": "code",
   "execution_count": 171,
   "id": "0081a906",
   "metadata": {},
   "outputs": [
    {
     "data": {
      "application/json": {
       "ascii": false,
       "bar_format": null,
       "colour": null,
       "elapsed": 0.02181100845336914,
       "initial": 0,
       "n": 0,
       "ncols": null,
       "nrows": null,
       "postfix": null,
       "prefix": "Calculating Metrics",
       "rate": null,
       "total": 4,
       "unit": "it",
       "unit_divisor": 1000,
       "unit_scale": false
      },
      "application/vnd.jupyter.widget-view+json": {
       "model_id": "5afd31a888b14cae83e56aea4803a484",
       "version_major": 2,
       "version_minor": 0
      },
      "text/plain": [
       "Calculating Metrics:   0%|          | 0/4 [00:00<?, ?it/s]"
      ]
     },
     "metadata": {},
     "output_type": "display_data"
    },
    {
     "data": {
      "text/plain": [
       "{\n",
       "  \"success\": true,\n",
       "  \"result\": {\n",
       "    \"observed_value\": 935036.0\n",
       "  },\n",
       "  \"meta\": {},\n",
       "  \"exception_info\": {\n",
       "    \"raised_exception\": false,\n",
       "    \"exception_traceback\": null,\n",
       "    \"exception_message\": null\n",
       "  }\n",
       "}"
      ]
     },
     "execution_count": 171,
     "metadata": {},
     "output_type": "execute_result"
    }
   ],
   "source": [
    "\n",
    "validator.expect_column_max_to_be_between(column='data_max', max_value=935036.0, min_value=935036.0, strict_max=False, strict_min=False, meta={'profiler_details': {'metric_configuration': {'domain_kwargs': {'column': 'data_max'}, 'metric_dependencies': None, 'metric_name': 'column.max', 'metric_value_kwargs': None}, 'num_batches': 1}})"
   ]
  },
  {
   "cell_type": "code",
   "execution_count": 172,
   "id": "cb203989",
   "metadata": {},
   "outputs": [
    {
     "data": {
      "application/json": {
       "ascii": false,
       "bar_format": null,
       "colour": null,
       "elapsed": 0.01906895637512207,
       "initial": 0,
       "n": 0,
       "ncols": null,
       "nrows": null,
       "postfix": null,
       "prefix": "Calculating Metrics",
       "rate": null,
       "total": 8,
       "unit": "it",
       "unit_divisor": 1000,
       "unit_scale": false
      },
      "application/vnd.jupyter.widget-view+json": {
       "model_id": "11c4200ca83049adaad28b6d4639f659",
       "version_major": 2,
       "version_minor": 0
      },
      "text/plain": [
       "Calculating Metrics:   0%|          | 0/8 [00:00<?, ?it/s]"
      ]
     },
     "metadata": {},
     "output_type": "display_data"
    },
    {
     "name": "stderr",
     "output_type": "stream",
     "text": [
      "/Users/adh.arash/Downloads/conda/lib/python3.9/site-packages/great_expectations/expectations/metrics/map_metric_provider.py:1428: FutureWarning: The behavior of `series[i:j]` with an integer-dtype index is deprecated. In a future version, this will be treated as *label-based* indexing, consistent with e.g. `series[i]` lookups. To retain the old behavior, use `series.iloc[i:j]`. To get the future behavior, use `series.loc[i:j]`.\n",
      "  return list(domain_values[: result_format[\"partial_unexpected_count\"]])\n"
     ]
    },
    {
     "data": {
      "text/plain": [
       "{\n",
       "  \"success\": true,\n",
       "  \"result\": {\n",
       "    \"element_count\": 76004,\n",
       "    \"unexpected_count\": 0,\n",
       "    \"unexpected_percent\": 0.0,\n",
       "    \"partial_unexpected_list\": [],\n",
       "    \"missing_count\": 3,\n",
       "    \"missing_percent\": 0.003947160675753908,\n",
       "    \"unexpected_percent_total\": 0.0,\n",
       "    \"unexpected_percent_nonmissing\": 0.0\n",
       "  },\n",
       "  \"meta\": {},\n",
       "  \"exception_info\": {\n",
       "    \"raised_exception\": false,\n",
       "    \"exception_traceback\": null,\n",
       "    \"exception_message\": null\n",
       "  }\n",
       "}"
      ]
     },
     "execution_count": 172,
     "metadata": {},
     "output_type": "execute_result"
    }
   ],
   "source": [
    "\n",
    "validator.expect_column_values_to_be_between(column='data_max', max_value=935036.0, min_value=-48.28739547729492, mostly=1.0, strict_max=False, strict_min=False, meta={'profiler_details': {'column_max_values_range_estimator': {'metric_configuration': {'domain_kwargs': {'column': 'data_max'}, 'metric_dependencies': None, 'metric_name': 'column.max', 'metric_value_kwargs': None}, 'num_batches': 1}, 'column_min_values_range_estimator': {'metric_configuration': {'domain_kwargs': {'column': 'data_max'}, 'metric_dependencies': None, 'metric_name': 'column.min', 'metric_value_kwargs': None}, 'num_batches': 1}}})"
   ]
  },
  {
   "cell_type": "code",
   "execution_count": 173,
   "id": "0a199b2d",
   "metadata": {},
   "outputs": [
    {
     "data": {
      "application/json": {
       "ascii": false,
       "bar_format": null,
       "colour": null,
       "elapsed": 0.01683497428894043,
       "initial": 0,
       "n": 0,
       "ncols": null,
       "nrows": null,
       "postfix": null,
       "prefix": "Calculating Metrics",
       "rate": null,
       "total": 4,
       "unit": "it",
       "unit_divisor": 1000,
       "unit_scale": false
      },
      "application/vnd.jupyter.widget-view+json": {
       "model_id": "c654fc01f48d44d9b20cbdf3a206ef06",
       "version_major": 2,
       "version_minor": 0
      },
      "text/plain": [
       "Calculating Metrics:   0%|          | 0/4 [00:00<?, ?it/s]"
      ]
     },
     "metadata": {},
     "output_type": "display_data"
    },
    {
     "data": {
      "text/plain": [
       "{\n",
       "  \"success\": true,\n",
       "  \"result\": {\n",
       "    \"observed_value\": {\n",
       "      \"quantiles\": [\n",
       "        0.25,\n",
       "        0.5,\n",
       "        0.75\n",
       "      ],\n",
       "      \"values\": [\n",
       "        0.1532760560512542,\n",
       "        25.870397567749023,\n",
       "        254.0\n",
       "      ]\n",
       "    },\n",
       "    \"details\": {\n",
       "      \"success_details\": [\n",
       "        true,\n",
       "        true,\n",
       "        true\n",
       "      ]\n",
       "    }\n",
       "  },\n",
       "  \"meta\": {},\n",
       "  \"exception_info\": {\n",
       "    \"raised_exception\": false,\n",
       "    \"exception_traceback\": null,\n",
       "    \"exception_message\": null\n",
       "  }\n",
       "}"
      ]
     },
     "execution_count": 173,
     "metadata": {},
     "output_type": "execute_result"
    }
   ],
   "source": [
    "\n",
    "validator.expect_column_quantile_values_to_be_between(column='data_max', allow_relative_error=False, quantile_ranges={'quantiles': [0.25, 0.5, 0.75], 'value_ranges': [[0.1532760560512542, 0.1532760560512542], [25.870397567749023, 25.870397567749023], [254.0, 254.0]]}, meta={'profiler_details': {'metric_configuration': {'domain_kwargs': {'column': 'data_max'}, 'metric_dependencies': None, 'metric_name': 'column.quantile_values', 'metric_value_kwargs': {'allow_relative_error': False, 'quantiles': [0.25, 0.5, 0.75]}}, 'num_batches': 1}})"
   ]
  },
  {
   "cell_type": "code",
   "execution_count": 174,
   "id": "51ac7db4",
   "metadata": {},
   "outputs": [
    {
     "data": {
      "application/json": {
       "ascii": false,
       "bar_format": null,
       "colour": null,
       "elapsed": 0.016268014907836914,
       "initial": 0,
       "n": 0,
       "ncols": null,
       "nrows": null,
       "postfix": null,
       "prefix": "Calculating Metrics",
       "rate": null,
       "total": 4,
       "unit": "it",
       "unit_divisor": 1000,
       "unit_scale": false
      },
      "application/vnd.jupyter.widget-view+json": {
       "model_id": "65cb3946d1d54339b565d100a64076f5",
       "version_major": 2,
       "version_minor": 0
      },
      "text/plain": [
       "Calculating Metrics:   0%|          | 0/4 [00:00<?, ?it/s]"
      ]
     },
     "metadata": {},
     "output_type": "display_data"
    },
    {
     "data": {
      "text/plain": [
       "{\n",
       "  \"success\": true,\n",
       "  \"result\": {\n",
       "    \"observed_value\": 25.870397567749023\n",
       "  },\n",
       "  \"meta\": {},\n",
       "  \"exception_info\": {\n",
       "    \"raised_exception\": false,\n",
       "    \"exception_traceback\": null,\n",
       "    \"exception_message\": null\n",
       "  }\n",
       "}"
      ]
     },
     "execution_count": 174,
     "metadata": {},
     "output_type": "execute_result"
    }
   ],
   "source": [
    "\n",
    "validator.expect_column_median_to_be_between(column='data_max', max_value=25.870397567749023, min_value=25.870397567749023, strict_max=False, strict_min=False, meta={'profiler_details': {'metric_configuration': {'domain_kwargs': {'column': 'data_max'}, 'metric_dependencies': None, 'metric_name': 'column.median', 'metric_value_kwargs': None}, 'num_batches': 1}})"
   ]
  },
  {
   "cell_type": "code",
   "execution_count": 175,
   "id": "b1b9be3e",
   "metadata": {},
   "outputs": [
    {
     "name": "stderr",
     "output_type": "stream",
     "text": [
      "/Users/adh.arash/Downloads/conda/lib/python3.9/site-packages/ipykernel/ipkernel.py:283: DeprecationWarning: `should_run_async` will not call `transform_cell` automatically in the future. Please pass the result to `transformed_cell` argument and any exception that happen during thetransform in `preprocessing_exc_tuple` in IPython 7.17 and above.\n",
      "  and should_run_async(code)\n"
     ]
    },
    {
     "data": {
      "application/json": {
       "ascii": false,
       "bar_format": null,
       "colour": null,
       "elapsed": 0.016122102737426758,
       "initial": 0,
       "n": 0,
       "ncols": null,
       "nrows": null,
       "postfix": null,
       "prefix": "Calculating Metrics",
       "rate": null,
       "total": 4,
       "unit": "it",
       "unit_divisor": 1000,
       "unit_scale": false
      },
      "application/vnd.jupyter.widget-view+json": {
       "model_id": "ff8fdf79445044c3b030077a90097f96",
       "version_major": 2,
       "version_minor": 0
      },
      "text/plain": [
       "Calculating Metrics:   0%|          | 0/4 [00:00<?, ?it/s]"
      ]
     },
     "metadata": {},
     "output_type": "display_data"
    },
    {
     "data": {
      "text/plain": [
       "{\n",
       "  \"success\": true,\n",
       "  \"result\": {\n",
       "    \"observed_value\": 34620.575060338226\n",
       "  },\n",
       "  \"meta\": {},\n",
       "  \"exception_info\": {\n",
       "    \"raised_exception\": false,\n",
       "    \"exception_traceback\": null,\n",
       "    \"exception_message\": null\n",
       "  }\n",
       "}"
      ]
     },
     "execution_count": 175,
     "metadata": {},
     "output_type": "execute_result"
    }
   ],
   "source": [
    "\n",
    "validator.expect_column_mean_to_be_between(column='data_max', max_value=34620.575060338226, min_value=34620.575060338226, strict_max=False, strict_min=False, meta={'profiler_details': {'metric_configuration': {'domain_kwargs': {'column': 'data_max'}, 'metric_dependencies': None, 'metric_name': 'column.mean', 'metric_value_kwargs': None}, 'num_batches': 1}})"
   ]
  },
  {
   "cell_type": "code",
   "execution_count": 176,
   "id": "d64a0138",
   "metadata": {},
   "outputs": [
    {
     "data": {
      "application/json": {
       "ascii": false,
       "bar_format": null,
       "colour": null,
       "elapsed": 0.016801118850708008,
       "initial": 0,
       "n": 0,
       "ncols": null,
       "nrows": null,
       "postfix": null,
       "prefix": "Calculating Metrics",
       "rate": null,
       "total": 4,
       "unit": "it",
       "unit_divisor": 1000,
       "unit_scale": false
      },
      "application/vnd.jupyter.widget-view+json": {
       "model_id": "290623d4f50e47b0a0da26b94035e63f",
       "version_major": 2,
       "version_minor": 0
      },
      "text/plain": [
       "Calculating Metrics:   0%|          | 0/4 [00:00<?, ?it/s]"
      ]
     },
     "metadata": {},
     "output_type": "display_data"
    },
    {
     "data": {
      "text/plain": [
       "{\n",
       "  \"success\": true,\n",
       "  \"result\": {\n",
       "    \"observed_value\": 93853.56373709308\n",
       "  },\n",
       "  \"meta\": {},\n",
       "  \"exception_info\": {\n",
       "    \"raised_exception\": false,\n",
       "    \"exception_traceback\": null,\n",
       "    \"exception_message\": null\n",
       "  }\n",
       "}"
      ]
     },
     "execution_count": 176,
     "metadata": {},
     "output_type": "execute_result"
    }
   ],
   "source": [
    "\n",
    "validator.expect_column_stdev_to_be_between(column='data_max', max_value=93853.56373709308, min_value=93853.56373709308, strict_max=False, strict_min=False, meta={'profiler_details': {'metric_configuration': {'domain_kwargs': {'column': 'data_max'}, 'metric_dependencies': None, 'metric_name': 'column.standard_deviation', 'metric_value_kwargs': None}, 'num_batches': 1}})"
   ]
  },
  {
   "cell_type": "markdown",
   "id": "89f59e84",
   "metadata": {},
   "source": [
    "#### `event_type`"
   ]
  },
  {
   "cell_type": "code",
   "execution_count": 177,
   "id": "fd3a0887",
   "metadata": {},
   "outputs": [
    {
     "data": {
      "application/json": {
       "ascii": false,
       "bar_format": null,
       "colour": null,
       "elapsed": 0.015971899032592773,
       "initial": 0,
       "n": 0,
       "ncols": null,
       "nrows": null,
       "postfix": null,
       "prefix": "Calculating Metrics",
       "rate": null,
       "total": 9,
       "unit": "it",
       "unit_divisor": 1000,
       "unit_scale": false
      },
      "application/vnd.jupyter.widget-view+json": {
       "model_id": "9a4d425016aa4ca384d750ccd37a35b0",
       "version_major": 2,
       "version_minor": 0
      },
      "text/plain": [
       "Calculating Metrics:   0%|          | 0/9 [00:00<?, ?it/s]"
      ]
     },
     "metadata": {},
     "output_type": "display_data"
    },
    {
     "name": "stderr",
     "output_type": "stream",
     "text": [
      "/Users/adh.arash/Downloads/conda/lib/python3.9/site-packages/great_expectations/expectations/metrics/map_metric_provider.py:1428: FutureWarning: The behavior of `series[i:j]` with an integer-dtype index is deprecated. In a future version, this will be treated as *label-based* indexing, consistent with e.g. `series[i]` lookups. To retain the old behavior, use `series.iloc[i:j]`. To get the future behavior, use `series.loc[i:j]`.\n",
      "  return list(domain_values[: result_format[\"partial_unexpected_count\"]])\n"
     ]
    },
    {
     "data": {
      "text/plain": [
       "{\n",
       "  \"success\": true,\n",
       "  \"result\": {\n",
       "    \"element_count\": 76004,\n",
       "    \"unexpected_count\": 0,\n",
       "    \"unexpected_percent\": 0.0,\n",
       "    \"partial_unexpected_list\": [],\n",
       "    \"missing_count\": 59360,\n",
       "    \"missing_percent\": 78.10115257091732,\n",
       "    \"unexpected_percent_total\": 0.0,\n",
       "    \"unexpected_percent_nonmissing\": 0.0\n",
       "  },\n",
       "  \"meta\": {},\n",
       "  \"exception_info\": {\n",
       "    \"raised_exception\": false,\n",
       "    \"exception_traceback\": null,\n",
       "    \"exception_message\": null\n",
       "  }\n",
       "}"
      ]
     },
     "execution_count": 177,
     "metadata": {},
     "output_type": "execute_result"
    }
   ],
   "source": [
    "\n",
    "validator.expect_column_value_lengths_to_be_between(column='event_type', max_value=17, min_value=4, mostly=1.0, strict_max=False, strict_min=False, meta={'profiler_details': {'column_max_length_range_estimator': {'metric_configuration': {'domain_kwargs': {'column': 'event_type'}, 'metric_dependencies': None, 'metric_name': 'column_values.length.max', 'metric_value_kwargs': None}, 'num_batches': 1}, 'column_min_length_range_estimator': {'metric_configuration': {'domain_kwargs': {'column': 'event_type'}, 'metric_dependencies': None, 'metric_name': 'column_values.length.min', 'metric_value_kwargs': None}, 'num_batches': 1}}})"
   ]
  },
  {
   "cell_type": "code",
   "execution_count": 178,
   "id": "e1085289",
   "metadata": {},
   "outputs": [
    {
     "name": "stderr",
     "output_type": "stream",
     "text": [
      "<>:1: DeprecationWarning: invalid escape sequence \\.\n",
      "<>:1: DeprecationWarning: invalid escape sequence \\.\n",
      "<ipython-input-178-6c30f4b58ac5>:1: DeprecationWarning: invalid escape sequence \\.\n",
      "  validator.expect_column_values_to_match_regex(column='event_type', mostly=1.0, regex='[A-Za-z0-9\\.,;:!?()\\\"'%\\-]+', meta={'profiler_details': {'evaluated_regexes': {'(?:25[0-5]|2[0-4]\\\\d|[01]\\\\d{2}|\\\\d{1,2})(?:.(?:25[0-5]|2[0-4]\\\\d|[01]\\\\d{2}|\\\\d{1,2})){3}': 0.0, '-?\\\\d+': 0.0, '-?\\\\d+(?:\\\\.\\\\d*)?': 0.0, '<\\\\/?(?:p|a|b|img)(?: \\\\/)?>': 0.0, '[A-Za-z0-9\\\\.,;:!?()\\\\\"\\'%\\\\-]+': 1.0, '\\\\b[0-9a-fA-F]{8}\\\\b-[0-9a-fA-F]{4}-[0-5][0-9a-fA-F]{3}-[089ab][0-9a-fA-F]{3}-\\\\b[0-9a-fA-F]{12}\\\\b ': 0.0, '\\\\d+': 0.0, '\\\\s+$': 0.0, '^\\\\s+': 0.0, 'https?:\\\\/\\\\/(?:www\\\\.)?[-a-zA-Z0-9@:%._\\\\+~#=]{2,255}\\\\.[a-z]{2,6}\\\\b(?:[-a-zA-Z0-9@:%_\\\\+.~#()?&//=]*)': 0.0}, 'success_ratio': 1.0}})\n"
     ]
    },
    {
     "ename": "SyntaxError",
     "evalue": "unexpected character after line continuation character (<ipython-input-178-6c30f4b58ac5>, line 1)",
     "output_type": "error",
     "traceback": [
      "\u001b[0;36m  Cell \u001b[0;32mIn [178], line 1\u001b[0;36m\u001b[0m\n\u001b[0;31m    validator.expect_column_values_to_match_regex(column='event_type', mostly=1.0, regex='[A-Za-z0-9\\.,;:!?()\\\"'%\\-]+', meta={'profiler_details': {'evaluated_regexes': {'(?:25[0-5]|2[0-4]\\\\d|[01]\\\\d{2}|\\\\d{1,2})(?:.(?:25[0-5]|2[0-4]\\\\d|[01]\\\\d{2}|\\\\d{1,2})){3}': 0.0, '-?\\\\d+': 0.0, '-?\\\\d+(?:\\\\.\\\\d*)?': 0.0, '<\\\\/?(?:p|a|b|img)(?: \\\\/)?>': 0.0, '[A-Za-z0-9\\\\.,;:!?()\\\\\"\\'%\\\\-]+': 1.0, '\\\\b[0-9a-fA-F]{8}\\\\b-[0-9a-fA-F]{4}-[0-5][0-9a-fA-F]{3}-[089ab][0-9a-fA-F]{3}-\\\\b[0-9a-fA-F]{12}\\\\b ': 0.0, '\\\\d+': 0.0, '\\\\s+$': 0.0, '^\\\\s+': 0.0, 'https?:\\\\/\\\\/(?:www\\\\.)?[-a-zA-Z0-9@:%._\\\\+~#=]{2,255}\\\\.[a-z]{2,6}\\\\b(?:[-a-zA-Z0-9@:%_\\\\+.~#()?&//=]*)': 0.0}, 'success_ratio': 1.0}})\u001b[0m\n\u001b[0m                                                                                                                  ^\u001b[0m\n\u001b[0;31mSyntaxError\u001b[0m\u001b[0;31m:\u001b[0m unexpected character after line continuation character\n"
     ]
    }
   ],
   "source": [
    "\n",
    "validator.expect_column_values_to_match_regex(column='event_type', mostly=1.0, regex='[A-Za-z0-9\\.,;:!?()\\\"'%\\-]+', meta={'profiler_details': {'evaluated_regexes': {'(?:25[0-5]|2[0-4]\\\\d|[01]\\\\d{2}|\\\\d{1,2})(?:.(?:25[0-5]|2[0-4]\\\\d|[01]\\\\d{2}|\\\\d{1,2})){3}': 0.0, '-?\\\\d+': 0.0, '-?\\\\d+(?:\\\\.\\\\d*)?': 0.0, '<\\\\/?(?:p|a|b|img)(?: \\\\/)?>': 0.0, '[A-Za-z0-9\\\\.,;:!?()\\\\\"\\'%\\\\-]+': 1.0, '\\\\b[0-9a-fA-F]{8}\\\\b-[0-9a-fA-F]{4}-[0-5][0-9a-fA-F]{3}-[089ab][0-9a-fA-F]{3}-\\\\b[0-9a-fA-F]{12}\\\\b ': 0.0, '\\\\d+': 0.0, '\\\\s+$': 0.0, '^\\\\s+': 0.0, 'https?:\\\\/\\\\/(?:www\\\\.)?[-a-zA-Z0-9@:%._\\\\+~#=]{2,255}\\\\.[a-z]{2,6}\\\\b(?:[-a-zA-Z0-9@:%_\\\\+.~#()?&//=]*)': 0.0}, 'success_ratio': 1.0}})"
   ]
  },
  {
   "cell_type": "code",
   "execution_count": 179,
   "id": "83595ec4",
   "metadata": {},
   "outputs": [
    {
     "data": {
      "application/json": {
       "ascii": false,
       "bar_format": null,
       "colour": null,
       "elapsed": 0.01617717742919922,
       "initial": 0,
       "n": 0,
       "ncols": null,
       "nrows": null,
       "postfix": null,
       "prefix": "Calculating Metrics",
       "rate": null,
       "total": 8,
       "unit": "it",
       "unit_divisor": 1000,
       "unit_scale": false
      },
      "application/vnd.jupyter.widget-view+json": {
       "model_id": "da7635f1e59e40a1a95ec0ce02161594",
       "version_major": 2,
       "version_minor": 0
      },
      "text/plain": [
       "Calculating Metrics:   0%|          | 0/8 [00:00<?, ?it/s]"
      ]
     },
     "metadata": {},
     "output_type": "display_data"
    },
    {
     "data": {
      "text/plain": [
       "{\n",
       "  \"success\": true,\n",
       "  \"result\": {\n",
       "    \"element_count\": 76004,\n",
       "    \"unexpected_count\": 0,\n",
       "    \"unexpected_percent\": 0.0,\n",
       "    \"partial_unexpected_list\": [],\n",
       "    \"missing_count\": 59360,\n",
       "    \"missing_percent\": 78.10115257091732,\n",
       "    \"unexpected_percent_total\": 0.0,\n",
       "    \"unexpected_percent_nonmissing\": 0.0\n",
       "  },\n",
       "  \"meta\": {},\n",
       "  \"exception_info\": {\n",
       "    \"raised_exception\": false,\n",
       "    \"exception_traceback\": null,\n",
       "    \"exception_message\": null\n",
       "  }\n",
       "}"
      ]
     },
     "execution_count": 179,
     "metadata": {},
     "output_type": "execute_result"
    }
   ],
   "source": [
    "\n",
    "validator.expect_column_values_to_be_in_set(column='event_type', mostly=1.0, value_set=['Thunderstorm Wind', 'Funnel Cloud', 'Flash Flood', 'Lightning', 'Hail', 'Tornado', 'Heavy Rain', 'Flood'], meta={'profiler_details': {'metric_configuration': {'domain_kwargs': {'column': 'event_type'}, 'metric_dependencies': None, 'metric_name': 'column.distinct_values', 'metric_value_kwargs': None}, 'num_batches': 1, 'parse_strings_as_datetimes': False}})"
   ]
  },
  {
   "cell_type": "code",
   "execution_count": 180,
   "id": "0169e68b",
   "metadata": {},
   "outputs": [
    {
     "data": {
      "application/json": {
       "ascii": false,
       "bar_format": null,
       "colour": null,
       "elapsed": 0.02153301239013672,
       "initial": 0,
       "n": 0,
       "ncols": null,
       "nrows": null,
       "postfix": null,
       "prefix": "Calculating Metrics",
       "rate": null,
       "total": 4,
       "unit": "it",
       "unit_divisor": 1000,
       "unit_scale": false
      },
      "application/vnd.jupyter.widget-view+json": {
       "model_id": "111917e72b994afcabd66031ae1f9649",
       "version_major": 2,
       "version_minor": 0
      },
      "text/plain": [
       "Calculating Metrics:   0%|          | 0/4 [00:00<?, ?it/s]"
      ]
     },
     "metadata": {},
     "output_type": "display_data"
    },
    {
     "data": {
      "text/plain": [
       "{\n",
       "  \"success\": true,\n",
       "  \"result\": {\n",
       "    \"observed_value\": 8\n",
       "  },\n",
       "  \"meta\": {},\n",
       "  \"exception_info\": {\n",
       "    \"raised_exception\": false,\n",
       "    \"exception_traceback\": null,\n",
       "    \"exception_message\": null\n",
       "  }\n",
       "}"
      ]
     },
     "execution_count": 180,
     "metadata": {},
     "output_type": "execute_result"
    }
   ],
   "source": [
    "\n",
    "validator.expect_column_unique_value_count_to_be_between(column='event_type', max_value=8, min_value=8, strict_max=False, strict_min=False, meta={'profiler_details': {'metric_configuration': {'domain_kwargs': {'column': 'event_type'}, 'metric_dependencies': None, 'metric_name': 'column.distinct_values.count', 'metric_value_kwargs': None}, 'num_batches': 1}})"
   ]
  },
  {
   "cell_type": "code",
   "execution_count": 181,
   "id": "2a5988be",
   "metadata": {},
   "outputs": [
    {
     "data": {
      "application/json": {
       "ascii": false,
       "bar_format": null,
       "colour": null,
       "elapsed": 0.01639103889465332,
       "initial": 0,
       "n": 0,
       "ncols": null,
       "nrows": null,
       "postfix": null,
       "prefix": "Calculating Metrics",
       "rate": null,
       "total": 7,
       "unit": "it",
       "unit_divisor": 1000,
       "unit_scale": false
      },
      "application/vnd.jupyter.widget-view+json": {
       "model_id": "644d89e760de40149c693127a69d7039",
       "version_major": 2,
       "version_minor": 0
      },
      "text/plain": [
       "Calculating Metrics:   0%|          | 0/7 [00:00<?, ?it/s]"
      ]
     },
     "metadata": {},
     "output_type": "display_data"
    },
    {
     "data": {
      "text/plain": [
       "{\n",
       "  \"success\": true,\n",
       "  \"result\": {\n",
       "    \"observed_value\": 0.0004806536890170632\n",
       "  },\n",
       "  \"meta\": {},\n",
       "  \"exception_info\": {\n",
       "    \"raised_exception\": false,\n",
       "    \"exception_traceback\": null,\n",
       "    \"exception_message\": null\n",
       "  }\n",
       "}"
      ]
     },
     "execution_count": 181,
     "metadata": {},
     "output_type": "execute_result"
    }
   ],
   "source": [
    "\n",
    "validator.expect_column_proportion_of_unique_values_to_be_between(column='event_type', max_value=0.0004806536890170632, min_value=0.0004806536890170632, strict_max=False, strict_min=False, meta={'profiler_details': {'metric_configuration': {'domain_kwargs': {'column': 'event_type'}, 'metric_dependencies': None, 'metric_name': 'column.unique_proportion', 'metric_value_kwargs': None}, 'num_batches': 1}})"
   ]
  },
  {
   "cell_type": "markdown",
   "id": "01929a04",
   "metadata": {},
   "source": [
    "## Review & Save Your Expectations\n",
    "\n",
    "Let's save the expectation suite as a JSON file in the `great_expectations/expectations` directory of your project.\n",
    "\n",
    "Let's now rebuild your Data Docs, which helps you communicate about your data with both machines and humans."
   ]
  },
  {
   "cell_type": "code",
   "execution_count": 182,
   "id": "18fd5eab",
   "metadata": {},
   "outputs": [
    {
     "name": "stdout",
     "output_type": "stream",
     "text": [
      "2022-11-09T23:05:11-0500 - INFO - \t85 expectation(s) included in expectation_suite.\n",
      "{\n",
      "  \"meta\": {\n",
      "    \"citations\": [\n",
      "      {\n",
      "        \"citation_date\": \"2022-10-31T06:35:42.022783Z\",\n",
      "        \"comment\": \"Created by effective Rule-Based Profiler of OnboardingDataAssistant with the configuration included.\\n\"\n",
      "      },\n",
      "      {\n",
      "        \"batch_request\": {\n",
      "          \"data_asset_name\": \"CATALOG.csv\",\n",
      "          \"data_connector_name\": \"default_inferred_data_connector_name\",\n",
      "          \"datasource_name\": \"SEVIR_CATALOG_1\",\n",
      "          \"limit\": 1000\n",
      "        },\n",
      "        \"citation_date\": \"2022-11-09T22:17:05.547067Z\",\n",
      "        \"comment\": \"Created suite added via CLI\"\n",
      "      }\n",
      "    ],\n",
      "    \"great_expectations_version\": \"0.15.29\"\n",
      "  },\n",
      "  \"expectations\": [\n",
      "    {\n",
      "      \"kwargs\": {\n",
      "        \"max_value\": 76004,\n",
      "        \"min_value\": 76004\n",
      "      },\n",
      "      \"meta\": {},\n",
      "      \"expectation_type\": \"expect_table_row_count_to_be_between\"\n",
      "    },\n",
      "    {\n",
      "      \"kwargs\": {\n",
      "        \"column_set\": [\n",
      "          \"event_id\",\n",
      "          \"episode_id\",\n",
      "          \"data_min\",\n",
      "          \"pct_missing\",\n",
      "          \"width_m\",\n",
      "          \"event_type\",\n",
      "          \"time_utc\",\n",
      "          \"id\",\n",
      "          \"urcrnrlon\",\n",
      "          \"llcrnrlat\",\n",
      "          \"llcrnrlon\",\n",
      "          \"file_name\",\n",
      "          \"data_max\",\n",
      "          \"minute_offsets\",\n",
      "          \"size_x\",\n",
      "          \"img_type\",\n",
      "          \"proj\",\n",
      "          \"height_m\",\n",
      "          \"urcrnrlat\",\n",
      "          \"size_y\",\n",
      "          \"file_index\"\n",
      "        ]\n",
      "      },\n",
      "      \"meta\": {},\n",
      "      \"expectation_type\": \"expect_table_columns_to_match_set\"\n",
      "    },\n",
      "    {\n",
      "      \"kwargs\": {\n",
      "        \"column\": \"id\"\n",
      "      },\n",
      "      \"meta\": {\n",
      "        \"profiler_details\": {\n",
      "          \"metric_configuration\": {\n",
      "            \"domain_kwargs\": {\n",
      "              \"column\": \"id\"\n",
      "            },\n",
      "            \"metric_dependencies\": null,\n",
      "            \"metric_name\": \"column_values.nonnull.unexpected_count\",\n",
      "            \"metric_value_kwargs\": null\n",
      "          },\n",
      "          \"num_batches\": 2\n",
      "        }\n",
      "      },\n",
      "      \"expectation_type\": \"expect_column_values_to_not_be_null\"\n",
      "    },\n",
      "    {\n",
      "      \"kwargs\": {\n",
      "        \"column\": \"file_name\"\n",
      "      },\n",
      "      \"meta\": {\n",
      "        \"profiler_details\": {\n",
      "          \"metric_configuration\": {\n",
      "            \"domain_kwargs\": {\n",
      "              \"column\": \"file_name\"\n",
      "            },\n",
      "            \"metric_dependencies\": null,\n",
      "            \"metric_name\": \"column_values.nonnull.unexpected_count\",\n",
      "            \"metric_value_kwargs\": null\n",
      "          },\n",
      "          \"num_batches\": 1\n",
      "        }\n",
      "      },\n",
      "      \"expectation_type\": \"expect_column_values_to_not_be_null\"\n",
      "    },\n",
      "    {\n",
      "      \"kwargs\": {\n",
      "        \"column\": \"file_index\"\n",
      "      },\n",
      "      \"meta\": {\n",
      "        \"profiler_details\": {\n",
      "          \"metric_configuration\": {\n",
      "            \"domain_kwargs\": {\n",
      "              \"column\": \"file_index\"\n",
      "            },\n",
      "            \"metric_dependencies\": null,\n",
      "            \"metric_name\": \"column_values.nonnull.unexpected_count\",\n",
      "            \"metric_value_kwargs\": null\n",
      "          },\n",
      "          \"num_batches\": 1\n",
      "        }\n",
      "      },\n",
      "      \"expectation_type\": \"expect_column_values_to_not_be_null\"\n",
      "    },\n",
      "    {\n",
      "      \"kwargs\": {\n",
      "        \"column\": \"img_type\"\n",
      "      },\n",
      "      \"meta\": {\n",
      "        \"profiler_details\": {\n",
      "          \"metric_configuration\": {\n",
      "            \"domain_kwargs\": {\n",
      "              \"column\": \"img_type\"\n",
      "            },\n",
      "            \"metric_dependencies\": null,\n",
      "            \"metric_name\": \"column_values.nonnull.unexpected_count\",\n",
      "            \"metric_value_kwargs\": null\n",
      "          },\n",
      "          \"num_batches\": 1\n",
      "        }\n",
      "      },\n",
      "      \"expectation_type\": \"expect_column_values_to_not_be_null\"\n",
      "    },\n",
      "    {\n",
      "      \"kwargs\": {\n",
      "        \"column\": \"time_utc\"\n",
      "      },\n",
      "      \"meta\": {\n",
      "        \"profiler_details\": {\n",
      "          \"metric_configuration\": {\n",
      "            \"domain_kwargs\": {\n",
      "              \"column\": \"time_utc\"\n",
      "            },\n",
      "            \"metric_dependencies\": null,\n",
      "            \"metric_name\": \"column_values.nonnull.unexpected_count\",\n",
      "            \"metric_value_kwargs\": null\n",
      "          },\n",
      "          \"num_batches\": 1\n",
      "        }\n",
      "      },\n",
      "      \"expectation_type\": \"expect_column_values_to_not_be_null\"\n",
      "    },\n",
      "    {\n",
      "      \"kwargs\": {\n",
      "        \"column\": \"llcrnrlat\"\n",
      "      },\n",
      "      \"meta\": {\n",
      "        \"profiler_details\": {\n",
      "          \"metric_configuration\": {\n",
      "            \"domain_kwargs\": {\n",
      "              \"column\": \"llcrnrlat\"\n",
      "            },\n",
      "            \"metric_dependencies\": null,\n",
      "            \"metric_name\": \"column_values.nonnull.unexpected_count\",\n",
      "            \"metric_value_kwargs\": null\n",
      "          },\n",
      "          \"num_batches\": 1\n",
      "        }\n",
      "      },\n",
      "      \"expectation_type\": \"expect_column_values_to_not_be_null\"\n",
      "    },\n",
      "    {\n",
      "      \"kwargs\": {\n",
      "        \"column\": \"llcrnrlon\"\n",
      "      },\n",
      "      \"meta\": {\n",
      "        \"profiler_details\": {\n",
      "          \"metric_configuration\": {\n",
      "            \"domain_kwargs\": {\n",
      "              \"column\": \"llcrnrlon\"\n",
      "            },\n",
      "            \"metric_dependencies\": null,\n",
      "            \"metric_name\": \"column_values.nonnull.unexpected_count\",\n",
      "            \"metric_value_kwargs\": null\n",
      "          },\n",
      "          \"num_batches\": 1\n",
      "        }\n",
      "      },\n",
      "      \"expectation_type\": \"expect_column_values_to_not_be_null\"\n",
      "    },\n",
      "    {\n",
      "      \"kwargs\": {\n",
      "        \"column\": \"urcrnrlat\"\n",
      "      },\n",
      "      \"meta\": {\n",
      "        \"profiler_details\": {\n",
      "          \"metric_configuration\": {\n",
      "            \"domain_kwargs\": {\n",
      "              \"column\": \"urcrnrlat\"\n",
      "            },\n",
      "            \"metric_dependencies\": null,\n",
      "            \"metric_name\": \"column_values.nonnull.unexpected_count\",\n",
      "            \"metric_value_kwargs\": null\n",
      "          },\n",
      "          \"num_batches\": 1\n",
      "        }\n",
      "      },\n",
      "      \"expectation_type\": \"expect_column_values_to_not_be_null\"\n",
      "    },\n",
      "    {\n",
      "      \"kwargs\": {\n",
      "        \"column\": \"urcrnrlon\"\n",
      "      },\n",
      "      \"meta\": {\n",
      "        \"profiler_details\": {\n",
      "          \"metric_configuration\": {\n",
      "            \"domain_kwargs\": {\n",
      "              \"column\": \"urcrnrlon\"\n",
      "            },\n",
      "            \"metric_dependencies\": null,\n",
      "            \"metric_name\": \"column_values.nonnull.unexpected_count\",\n",
      "            \"metric_value_kwargs\": null\n",
      "          },\n",
      "          \"num_batches\": 1\n",
      "        }\n",
      "      },\n",
      "      \"expectation_type\": \"expect_column_values_to_not_be_null\"\n",
      "    },\n",
      "    {\n",
      "      \"kwargs\": {\n",
      "        \"column\": \"pct_missing\"\n",
      "      },\n",
      "      \"meta\": {\n",
      "        \"profiler_details\": {\n",
      "          \"metric_configuration\": {\n",
      "            \"domain_kwargs\": {\n",
      "              \"column\": \"pct_missing\"\n",
      "            },\n",
      "            \"metric_dependencies\": null,\n",
      "            \"metric_name\": \"column_values.nonnull.unexpected_count\",\n",
      "            \"metric_value_kwargs\": null\n",
      "          },\n",
      "          \"num_batches\": 1\n",
      "        }\n",
      "      },\n",
      "      \"expectation_type\": \"expect_column_values_to_not_be_null\"\n",
      "    },\n",
      "    {\n",
      "      \"kwargs\": {\n",
      "        \"column\": \"file_index\",\n",
      "        \"max_value\": 0,\n",
      "        \"min_value\": 0,\n",
      "        \"strict_max\": false,\n",
      "        \"strict_min\": false\n",
      "      },\n",
      "      \"meta\": {\n",
      "        \"profiler_details\": {\n",
      "          \"metric_configuration\": {\n",
      "            \"domain_kwargs\": {\n",
      "              \"column\": \"file_index\"\n",
      "            },\n",
      "            \"metric_dependencies\": null,\n",
      "            \"metric_name\": \"column.min\",\n",
      "            \"metric_value_kwargs\": null\n",
      "          },\n",
      "          \"num_batches\": 1\n",
      "        }\n",
      "      },\n",
      "      \"expectation_type\": \"expect_column_min_to_be_between\"\n",
      "    },\n",
      "    {\n",
      "      \"kwargs\": {\n",
      "        \"column\": \"file_index\",\n",
      "        \"max_value\": 2367,\n",
      "        \"min_value\": 2367,\n",
      "        \"strict_max\": false,\n",
      "        \"strict_min\": false\n",
      "      },\n",
      "      \"meta\": {\n",
      "        \"profiler_details\": {\n",
      "          \"metric_configuration\": {\n",
      "            \"domain_kwargs\": {\n",
      "              \"column\": \"file_index\"\n",
      "            },\n",
      "            \"metric_dependencies\": null,\n",
      "            \"metric_name\": \"column.max\",\n",
      "            \"metric_value_kwargs\": null\n",
      "          },\n",
      "          \"num_batches\": 1\n",
      "        }\n",
      "      },\n",
      "      \"expectation_type\": \"expect_column_max_to_be_between\"\n",
      "    },\n",
      "    {\n",
      "      \"kwargs\": {\n",
      "        \"column\": \"file_index\",\n",
      "        \"max_value\": 2367,\n",
      "        \"min_value\": 0,\n",
      "        \"mostly\": 1.0,\n",
      "        \"strict_max\": false,\n",
      "        \"strict_min\": false\n",
      "      },\n",
      "      \"meta\": {\n",
      "        \"profiler_details\": {\n",
      "          \"column_max_values_range_estimator\": {\n",
      "            \"metric_configuration\": {\n",
      "              \"domain_kwargs\": {\n",
      "                \"column\": \"file_index\"\n",
      "              },\n",
      "              \"metric_dependencies\": null,\n",
      "              \"metric_name\": \"column.max\",\n",
      "              \"metric_value_kwargs\": null\n",
      "            },\n",
      "            \"num_batches\": 1\n",
      "          },\n",
      "          \"column_min_values_range_estimator\": {\n",
      "            \"metric_configuration\": {\n",
      "              \"domain_kwargs\": {\n",
      "                \"column\": \"file_index\"\n",
      "              },\n",
      "              \"metric_dependencies\": null,\n",
      "              \"metric_name\": \"column.min\",\n",
      "              \"metric_value_kwargs\": null\n",
      "            },\n",
      "            \"num_batches\": 1\n",
      "          }\n",
      "        }\n",
      "      },\n",
      "      \"expectation_type\": \"expect_column_values_to_be_between\"\n",
      "    },\n",
      "    {\n",
      "      \"kwargs\": {\n",
      "        \"column\": \"file_index\",\n",
      "        \"allow_relative_error\": false,\n",
      "        \"quantile_ranges\": {\n",
      "          \"quantiles\": [\n",
      "            0.25,\n",
      "            0.5,\n",
      "            0.75\n",
      "          ],\n",
      "          \"value_ranges\": [\n",
      "            [\n",
      "              34,\n",
      "              34\n",
      "            ],\n",
      "            [\n",
      "              288,\n",
      "              288\n",
      "            ],\n",
      "            [\n",
      "              953,\n",
      "              953\n",
      "            ]\n",
      "          ]\n",
      "        }\n",
      "      },\n",
      "      \"meta\": {\n",
      "        \"profiler_details\": {\n",
      "          \"metric_configuration\": {\n",
      "            \"domain_kwargs\": {\n",
      "              \"column\": \"file_index\"\n",
      "            },\n",
      "            \"metric_dependencies\": null,\n",
      "            \"metric_name\": \"column.quantile_values\",\n",
      "            \"metric_value_kwargs\": {\n",
      "              \"allow_relative_error\": false,\n",
      "              \"quantiles\": [\n",
      "                0.25,\n",
      "                0.5,\n",
      "                0.75\n",
      "              ]\n",
      "            }\n",
      "          },\n",
      "          \"num_batches\": 1\n",
      "        }\n",
      "      },\n",
      "      \"expectation_type\": \"expect_column_quantile_values_to_be_between\"\n",
      "    },\n",
      "    {\n",
      "      \"kwargs\": {\n",
      "        \"column\": \"file_index\",\n",
      "        \"max_value\": 288.0,\n",
      "        \"min_value\": 288.0,\n",
      "        \"strict_max\": false,\n",
      "        \"strict_min\": false\n",
      "      },\n",
      "      \"meta\": {\n",
      "        \"profiler_details\": {\n",
      "          \"metric_configuration\": {\n",
      "            \"domain_kwargs\": {\n",
      "              \"column\": \"file_index\"\n",
      "            },\n",
      "            \"metric_dependencies\": null,\n",
      "            \"metric_name\": \"column.median\",\n",
      "            \"metric_value_kwargs\": null\n",
      "          },\n",
      "          \"num_batches\": 1\n",
      "        }\n",
      "      },\n",
      "      \"expectation_type\": \"expect_column_median_to_be_between\"\n",
      "    },\n",
      "    {\n",
      "      \"kwargs\": {\n",
      "        \"column\": \"file_index\",\n",
      "        \"max_value\": 560.197529077417,\n",
      "        \"min_value\": 560.197529077417,\n",
      "        \"strict_max\": false,\n",
      "        \"strict_min\": false\n",
      "      },\n",
      "      \"meta\": {\n",
      "        \"profiler_details\": {\n",
      "          \"metric_configuration\": {\n",
      "            \"domain_kwargs\": {\n",
      "              \"column\": \"file_index\"\n",
      "            },\n",
      "            \"metric_dependencies\": null,\n",
      "            \"metric_name\": \"column.mean\",\n",
      "            \"metric_value_kwargs\": null\n",
      "          },\n",
      "          \"num_batches\": 1\n",
      "        }\n",
      "      },\n",
      "      \"expectation_type\": \"expect_column_mean_to_be_between\"\n",
      "    },\n",
      "    {\n",
      "      \"kwargs\": {\n",
      "        \"column\": \"file_index\",\n",
      "        \"max_value\": 623.8829221285116,\n",
      "        \"min_value\": 623.8829221285116,\n",
      "        \"strict_max\": false,\n",
      "        \"strict_min\": false\n",
      "      },\n",
      "      \"meta\": {\n",
      "        \"profiler_details\": {\n",
      "          \"metric_configuration\": {\n",
      "            \"domain_kwargs\": {\n",
      "              \"column\": \"file_index\"\n",
      "            },\n",
      "            \"metric_dependencies\": null,\n",
      "            \"metric_name\": \"column.standard_deviation\",\n",
      "            \"metric_value_kwargs\": null\n",
      "          },\n",
      "          \"num_batches\": 1\n",
      "        }\n",
      "      },\n",
      "      \"expectation_type\": \"expect_column_stdev_to_be_between\"\n",
      "    },\n",
      "    {\n",
      "      \"kwargs\": {\n",
      "        \"column\": \"llcrnrlat\",\n",
      "        \"max_value\": 22.037719406438192,\n",
      "        \"min_value\": 22.037719406438192,\n",
      "        \"strict_max\": false,\n",
      "        \"strict_min\": false\n",
      "      },\n",
      "      \"meta\": {\n",
      "        \"profiler_details\": {\n",
      "          \"metric_configuration\": {\n",
      "            \"domain_kwargs\": {\n",
      "              \"column\": \"llcrnrlat\"\n",
      "            },\n",
      "            \"metric_dependencies\": null,\n",
      "            \"metric_name\": \"column.min\",\n",
      "            \"metric_value_kwargs\": null\n",
      "          },\n",
      "          \"num_batches\": 1\n",
      "        }\n",
      "      },\n",
      "      \"expectation_type\": \"expect_column_min_to_be_between\"\n",
      "    },\n",
      "    {\n",
      "      \"kwargs\": {\n",
      "        \"column\": \"llcrnrlat\",\n",
      "        \"max_value\": 47.6451952545839,\n",
      "        \"min_value\": 47.6451952545839,\n",
      "        \"strict_max\": false,\n",
      "        \"strict_min\": false\n",
      "      },\n",
      "      \"meta\": {\n",
      "        \"profiler_details\": {\n",
      "          \"metric_configuration\": {\n",
      "            \"domain_kwargs\": {\n",
      "              \"column\": \"llcrnrlat\"\n",
      "            },\n",
      "            \"metric_dependencies\": null,\n",
      "            \"metric_name\": \"column.max\",\n",
      "            \"metric_value_kwargs\": null\n",
      "          },\n",
      "          \"num_batches\": 1\n",
      "        }\n",
      "      },\n",
      "      \"expectation_type\": \"expect_column_max_to_be_between\"\n",
      "    },\n",
      "    {\n",
      "      \"kwargs\": {\n",
      "        \"column\": \"llcrnrlat\",\n",
      "        \"max_value\": 47.6451952545839,\n",
      "        \"min_value\": 22.037719406438192,\n",
      "        \"mostly\": 1.0,\n",
      "        \"strict_max\": false,\n",
      "        \"strict_min\": false\n",
      "      },\n",
      "      \"meta\": {\n",
      "        \"profiler_details\": {\n",
      "          \"column_max_values_range_estimator\": {\n",
      "            \"metric_configuration\": {\n",
      "              \"domain_kwargs\": {\n",
      "                \"column\": \"llcrnrlat\"\n",
      "              },\n",
      "              \"metric_dependencies\": null,\n",
      "              \"metric_name\": \"column.max\",\n",
      "              \"metric_value_kwargs\": null\n",
      "            },\n",
      "            \"num_batches\": 1\n",
      "          },\n",
      "          \"column_min_values_range_estimator\": {\n",
      "            \"metric_configuration\": {\n",
      "              \"domain_kwargs\": {\n",
      "                \"column\": \"llcrnrlat\"\n",
      "              },\n",
      "              \"metric_dependencies\": null,\n",
      "              \"metric_name\": \"column.min\",\n",
      "              \"metric_value_kwargs\": null\n",
      "            },\n",
      "            \"num_batches\": 1\n",
      "          }\n",
      "        }\n",
      "      },\n",
      "      \"expectation_type\": \"expect_column_values_to_be_between\"\n",
      "    },\n",
      "    {\n",
      "      \"kwargs\": {\n",
      "        \"column\": \"llcrnrlat\",\n",
      "        \"allow_relative_error\": false,\n",
      "        \"quantile_ranges\": {\n",
      "          \"quantiles\": [\n",
      "            0.25,\n",
      "            0.5,\n",
      "            0.75\n",
      "          ],\n",
      "          \"value_ranges\": [\n",
      "            [\n",
      "              31.504089053000357,\n",
      "              31.504089053000357\n",
      "            ],\n",
      "            [\n",
      "              35.90351723295371,\n",
      "              35.90351723295371\n",
      "            ],\n",
      "            [\n",
      "              40.25077938682679,\n",
      "              40.25077938682679\n",
      "            ]\n",
      "          ]\n",
      "        }\n",
      "      },\n",
      "      \"meta\": {\n",
      "        \"profiler_details\": {\n",
      "          \"metric_configuration\": {\n",
      "            \"domain_kwargs\": {\n",
      "              \"column\": \"llcrnrlat\"\n",
      "            },\n",
      "            \"metric_dependencies\": null,\n",
      "            \"metric_name\": \"column.quantile_values\",\n",
      "            \"metric_value_kwargs\": {\n",
      "              \"allow_relative_error\": false,\n",
      "              \"quantiles\": [\n",
      "                0.25,\n",
      "                0.5,\n",
      "                0.75\n",
      "              ]\n",
      "            }\n",
      "          },\n",
      "          \"num_batches\": 1\n",
      "        }\n",
      "      },\n",
      "      \"expectation_type\": \"expect_column_quantile_values_to_be_between\"\n",
      "    },\n",
      "    {\n",
      "      \"kwargs\": {\n",
      "        \"column\": \"llcrnrlat\",\n",
      "        \"max_value\": 35.90351723295371,\n",
      "        \"min_value\": 35.90351723295371,\n",
      "        \"strict_max\": false,\n",
      "        \"strict_min\": false\n",
      "      },\n",
      "      \"meta\": {\n",
      "        \"profiler_details\": {\n",
      "          \"metric_configuration\": {\n",
      "            \"domain_kwargs\": {\n",
      "              \"column\": \"llcrnrlat\"\n",
      "            },\n",
      "            \"metric_dependencies\": null,\n",
      "            \"metric_name\": \"column.median\",\n",
      "            \"metric_value_kwargs\": null\n",
      "          },\n",
      "          \"num_batches\": 1\n",
      "        }\n",
      "      },\n",
      "      \"expectation_type\": \"expect_column_median_to_be_between\"\n",
      "    },\n",
      "    {\n",
      "      \"kwargs\": {\n",
      "        \"column\": \"llcrnrlat\",\n",
      "        \"max_value\": 35.88721299948105,\n",
      "        \"min_value\": 35.88721299948105,\n",
      "        \"strict_max\": false,\n",
      "        \"strict_min\": false\n",
      "      },\n",
      "      \"meta\": {\n",
      "        \"profiler_details\": {\n",
      "          \"metric_configuration\": {\n",
      "            \"domain_kwargs\": {\n",
      "              \"column\": \"llcrnrlat\"\n",
      "            },\n",
      "            \"metric_dependencies\": null,\n",
      "            \"metric_name\": \"column.mean\",\n",
      "            \"metric_value_kwargs\": null\n",
      "          },\n",
      "          \"num_batches\": 1\n",
      "        }\n",
      "      },\n",
      "      \"expectation_type\": \"expect_column_mean_to_be_between\"\n",
      "    },\n",
      "    {\n",
      "      \"kwargs\": {\n",
      "        \"column\": \"llcrnrlat\",\n",
      "        \"max_value\": 5.594122687133442,\n",
      "        \"min_value\": 5.594122687133442,\n",
      "        \"strict_max\": false,\n",
      "        \"strict_min\": false\n",
      "      },\n",
      "      \"meta\": {\n",
      "        \"profiler_details\": {\n",
      "          \"metric_configuration\": {\n",
      "            \"domain_kwargs\": {\n",
      "              \"column\": \"llcrnrlat\"\n",
      "            },\n",
      "            \"metric_dependencies\": null,\n",
      "            \"metric_name\": \"column.standard_deviation\",\n",
      "            \"metric_value_kwargs\": null\n",
      "          },\n",
      "          \"num_batches\": 1\n",
      "        }\n",
      "      },\n",
      "      \"expectation_type\": \"expect_column_stdev_to_be_between\"\n",
      "    },\n",
      "    {\n",
      "      \"kwargs\": {\n",
      "        \"column\": \"llcrnrlon\",\n",
      "        \"max_value\": -127.23602309043991,\n",
      "        \"min_value\": -127.23602309043991,\n",
      "        \"strict_max\": false,\n",
      "        \"strict_min\": false\n",
      "      },\n",
      "      \"meta\": {\n",
      "        \"profiler_details\": {\n",
      "          \"metric_configuration\": {\n",
      "            \"domain_kwargs\": {\n",
      "              \"column\": \"llcrnrlon\"\n",
      "            },\n",
      "            \"metric_dependencies\": null,\n",
      "            \"metric_name\": \"column.min\",\n",
      "            \"metric_value_kwargs\": null\n",
      "          },\n",
      "          \"num_batches\": 1\n",
      "        }\n",
      "      },\n",
      "      \"expectation_type\": \"expect_column_min_to_be_between\"\n",
      "    },\n",
      "    {\n",
      "      \"kwargs\": {\n",
      "        \"column\": \"llcrnrlon\",\n",
      "        \"max_value\": -69.59615266178442,\n",
      "        \"min_value\": -69.59615266178442,\n",
      "        \"strict_max\": false,\n",
      "        \"strict_min\": false\n",
      "      },\n",
      "      \"meta\": {\n",
      "        \"profiler_details\": {\n",
      "          \"metric_configuration\": {\n",
      "            \"domain_kwargs\": {\n",
      "              \"column\": \"llcrnrlon\"\n",
      "            },\n",
      "            \"metric_dependencies\": null,\n",
      "            \"metric_name\": \"column.max\",\n",
      "            \"metric_value_kwargs\": null\n",
      "          },\n",
      "          \"num_batches\": 1\n",
      "        }\n",
      "      },\n",
      "      \"expectation_type\": \"expect_column_max_to_be_between\"\n",
      "    },\n",
      "    {\n",
      "      \"kwargs\": {\n",
      "        \"column\": \"llcrnrlon\",\n",
      "        \"max_value\": -69.59615266178442,\n",
      "        \"min_value\": -127.23602309043991,\n",
      "        \"mostly\": 1.0,\n",
      "        \"strict_max\": false,\n",
      "        \"strict_min\": false\n",
      "      },\n",
      "      \"meta\": {\n",
      "        \"profiler_details\": {\n",
      "          \"column_max_values_range_estimator\": {\n",
      "            \"metric_configuration\": {\n",
      "              \"domain_kwargs\": {\n",
      "                \"column\": \"llcrnrlon\"\n",
      "              },\n",
      "              \"metric_dependencies\": null,\n",
      "              \"metric_name\": \"column.max\",\n",
      "              \"metric_value_kwargs\": null\n",
      "            },\n",
      "            \"num_batches\": 1\n",
      "          },\n",
      "          \"column_min_values_range_estimator\": {\n",
      "            \"metric_configuration\": {\n",
      "              \"domain_kwargs\": {\n",
      "                \"column\": \"llcrnrlon\"\n",
      "              },\n",
      "              \"metric_dependencies\": null,\n",
      "              \"metric_name\": \"column.min\",\n",
      "              \"metric_value_kwargs\": null\n",
      "            },\n",
      "            \"num_batches\": 1\n",
      "          }\n",
      "        }\n",
      "      },\n",
      "      \"expectation_type\": \"expect_column_values_to_be_between\"\n",
      "    },\n",
      "    {\n",
      "      \"kwargs\": {\n",
      "        \"column\": \"llcrnrlon\",\n",
      "        \"allow_relative_error\": false,\n",
      "        \"quantile_ranges\": {\n",
      "          \"quantiles\": [\n",
      "            0.25,\n",
      "            0.5,\n",
      "            0.75\n",
      "          ],\n",
      "          \"value_ranges\": [\n",
      "            [\n",
      "              -101.95866854645936,\n",
      "              -101.95866854645936\n",
      "            ],\n",
      "            [\n",
      "              -93.61010329974404,\n",
      "              -93.61010329974404\n",
      "            ],\n",
      "            [\n",
      "              -85.50213715244381,\n",
      "              -85.50213715244381\n",
      "            ]\n",
      "          ]\n",
      "        }\n",
      "      },\n",
      "      \"meta\": {\n",
      "        \"profiler_details\": {\n",
      "          \"metric_configuration\": {\n",
      "            \"domain_kwargs\": {\n",
      "              \"column\": \"llcrnrlon\"\n",
      "            },\n",
      "            \"metric_dependencies\": null,\n",
      "            \"metric_name\": \"column.quantile_values\",\n",
      "            \"metric_value_kwargs\": {\n",
      "              \"allow_relative_error\": false,\n",
      "              \"quantiles\": [\n",
      "                0.25,\n",
      "                0.5,\n",
      "                0.75\n",
      "              ]\n",
      "            }\n",
      "          },\n",
      "          \"num_batches\": 1\n",
      "        }\n",
      "      },\n",
      "      \"expectation_type\": \"expect_column_quantile_values_to_be_between\"\n",
      "    },\n",
      "    {\n",
      "      \"kwargs\": {\n",
      "        \"column\": \"llcrnrlon\",\n",
      "        \"max_value\": -93.61010329974404,\n",
      "        \"min_value\": -93.61010329974404,\n",
      "        \"strict_max\": false,\n",
      "        \"strict_min\": false\n",
      "      },\n",
      "      \"meta\": {\n",
      "        \"profiler_details\": {\n",
      "          \"metric_configuration\": {\n",
      "            \"domain_kwargs\": {\n",
      "              \"column\": \"llcrnrlon\"\n",
      "            },\n",
      "            \"metric_dependencies\": null,\n",
      "            \"metric_name\": \"column.median\",\n",
      "            \"metric_value_kwargs\": null\n",
      "          },\n",
      "          \"num_batches\": 1\n",
      "        }\n",
      "      },\n",
      "      \"expectation_type\": \"expect_column_median_to_be_between\"\n",
      "    },\n",
      "    {\n",
      "      \"kwargs\": {\n",
      "        \"column\": \"llcrnrlon\",\n",
      "        \"max_value\": -95.09555553043528,\n",
      "        \"min_value\": -95.09555553043528,\n",
      "        \"strict_max\": false,\n",
      "        \"strict_min\": false\n",
      "      },\n",
      "      \"meta\": {\n",
      "        \"profiler_details\": {\n",
      "          \"metric_configuration\": {\n",
      "            \"domain_kwargs\": {\n",
      "              \"column\": \"llcrnrlon\"\n",
      "            },\n",
      "            \"metric_dependencies\": null,\n",
      "            \"metric_name\": \"column.mean\",\n",
      "            \"metric_value_kwargs\": null\n",
      "          },\n",
      "          \"num_batches\": 1\n",
      "        }\n",
      "      },\n",
      "      \"expectation_type\": \"expect_column_mean_to_be_between\"\n",
      "    },\n",
      "    {\n",
      "      \"kwargs\": {\n",
      "        \"column\": \"llcrnrlon\",\n",
      "        \"max_value\": 12.521708865404335,\n",
      "        \"min_value\": 12.521708865404335,\n",
      "        \"strict_max\": false,\n",
      "        \"strict_min\": false\n",
      "      },\n",
      "      \"meta\": {\n",
      "        \"profiler_details\": {\n",
      "          \"metric_configuration\": {\n",
      "            \"domain_kwargs\": {\n",
      "              \"column\": \"llcrnrlon\"\n",
      "            },\n",
      "            \"metric_dependencies\": null,\n",
      "            \"metric_name\": \"column.standard_deviation\",\n",
      "            \"metric_value_kwargs\": null\n",
      "          },\n",
      "          \"num_batches\": 1\n",
      "        }\n",
      "      },\n",
      "      \"expectation_type\": \"expect_column_stdev_to_be_between\"\n",
      "    },\n",
      "    {\n",
      "      \"kwargs\": {\n",
      "        \"column\": \"urcrnrlat\",\n",
      "        \"max_value\": 24.88471165440152,\n",
      "        \"min_value\": 24.88471165440152,\n",
      "        \"strict_max\": false,\n",
      "        \"strict_min\": false\n",
      "      },\n",
      "      \"meta\": {\n",
      "        \"profiler_details\": {\n",
      "          \"metric_configuration\": {\n",
      "            \"domain_kwargs\": {\n",
      "              \"column\": \"urcrnrlat\"\n",
      "            },\n",
      "            \"metric_dependencies\": null,\n",
      "            \"metric_name\": \"column.min\",\n",
      "            \"metric_value_kwargs\": null\n",
      "          },\n",
      "          \"num_batches\": 1\n",
      "        }\n",
      "      },\n",
      "      \"expectation_type\": \"expect_column_min_to_be_between\"\n",
      "    },\n",
      "    {\n",
      "      \"kwargs\": {\n",
      "        \"column\": \"urcrnrlat\",\n",
      "        \"max_value\": 51.89677240465032,\n",
      "        \"min_value\": 51.89677240465032,\n",
      "        \"strict_max\": false,\n",
      "        \"strict_min\": false\n",
      "      },\n",
      "      \"meta\": {\n",
      "        \"profiler_details\": {\n",
      "          \"metric_configuration\": {\n",
      "            \"domain_kwargs\": {\n",
      "              \"column\": \"urcrnrlat\"\n",
      "            },\n",
      "            \"metric_dependencies\": null,\n",
      "            \"metric_name\": \"column.max\",\n",
      "            \"metric_value_kwargs\": null\n",
      "          },\n",
      "          \"num_batches\": 1\n",
      "        }\n",
      "      },\n",
      "      \"expectation_type\": \"expect_column_max_to_be_between\"\n",
      "    },\n",
      "    {\n",
      "      \"kwargs\": {\n",
      "        \"column\": \"urcrnrlat\",\n",
      "        \"max_value\": 51.89677240465032,\n",
      "        \"min_value\": 24.88471165440152,\n",
      "        \"mostly\": 1.0,\n",
      "        \"strict_max\": false,\n",
      "        \"strict_min\": false\n",
      "      },\n",
      "      \"meta\": {\n",
      "        \"profiler_details\": {\n",
      "          \"column_max_values_range_estimator\": {\n",
      "            \"metric_configuration\": {\n",
      "              \"domain_kwargs\": {\n",
      "                \"column\": \"urcrnrlat\"\n",
      "              },\n",
      "              \"metric_dependencies\": null,\n",
      "              \"metric_name\": \"column.max\",\n",
      "              \"metric_value_kwargs\": null\n",
      "            },\n",
      "            \"num_batches\": 1\n",
      "          },\n",
      "          \"column_min_values_range_estimator\": {\n",
      "            \"metric_configuration\": {\n",
      "              \"domain_kwargs\": {\n",
      "                \"column\": \"urcrnrlat\"\n",
      "              },\n",
      "              \"metric_dependencies\": null,\n",
      "              \"metric_name\": \"column.min\",\n",
      "              \"metric_value_kwargs\": null\n",
      "            },\n",
      "            \"num_batches\": 1\n",
      "          }\n",
      "        }\n",
      "      },\n",
      "      \"expectation_type\": \"expect_column_values_to_be_between\"\n",
      "    },\n",
      "    {\n",
      "      \"kwargs\": {\n",
      "        \"column\": \"urcrnrlat\",\n",
      "        \"allow_relative_error\": false,\n",
      "        \"quantile_ranges\": {\n",
      "          \"quantiles\": [\n",
      "            0.25,\n",
      "            0.5,\n",
      "            0.75\n",
      "          ],\n",
      "          \"value_ranges\": [\n",
      "            [\n",
      "              34.78448218289119,\n",
      "              34.78448218289119\n",
      "            ],\n",
      "            [\n",
      "              39.16108782439054,\n",
      "              39.16108782439054\n",
      "            ],\n",
      "            [\n",
      "              43.301251558311776,\n",
      "              43.301251558311776\n",
      "            ]\n",
      "          ]\n",
      "        }\n",
      "      },\n",
      "      \"meta\": {\n",
      "        \"profiler_details\": {\n",
      "          \"metric_configuration\": {\n",
      "            \"domain_kwargs\": {\n",
      "              \"column\": \"urcrnrlat\"\n",
      "            },\n",
      "            \"metric_dependencies\": null,\n",
      "            \"metric_name\": \"column.quantile_values\",\n",
      "            \"metric_value_kwargs\": {\n",
      "              \"allow_relative_error\": false,\n",
      "              \"quantiles\": [\n",
      "                0.25,\n",
      "                0.5,\n",
      "                0.75\n",
      "              ]\n",
      "            }\n",
      "          },\n",
      "          \"num_batches\": 1\n",
      "        }\n",
      "      },\n",
      "      \"expectation_type\": \"expect_column_quantile_values_to_be_between\"\n",
      "    },\n",
      "    {\n",
      "      \"kwargs\": {\n",
      "        \"column\": \"urcrnrlat\",\n",
      "        \"max_value\": 39.16108782439054,\n",
      "        \"min_value\": 39.16108782439054,\n",
      "        \"strict_max\": false,\n",
      "        \"strict_min\": false\n",
      "      },\n",
      "      \"meta\": {\n",
      "        \"profiler_details\": {\n",
      "          \"metric_configuration\": {\n",
      "            \"domain_kwargs\": {\n",
      "              \"column\": \"urcrnrlat\"\n",
      "            },\n",
      "            \"metric_dependencies\": null,\n",
      "            \"metric_name\": \"column.median\",\n",
      "            \"metric_value_kwargs\": null\n",
      "          },\n",
      "          \"num_batches\": 1\n",
      "        }\n",
      "      },\n",
      "      \"expectation_type\": \"expect_column_median_to_be_between\"\n",
      "    },\n",
      "    {\n",
      "      \"kwargs\": {\n",
      "        \"column\": \"urcrnrlat\",\n",
      "        \"max_value\": 39.10037506511802,\n",
      "        \"min_value\": 39.10037506511802,\n",
      "        \"strict_max\": false,\n",
      "        \"strict_min\": false\n",
      "      },\n",
      "      \"meta\": {\n",
      "        \"profiler_details\": {\n",
      "          \"metric_configuration\": {\n",
      "            \"domain_kwargs\": {\n",
      "              \"column\": \"urcrnrlat\"\n",
      "            },\n",
      "            \"metric_dependencies\": null,\n",
      "            \"metric_name\": \"column.mean\",\n",
      "            \"metric_value_kwargs\": null\n",
      "          },\n",
      "          \"num_batches\": 1\n",
      "        }\n",
      "      },\n",
      "      \"expectation_type\": \"expect_column_mean_to_be_between\"\n",
      "    },\n",
      "    {\n",
      "      \"kwargs\": {\n",
      "        \"column\": \"urcrnrlat\",\n",
      "        \"max_value\": 5.636998305059644,\n",
      "        \"min_value\": 5.636998305059644,\n",
      "        \"strict_max\": false,\n",
      "        \"strict_min\": false\n",
      "      },\n",
      "      \"meta\": {\n",
      "        \"profiler_details\": {\n",
      "          \"metric_configuration\": {\n",
      "            \"domain_kwargs\": {\n",
      "              \"column\": \"urcrnrlat\"\n",
      "            },\n",
      "            \"metric_dependencies\": null,\n",
      "            \"metric_name\": \"column.standard_deviation\",\n",
      "            \"metric_value_kwargs\": null\n",
      "          },\n",
      "          \"num_batches\": 1\n",
      "        }\n",
      "      },\n",
      "      \"expectation_type\": \"expect_column_stdev_to_be_between\"\n",
      "    },\n",
      "    {\n",
      "      \"kwargs\": {\n",
      "        \"column\": \"urcrnrlon\",\n",
      "        \"max_value\": -124.09200893291904,\n",
      "        \"min_value\": -124.09200893291904,\n",
      "        \"strict_max\": false,\n",
      "        \"strict_min\": false\n",
      "      },\n",
      "      \"meta\": {\n",
      "        \"profiler_details\": {\n",
      "          \"metric_configuration\": {\n",
      "            \"domain_kwargs\": {\n",
      "              \"column\": \"urcrnrlon\"\n",
      "            },\n",
      "            \"metric_dependencies\": null,\n",
      "            \"metric_name\": \"column.min\",\n",
      "            \"metric_value_kwargs\": null\n",
      "          },\n",
      "          \"num_batches\": 1\n",
      "        }\n",
      "      },\n",
      "      \"expectation_type\": \"expect_column_min_to_be_between\"\n",
      "    },\n",
      "    {\n",
      "      \"kwargs\": {\n",
      "        \"column\": \"urcrnrlon\",\n",
      "        \"max_value\": -62.923893868831385,\n",
      "        \"min_value\": -62.923893868831385,\n",
      "        \"strict_max\": false,\n",
      "        \"strict_min\": false\n",
      "      },\n",
      "      \"meta\": {\n",
      "        \"profiler_details\": {\n",
      "          \"metric_configuration\": {\n",
      "            \"domain_kwargs\": {\n",
      "              \"column\": \"urcrnrlon\"\n",
      "            },\n",
      "            \"metric_dependencies\": null,\n",
      "            \"metric_name\": \"column.max\",\n",
      "            \"metric_value_kwargs\": null\n",
      "          },\n",
      "          \"num_batches\": 1\n",
      "        }\n",
      "      },\n",
      "      \"expectation_type\": \"expect_column_max_to_be_between\"\n",
      "    },\n",
      "    {\n",
      "      \"kwargs\": {\n",
      "        \"column\": \"urcrnrlon\",\n",
      "        \"max_value\": -62.923893868831385,\n",
      "        \"min_value\": -124.09200893291904,\n",
      "        \"mostly\": 1.0,\n",
      "        \"strict_max\": false,\n",
      "        \"strict_min\": false\n",
      "      },\n",
      "      \"meta\": {\n",
      "        \"profiler_details\": {\n",
      "          \"column_max_values_range_estimator\": {\n",
      "            \"metric_configuration\": {\n",
      "              \"domain_kwargs\": {\n",
      "                \"column\": \"urcrnrlon\"\n",
      "              },\n",
      "              \"metric_dependencies\": null,\n",
      "              \"metric_name\": \"column.max\",\n",
      "              \"metric_value_kwargs\": null\n",
      "            },\n",
      "            \"num_batches\": 1\n",
      "          },\n",
      "          \"column_min_values_range_estimator\": {\n",
      "            \"metric_configuration\": {\n",
      "              \"domain_kwargs\": {\n",
      "                \"column\": \"urcrnrlon\"\n",
      "              },\n",
      "              \"metric_dependencies\": null,\n",
      "              \"metric_name\": \"column.min\",\n",
      "              \"metric_value_kwargs\": null\n",
      "            },\n",
      "            \"num_batches\": 1\n",
      "          }\n",
      "        }\n",
      "      },\n",
      "      \"expectation_type\": \"expect_column_values_to_be_between\"\n",
      "    },\n",
      "    {\n",
      "      \"kwargs\": {\n",
      "        \"column\": \"urcrnrlon\",\n",
      "        \"allow_relative_error\": false,\n",
      "        \"quantile_ranges\": {\n",
      "          \"quantiles\": [\n",
      "            0.25,\n",
      "            0.5,\n",
      "            0.75\n",
      "          ],\n",
      "          \"value_ranges\": [\n",
      "            [\n",
      "              -97.6054098345261,\n",
      "              -97.6054098345261\n",
      "            ],\n",
      "            [\n",
      "              -88.82070045499479,\n",
      "              -88.82070045499479\n",
      "            ],\n",
      "            [\n",
      "              -80.64909018058297,\n",
      "              -80.64909018058297\n",
      "            ]\n",
      "          ]\n",
      "        }\n",
      "      },\n",
      "      \"meta\": {\n",
      "        \"profiler_details\": {\n",
      "          \"metric_configuration\": {\n",
      "            \"domain_kwargs\": {\n",
      "              \"column\": \"urcrnrlon\"\n",
      "            },\n",
      "            \"metric_dependencies\": null,\n",
      "            \"metric_name\": \"column.quantile_values\",\n",
      "            \"metric_value_kwargs\": {\n",
      "              \"allow_relative_error\": false,\n",
      "              \"quantiles\": [\n",
      "                0.25,\n",
      "                0.5,\n",
      "                0.75\n",
      "              ]\n",
      "            }\n",
      "          },\n",
      "          \"num_batches\": 1\n",
      "        }\n",
      "      },\n",
      "      \"expectation_type\": \"expect_column_quantile_values_to_be_between\"\n",
      "    },\n",
      "    {\n",
      "      \"kwargs\": {\n",
      "        \"column\": \"urcrnrlon\",\n",
      "        \"max_value\": -88.82070045499482,\n",
      "        \"min_value\": -88.82070045499482,\n",
      "        \"strict_max\": false,\n",
      "        \"strict_min\": false\n",
      "      },\n",
      "      \"meta\": {\n",
      "        \"profiler_details\": {\n",
      "          \"metric_configuration\": {\n",
      "            \"domain_kwargs\": {\n",
      "              \"column\": \"urcrnrlon\"\n",
      "            },\n",
      "            \"metric_dependencies\": null,\n",
      "            \"metric_name\": \"column.median\",\n",
      "            \"metric_value_kwargs\": null\n",
      "          },\n",
      "          \"num_batches\": 1\n",
      "        }\n",
      "      },\n",
      "      \"expectation_type\": \"expect_column_median_to_be_between\"\n",
      "    },\n",
      "    {\n",
      "      \"kwargs\": {\n",
      "        \"column\": \"urcrnrlon\",\n",
      "        \"max_value\": -90.50152810067166,\n",
      "        \"min_value\": -90.50152810067166,\n",
      "        \"strict_max\": false,\n",
      "        \"strict_min\": false\n",
      "      },\n",
      "      \"meta\": {\n",
      "        \"profiler_details\": {\n",
      "          \"metric_configuration\": {\n",
      "            \"domain_kwargs\": {\n",
      "              \"column\": \"urcrnrlon\"\n",
      "            },\n",
      "            \"metric_dependencies\": null,\n",
      "            \"metric_name\": \"column.mean\",\n",
      "            \"metric_value_kwargs\": null\n",
      "          },\n",
      "          \"num_batches\": 1\n",
      "        }\n",
      "      },\n",
      "      \"expectation_type\": \"expect_column_mean_to_be_between\"\n",
      "    },\n",
      "    {\n",
      "      \"kwargs\": {\n",
      "        \"column\": \"urcrnrlon\",\n",
      "        \"max_value\": 13.103338786082888,\n",
      "        \"min_value\": 13.103338786082888,\n",
      "        \"strict_max\": false,\n",
      "        \"strict_min\": false\n",
      "      },\n",
      "      \"meta\": {\n",
      "        \"profiler_details\": {\n",
      "          \"metric_configuration\": {\n",
      "            \"domain_kwargs\": {\n",
      "              \"column\": \"urcrnrlon\"\n",
      "            },\n",
      "            \"metric_dependencies\": null,\n",
      "            \"metric_name\": \"column.standard_deviation\",\n",
      "            \"metric_value_kwargs\": null\n",
      "          },\n",
      "          \"num_batches\": 1\n",
      "        }\n",
      "      },\n",
      "      \"expectation_type\": \"expect_column_stdev_to_be_between\"\n",
      "    },\n",
      "    {\n",
      "      \"kwargs\": {\n",
      "        \"column\": \"data_min\",\n",
      "        \"max_value\": -31718.416015625,\n",
      "        \"min_value\": -31718.416015625,\n",
      "        \"strict_max\": false,\n",
      "        \"strict_min\": false\n",
      "      },\n",
      "      \"meta\": {\n",
      "        \"profiler_details\": {\n",
      "          \"metric_configuration\": {\n",
      "            \"domain_kwargs\": {\n",
      "              \"column\": \"data_min\"\n",
      "            },\n",
      "            \"metric_dependencies\": null,\n",
      "            \"metric_name\": \"column.min\",\n",
      "            \"metric_value_kwargs\": null\n",
      "          },\n",
      "          \"num_batches\": 1\n",
      "        }\n",
      "      },\n",
      "      \"expectation_type\": \"expect_column_min_to_be_between\"\n",
      "    },\n",
      "    {\n",
      "      \"kwargs\": {\n",
      "        \"column\": \"data_min\",\n",
      "        \"max_value\": 18.269269943237305,\n",
      "        \"min_value\": 18.269269943237305,\n",
      "        \"strict_max\": false,\n",
      "        \"strict_min\": false\n",
      "      },\n",
      "      \"meta\": {\n",
      "        \"profiler_details\": {\n",
      "          \"metric_configuration\": {\n",
      "            \"domain_kwargs\": {\n",
      "              \"column\": \"data_min\"\n",
      "            },\n",
      "            \"metric_dependencies\": null,\n",
      "            \"metric_name\": \"column.max\",\n",
      "            \"metric_value_kwargs\": null\n",
      "          },\n",
      "          \"num_batches\": 1\n",
      "        }\n",
      "      },\n",
      "      \"expectation_type\": \"expect_column_max_to_be_between\"\n",
      "    },\n",
      "    {\n",
      "      \"kwargs\": {\n",
      "        \"column\": \"data_min\",\n",
      "        \"max_value\": 18.269269943237305,\n",
      "        \"min_value\": -31718.416015625,\n",
      "        \"mostly\": 1.0,\n",
      "        \"strict_max\": false,\n",
      "        \"strict_min\": false\n",
      "      },\n",
      "      \"meta\": {\n",
      "        \"profiler_details\": {\n",
      "          \"column_max_values_range_estimator\": {\n",
      "            \"metric_configuration\": {\n",
      "              \"domain_kwargs\": {\n",
      "                \"column\": \"data_min\"\n",
      "              },\n",
      "              \"metric_dependencies\": null,\n",
      "              \"metric_name\": \"column.max\",\n",
      "              \"metric_value_kwargs\": null\n",
      "            },\n",
      "            \"num_batches\": 1\n",
      "          },\n",
      "          \"column_min_values_range_estimator\": {\n",
      "            \"metric_configuration\": {\n",
      "              \"domain_kwargs\": {\n",
      "                \"column\": \"data_min\"\n",
      "              },\n",
      "              \"metric_dependencies\": null,\n",
      "              \"metric_name\": \"column.min\",\n",
      "              \"metric_value_kwargs\": null\n",
      "            },\n",
      "            \"num_batches\": 1\n",
      "          }\n",
      "        }\n",
      "      },\n",
      "      \"expectation_type\": \"expect_column_values_to_be_between\"\n",
      "    },\n",
      "    {\n",
      "      \"kwargs\": {\n",
      "        \"column\": \"data_min\",\n",
      "        \"allow_relative_error\": false,\n",
      "        \"quantile_ranges\": {\n",
      "          \"quantiles\": [\n",
      "            0.25,\n",
      "            0.5,\n",
      "            0.75\n",
      "          ],\n",
      "          \"value_ranges\": [\n",
      "            [\n",
      "              -54.34331130981445,\n",
      "              -54.34331130981445\n",
      "            ],\n",
      "            [\n",
      "              0.0,\n",
      "              0.0\n",
      "            ],\n",
      "            [\n",
      "              0.0,\n",
      "              0.0\n",
      "            ]\n",
      "          ]\n",
      "        }\n",
      "      },\n",
      "      \"meta\": {\n",
      "        \"profiler_details\": {\n",
      "          \"metric_configuration\": {\n",
      "            \"domain_kwargs\": {\n",
      "              \"column\": \"data_min\"\n",
      "            },\n",
      "            \"metric_dependencies\": null,\n",
      "            \"metric_name\": \"column.quantile_values\",\n",
      "            \"metric_value_kwargs\": {\n",
      "              \"allow_relative_error\": false,\n",
      "              \"quantiles\": [\n",
      "                0.25,\n",
      "                0.5,\n",
      "                0.75\n",
      "              ]\n",
      "            }\n",
      "          },\n",
      "          \"num_batches\": 1\n",
      "        }\n",
      "      },\n",
      "      \"expectation_type\": \"expect_column_quantile_values_to_be_between\"\n",
      "    },\n",
      "    {\n",
      "      \"kwargs\": {\n",
      "        \"column\": \"data_min\",\n",
      "        \"max_value\": 0.0,\n",
      "        \"min_value\": 0.0,\n",
      "        \"strict_max\": false,\n",
      "        \"strict_min\": false\n",
      "      },\n",
      "      \"meta\": {\n",
      "        \"profiler_details\": {\n",
      "          \"metric_configuration\": {\n",
      "            \"domain_kwargs\": {\n",
      "              \"column\": \"data_min\"\n",
      "            },\n",
      "            \"metric_dependencies\": null,\n",
      "            \"metric_name\": \"column.median\",\n",
      "            \"metric_value_kwargs\": null\n",
      "          },\n",
      "          \"num_batches\": 1\n",
      "        }\n",
      "      },\n",
      "      \"expectation_type\": \"expect_column_median_to_be_between\"\n",
      "    },\n",
      "    {\n",
      "      \"kwargs\": {\n",
      "        \"column\": \"data_min\",\n",
      "        \"max_value\": -31.575113660166586,\n",
      "        \"min_value\": -31.575113660166586,\n",
      "        \"strict_max\": false,\n",
      "        \"strict_min\": false\n",
      "      },\n",
      "      \"meta\": {\n",
      "        \"profiler_details\": {\n",
      "          \"metric_configuration\": {\n",
      "            \"domain_kwargs\": {\n",
      "              \"column\": \"data_min\"\n",
      "            },\n",
      "            \"metric_dependencies\": null,\n",
      "            \"metric_name\": \"column.mean\",\n",
      "            \"metric_value_kwargs\": null\n",
      "          },\n",
      "          \"num_batches\": 1\n",
      "        }\n",
      "      },\n",
      "      \"expectation_type\": \"expect_column_mean_to_be_between\"\n",
      "    },\n",
      "    {\n",
      "      \"kwargs\": {\n",
      "        \"column\": \"data_min\",\n",
      "        \"max_value\": 474.0938475500106,\n",
      "        \"min_value\": 474.0938475500106,\n",
      "        \"strict_max\": false,\n",
      "        \"strict_min\": false\n",
      "      },\n",
      "      \"meta\": {\n",
      "        \"profiler_details\": {\n",
      "          \"metric_configuration\": {\n",
      "            \"domain_kwargs\": {\n",
      "              \"column\": \"data_min\"\n",
      "            },\n",
      "            \"metric_dependencies\": null,\n",
      "            \"metric_name\": \"column.standard_deviation\",\n",
      "            \"metric_value_kwargs\": null\n",
      "          },\n",
      "          \"num_batches\": 1\n",
      "        }\n",
      "      },\n",
      "      \"expectation_type\": \"expect_column_stdev_to_be_between\"\n",
      "    },\n",
      "    {\n",
      "      \"kwargs\": {\n",
      "        \"column\": \"data_max\",\n",
      "        \"max_value\": -48.28739547729492,\n",
      "        \"min_value\": -48.28739547729492,\n",
      "        \"strict_max\": false,\n",
      "        \"strict_min\": false\n",
      "      },\n",
      "      \"meta\": {\n",
      "        \"profiler_details\": {\n",
      "          \"metric_configuration\": {\n",
      "            \"domain_kwargs\": {\n",
      "              \"column\": \"data_max\"\n",
      "            },\n",
      "            \"metric_dependencies\": null,\n",
      "            \"metric_name\": \"column.min\",\n",
      "            \"metric_value_kwargs\": null\n",
      "          },\n",
      "          \"num_batches\": 1\n",
      "        }\n",
      "      },\n",
      "      \"expectation_type\": \"expect_column_min_to_be_between\"\n",
      "    },\n",
      "    {\n",
      "      \"kwargs\": {\n",
      "        \"column\": \"data_max\",\n",
      "        \"max_value\": 935036.0,\n",
      "        \"min_value\": 935036.0,\n",
      "        \"strict_max\": false,\n",
      "        \"strict_min\": false\n",
      "      },\n",
      "      \"meta\": {\n",
      "        \"profiler_details\": {\n",
      "          \"metric_configuration\": {\n",
      "            \"domain_kwargs\": {\n",
      "              \"column\": \"data_max\"\n",
      "            },\n",
      "            \"metric_dependencies\": null,\n",
      "            \"metric_name\": \"column.max\",\n",
      "            \"metric_value_kwargs\": null\n",
      "          },\n",
      "          \"num_batches\": 1\n",
      "        }\n",
      "      },\n",
      "      \"expectation_type\": \"expect_column_max_to_be_between\"\n",
      "    },\n",
      "    {\n",
      "      \"kwargs\": {\n",
      "        \"column\": \"data_max\",\n",
      "        \"max_value\": 935036.0,\n",
      "        \"min_value\": -48.28739547729492,\n",
      "        \"mostly\": 1.0,\n",
      "        \"strict_max\": false,\n",
      "        \"strict_min\": false\n",
      "      },\n",
      "      \"meta\": {\n",
      "        \"profiler_details\": {\n",
      "          \"column_max_values_range_estimator\": {\n",
      "            \"metric_configuration\": {\n",
      "              \"domain_kwargs\": {\n",
      "                \"column\": \"data_max\"\n",
      "              },\n",
      "              \"metric_dependencies\": null,\n",
      "              \"metric_name\": \"column.max\",\n",
      "              \"metric_value_kwargs\": null\n",
      "            },\n",
      "            \"num_batches\": 1\n",
      "          },\n",
      "          \"column_min_values_range_estimator\": {\n",
      "            \"metric_configuration\": {\n",
      "              \"domain_kwargs\": {\n",
      "                \"column\": \"data_max\"\n",
      "              },\n",
      "              \"metric_dependencies\": null,\n",
      "              \"metric_name\": \"column.min\",\n",
      "              \"metric_value_kwargs\": null\n",
      "            },\n",
      "            \"num_batches\": 1\n",
      "          }\n",
      "        }\n",
      "      },\n",
      "      \"expectation_type\": \"expect_column_values_to_be_between\"\n",
      "    },\n",
      "    {\n",
      "      \"kwargs\": {\n",
      "        \"column\": \"data_max\",\n",
      "        \"allow_relative_error\": false,\n",
      "        \"quantile_ranges\": {\n",
      "          \"quantiles\": [\n",
      "            0.25,\n",
      "            0.5,\n",
      "            0.75\n",
      "          ],\n",
      "          \"value_ranges\": [\n",
      "            [\n",
      "              0.1532760560512542,\n",
      "              0.1532760560512542\n",
      "            ],\n",
      "            [\n",
      "              25.870397567749023,\n",
      "              25.870397567749023\n",
      "            ],\n",
      "            [\n",
      "              254.0,\n",
      "              254.0\n",
      "            ]\n",
      "          ]\n",
      "        }\n",
      "      },\n",
      "      \"meta\": {\n",
      "        \"profiler_details\": {\n",
      "          \"metric_configuration\": {\n",
      "            \"domain_kwargs\": {\n",
      "              \"column\": \"data_max\"\n",
      "            },\n",
      "            \"metric_dependencies\": null,\n",
      "            \"metric_name\": \"column.quantile_values\",\n",
      "            \"metric_value_kwargs\": {\n",
      "              \"allow_relative_error\": false,\n",
      "              \"quantiles\": [\n",
      "                0.25,\n",
      "                0.5,\n",
      "                0.75\n",
      "              ]\n",
      "            }\n",
      "          },\n",
      "          \"num_batches\": 1\n",
      "        }\n",
      "      },\n",
      "      \"expectation_type\": \"expect_column_quantile_values_to_be_between\"\n",
      "    },\n",
      "    {\n",
      "      \"kwargs\": {\n",
      "        \"column\": \"data_max\",\n",
      "        \"max_value\": 25.870397567749023,\n",
      "        \"min_value\": 25.870397567749023,\n",
      "        \"strict_max\": false,\n",
      "        \"strict_min\": false\n",
      "      },\n",
      "      \"meta\": {\n",
      "        \"profiler_details\": {\n",
      "          \"metric_configuration\": {\n",
      "            \"domain_kwargs\": {\n",
      "              \"column\": \"data_max\"\n",
      "            },\n",
      "            \"metric_dependencies\": null,\n",
      "            \"metric_name\": \"column.median\",\n",
      "            \"metric_value_kwargs\": null\n",
      "          },\n",
      "          \"num_batches\": 1\n",
      "        }\n",
      "      },\n",
      "      \"expectation_type\": \"expect_column_median_to_be_between\"\n",
      "    },\n",
      "    {\n",
      "      \"kwargs\": {\n",
      "        \"column\": \"data_max\",\n",
      "        \"max_value\": 34620.575060338226,\n",
      "        \"min_value\": 34620.575060338226,\n",
      "        \"strict_max\": false,\n",
      "        \"strict_min\": false\n",
      "      },\n",
      "      \"meta\": {\n",
      "        \"profiler_details\": {\n",
      "          \"metric_configuration\": {\n",
      "            \"domain_kwargs\": {\n",
      "              \"column\": \"data_max\"\n",
      "            },\n",
      "            \"metric_dependencies\": null,\n",
      "            \"metric_name\": \"column.mean\",\n",
      "            \"metric_value_kwargs\": null\n",
      "          },\n",
      "          \"num_batches\": 1\n",
      "        }\n",
      "      },\n",
      "      \"expectation_type\": \"expect_column_mean_to_be_between\"\n",
      "    },\n",
      "    {\n",
      "      \"kwargs\": {\n",
      "        \"column\": \"data_max\",\n",
      "        \"max_value\": 93853.56373709308,\n",
      "        \"min_value\": 93853.56373709308,\n",
      "        \"strict_max\": false,\n",
      "        \"strict_min\": false\n",
      "      },\n",
      "      \"meta\": {\n",
      "        \"profiler_details\": {\n",
      "          \"metric_configuration\": {\n",
      "            \"domain_kwargs\": {\n",
      "              \"column\": \"data_max\"\n",
      "            },\n",
      "            \"metric_dependencies\": null,\n",
      "            \"metric_name\": \"column.standard_deviation\",\n",
      "            \"metric_value_kwargs\": null\n",
      "          },\n",
      "          \"num_batches\": 1\n",
      "        }\n",
      "      },\n",
      "      \"expectation_type\": \"expect_column_stdev_to_be_between\"\n",
      "    },\n",
      "    {\n",
      "      \"kwargs\": {\n",
      "        \"column\": \"pct_missing\",\n",
      "        \"max_value\": 0.0,\n",
      "        \"min_value\": 0.0,\n",
      "        \"strict_max\": false,\n",
      "        \"strict_min\": false\n",
      "      },\n",
      "      \"meta\": {\n",
      "        \"profiler_details\": {\n",
      "          \"metric_configuration\": {\n",
      "            \"domain_kwargs\": {\n",
      "              \"column\": \"pct_missing\"\n",
      "            },\n",
      "            \"metric_dependencies\": null,\n",
      "            \"metric_name\": \"column.min\",\n",
      "            \"metric_value_kwargs\": null\n",
      "          },\n",
      "          \"num_batches\": 1\n",
      "        }\n",
      "      },\n",
      "      \"expectation_type\": \"expect_column_min_to_be_between\"\n",
      "    },\n",
      "    {\n",
      "      \"kwargs\": {\n",
      "        \"column\": \"pct_missing\",\n",
      "        \"max_value\": 1.0,\n",
      "        \"min_value\": 1.0,\n",
      "        \"strict_max\": false,\n",
      "        \"strict_min\": false\n",
      "      },\n",
      "      \"meta\": {\n",
      "        \"profiler_details\": {\n",
      "          \"metric_configuration\": {\n",
      "            \"domain_kwargs\": {\n",
      "              \"column\": \"pct_missing\"\n",
      "            },\n",
      "            \"metric_dependencies\": null,\n",
      "            \"metric_name\": \"column.max\",\n",
      "            \"metric_value_kwargs\": null\n",
      "          },\n",
      "          \"num_batches\": 1\n",
      "        }\n",
      "      },\n",
      "      \"expectation_type\": \"expect_column_max_to_be_between\"\n",
      "    },\n",
      "    {\n",
      "      \"kwargs\": {\n",
      "        \"column\": \"pct_missing\",\n",
      "        \"max_value\": 1.0,\n",
      "        \"min_value\": 0.0,\n",
      "        \"mostly\": 1.0,\n",
      "        \"strict_max\": false,\n",
      "        \"strict_min\": false\n",
      "      },\n",
      "      \"meta\": {\n",
      "        \"profiler_details\": {\n",
      "          \"column_max_values_range_estimator\": {\n",
      "            \"metric_configuration\": {\n",
      "              \"domain_kwargs\": {\n",
      "                \"column\": \"pct_missing\"\n",
      "              },\n",
      "              \"metric_dependencies\": null,\n",
      "              \"metric_name\": \"column.max\",\n",
      "              \"metric_value_kwargs\": null\n",
      "            },\n",
      "            \"num_batches\": 1\n",
      "          },\n",
      "          \"column_min_values_range_estimator\": {\n",
      "            \"metric_configuration\": {\n",
      "              \"domain_kwargs\": {\n",
      "                \"column\": \"pct_missing\"\n",
      "              },\n",
      "              \"metric_dependencies\": null,\n",
      "              \"metric_name\": \"column.min\",\n",
      "              \"metric_value_kwargs\": null\n",
      "            },\n",
      "            \"num_batches\": 1\n",
      "          }\n",
      "        }\n",
      "      },\n",
      "      \"expectation_type\": \"expect_column_values_to_be_between\"\n",
      "    },\n",
      "    {\n",
      "      \"kwargs\": {\n",
      "        \"column\": \"pct_missing\",\n",
      "        \"allow_relative_error\": false,\n",
      "        \"quantile_ranges\": {\n",
      "          \"quantiles\": [\n",
      "            0.25,\n",
      "            0.5,\n",
      "            0.75\n",
      "          ],\n",
      "          \"value_ranges\": [\n",
      "            [\n",
      "              0.0,\n",
      "              0.0\n",
      "            ],\n",
      "            [\n",
      "              0.0,\n",
      "              0.0\n",
      "            ],\n",
      "            [\n",
      "              0.0,\n",
      "              0.0\n",
      "            ]\n",
      "          ]\n",
      "        }\n",
      "      },\n",
      "      \"meta\": {\n",
      "        \"profiler_details\": {\n",
      "          \"metric_configuration\": {\n",
      "            \"domain_kwargs\": {\n",
      "              \"column\": \"pct_missing\"\n",
      "            },\n",
      "            \"metric_dependencies\": null,\n",
      "            \"metric_name\": \"column.quantile_values\",\n",
      "            \"metric_value_kwargs\": {\n",
      "              \"allow_relative_error\": false,\n",
      "              \"quantiles\": [\n",
      "                0.25,\n",
      "                0.5,\n",
      "                0.75\n",
      "              ]\n",
      "            }\n",
      "          },\n",
      "          \"num_batches\": 1\n",
      "        }\n",
      "      },\n",
      "      \"expectation_type\": \"expect_column_quantile_values_to_be_between\"\n",
      "    },\n",
      "    {\n",
      "      \"kwargs\": {\n",
      "        \"column\": \"pct_missing\",\n",
      "        \"max_value\": 0.0,\n",
      "        \"min_value\": 0.0,\n",
      "        \"strict_max\": false,\n",
      "        \"strict_min\": false\n",
      "      },\n",
      "      \"meta\": {\n",
      "        \"profiler_details\": {\n",
      "          \"metric_configuration\": {\n",
      "            \"domain_kwargs\": {\n",
      "              \"column\": \"pct_missing\"\n",
      "            },\n",
      "            \"metric_dependencies\": null,\n",
      "            \"metric_name\": \"column.median\",\n",
      "            \"metric_value_kwargs\": null\n",
      "          },\n",
      "          \"num_batches\": 1\n",
      "        }\n",
      "      },\n",
      "      \"expectation_type\": \"expect_column_median_to_be_between\"\n",
      "    },\n",
      "    {\n",
      "      \"kwargs\": {\n",
      "        \"column\": \"pct_missing\",\n",
      "        \"max_value\": 0.003552192379775688,\n",
      "        \"min_value\": 0.003552192379775688,\n",
      "        \"strict_max\": false,\n",
      "        \"strict_min\": false\n",
      "      },\n",
      "      \"meta\": {\n",
      "        \"profiler_details\": {\n",
      "          \"metric_configuration\": {\n",
      "            \"domain_kwargs\": {\n",
      "              \"column\": \"pct_missing\"\n",
      "            },\n",
      "            \"metric_dependencies\": null,\n",
      "            \"metric_name\": \"column.mean\",\n",
      "            \"metric_value_kwargs\": null\n",
      "          },\n",
      "          \"num_batches\": 1\n",
      "        }\n",
      "      },\n",
      "      \"expectation_type\": \"expect_column_mean_to_be_between\"\n",
      "    },\n",
      "    {\n",
      "      \"kwargs\": {\n",
      "        \"column\": \"pct_missing\",\n",
      "        \"max_value\": 0.0321447250441359,\n",
      "        \"min_value\": 0.0321447250441359,\n",
      "        \"strict_max\": false,\n",
      "        \"strict_min\": false\n",
      "      },\n",
      "      \"meta\": {\n",
      "        \"profiler_details\": {\n",
      "          \"metric_configuration\": {\n",
      "            \"domain_kwargs\": {\n",
      "              \"column\": \"pct_missing\"\n",
      "            },\n",
      "            \"metric_dependencies\": null,\n",
      "            \"metric_name\": \"column.standard_deviation\",\n",
      "            \"metric_value_kwargs\": null\n",
      "          },\n",
      "          \"num_batches\": 1\n",
      "        }\n",
      "      },\n",
      "      \"expectation_type\": \"expect_column_stdev_to_be_between\"\n",
      "    },\n",
      "    {\n",
      "      \"kwargs\": {\n",
      "        \"column\": \"id\",\n",
      "        \"max_value\": 15,\n",
      "        \"min_value\": 7,\n",
      "        \"mostly\": 1.0,\n",
      "        \"strict_max\": false,\n",
      "        \"strict_min\": false\n",
      "      },\n",
      "      \"meta\": {\n",
      "        \"profiler_details\": {\n",
      "          \"column_max_length_range_estimator\": {\n",
      "            \"metric_configuration\": {\n",
      "              \"domain_kwargs\": {\n",
      "                \"column\": \"id\"\n",
      "              },\n",
      "              \"metric_dependencies\": null,\n",
      "              \"metric_name\": \"column_values.length.max\",\n",
      "              \"metric_value_kwargs\": null\n",
      "            },\n",
      "            \"num_batches\": 1\n",
      "          },\n",
      "          \"column_min_length_range_estimator\": {\n",
      "            \"metric_configuration\": {\n",
      "              \"domain_kwargs\": {\n",
      "                \"column\": \"id\"\n",
      "              },\n",
      "              \"metric_dependencies\": null,\n",
      "              \"metric_name\": \"column_values.length.min\",\n",
      "              \"metric_value_kwargs\": null\n",
      "            },\n",
      "            \"num_batches\": 1\n",
      "          }\n",
      "        }\n",
      "      },\n",
      "      \"expectation_type\": \"expect_column_value_lengths_to_be_between\"\n",
      "    },\n",
      "    {\n",
      "      \"kwargs\": {\n",
      "        \"column\": \"id\",\n",
      "        \"mostly\": 1.0,\n",
      "        \"regex\": \"-?\\\\d+\"\n",
      "      },\n",
      "      \"meta\": {\n",
      "        \"profiler_details\": {\n",
      "          \"evaluated_regexes\": {\n",
      "            \"(?:25[0-5]|2[0-4]\\\\d|[01]\\\\d{2}|\\\\d{1,2})(?:.(?:25[0-5]|2[0-4]\\\\d|[01]\\\\d{2}|\\\\d{1,2})){3}\": 0.7810115257091732,\n",
      "            \"-?\\\\d+\": 1.0,\n",
      "            \"-?\\\\d+(?:\\\\.\\\\d*)?\": 1.0,\n",
      "            \"<\\\\/?(?:p|a|b|img)(?: \\\\/)?>\": 0.0,\n",
      "            \"[A-Za-z0-9\\\\.,;:!?()\\\\\\\"'%\\\\-]+\": 1.0,\n",
      "            \"\\\\b[0-9a-fA-F]{8}\\\\b-[0-9a-fA-F]{4}-[0-5][0-9a-fA-F]{3}-[089ab][0-9a-fA-F]{3}-\\\\b[0-9a-fA-F]{12}\\\\b \": 0.0,\n",
      "            \"\\\\d+\": 1.0,\n",
      "            \"\\\\s+$\": 0.0,\n",
      "            \"^\\\\s+\": 0.0,\n",
      "            \"https?:\\\\/\\\\/(?:www\\\\.)?[-a-zA-Z0-9@:%._\\\\+~#=]{2,255}\\\\.[a-z]{2,6}\\\\b(?:[-a-zA-Z0-9@:%_\\\\+.~#()?&//=]*)\": 0.0\n",
      "          },\n",
      "          \"success_ratio\": 1.0\n",
      "        }\n",
      "      },\n",
      "      \"expectation_type\": \"expect_column_values_to_match_regex\"\n",
      "    },\n",
      "    {\n",
      "      \"kwargs\": {\n",
      "        \"column\": \"file_name\",\n",
      "        \"max_value\": 53,\n",
      "        \"min_value\": 48,\n",
      "        \"mostly\": 1.0,\n",
      "        \"strict_max\": false,\n",
      "        \"strict_min\": false\n",
      "      },\n",
      "      \"meta\": {\n",
      "        \"profiler_details\": {\n",
      "          \"column_max_length_range_estimator\": {\n",
      "            \"metric_configuration\": {\n",
      "              \"domain_kwargs\": {\n",
      "                \"column\": \"file_name\"\n",
      "              },\n",
      "              \"metric_dependencies\": null,\n",
      "              \"metric_name\": \"column_values.length.max\",\n",
      "              \"metric_value_kwargs\": null\n",
      "            },\n",
      "            \"num_batches\": 1\n",
      "          },\n",
      "          \"column_min_length_range_estimator\": {\n",
      "            \"metric_configuration\": {\n",
      "              \"domain_kwargs\": {\n",
      "                \"column\": \"file_name\"\n",
      "              },\n",
      "              \"metric_dependencies\": null,\n",
      "              \"metric_name\": \"column_values.length.min\",\n",
      "              \"metric_value_kwargs\": null\n",
      "            },\n",
      "            \"num_batches\": 1\n",
      "          }\n",
      "        }\n",
      "      },\n",
      "      \"expectation_type\": \"expect_column_value_lengths_to_be_between\"\n",
      "    },\n",
      "    {\n",
      "      \"kwargs\": {\n",
      "        \"column\": \"file_name\",\n",
      "        \"mostly\": 1.0,\n",
      "        \"regex\": \"(?:25[0-5]|2[0-4]\\\\d|[01]\\\\d{2}|\\\\d{1,2})(?:.(?:25[0-5]|2[0-4]\\\\d|[01]\\\\d{2}|\\\\d{1,2})){3}\"\n",
      "      },\n",
      "      \"meta\": {\n",
      "        \"profiler_details\": {\n",
      "          \"evaluated_regexes\": {\n",
      "            \"(?:25[0-5]|2[0-4]\\\\d|[01]\\\\d{2}|\\\\d{1,2})(?:.(?:25[0-5]|2[0-4]\\\\d|[01]\\\\d{2}|\\\\d{1,2})){3}\": 1.0,\n",
      "            \"-?\\\\d+\": 1.0,\n",
      "            \"-?\\\\d+(?:\\\\.\\\\d*)?\": 1.0,\n",
      "            \"<\\\\/?(?:p|a|b|img)(?: \\\\/)?>\": 0.0,\n",
      "            \"[A-Za-z0-9\\\\.,;:!?()\\\\\\\"'%\\\\-]+\": 1.0,\n",
      "            \"\\\\b[0-9a-fA-F]{8}\\\\b-[0-9a-fA-F]{4}-[0-5][0-9a-fA-F]{3}-[089ab][0-9a-fA-F]{3}-\\\\b[0-9a-fA-F]{12}\\\\b \": 0.0,\n",
      "            \"\\\\d+\": 1.0,\n",
      "            \"\\\\s+$\": 0.0,\n",
      "            \"^\\\\s+\": 0.0,\n",
      "            \"https?:\\\\/\\\\/(?:www\\\\.)?[-a-zA-Z0-9@:%._\\\\+~#=]{2,255}\\\\.[a-z]{2,6}\\\\b(?:[-a-zA-Z0-9@:%_\\\\+.~#()?&//=]*)\": 0.0\n",
      "          },\n",
      "          \"success_ratio\": 1.0\n",
      "        }\n",
      "      },\n",
      "      \"expectation_type\": \"expect_column_values_to_match_regex\"\n",
      "    },\n",
      "    {\n",
      "      \"kwargs\": {\n",
      "        \"column\": \"img_type\",\n",
      "        \"max_value\": 5,\n",
      "        \"min_value\": 3,\n",
      "        \"mostly\": 1.0,\n",
      "        \"strict_max\": false,\n",
      "        \"strict_min\": false\n",
      "      },\n",
      "      \"meta\": {\n",
      "        \"profiler_details\": {\n",
      "          \"column_max_length_range_estimator\": {\n",
      "            \"metric_configuration\": {\n",
      "              \"domain_kwargs\": {\n",
      "                \"column\": \"img_type\"\n",
      "              },\n",
      "              \"metric_dependencies\": null,\n",
      "              \"metric_name\": \"column_values.length.max\",\n",
      "              \"metric_value_kwargs\": null\n",
      "            },\n",
      "            \"num_batches\": 1\n",
      "          },\n",
      "          \"column_min_length_range_estimator\": {\n",
      "            \"metric_configuration\": {\n",
      "              \"domain_kwargs\": {\n",
      "                \"column\": \"img_type\"\n",
      "              },\n",
      "              \"metric_dependencies\": null,\n",
      "              \"metric_name\": \"column_values.length.min\",\n",
      "              \"metric_value_kwargs\": null\n",
      "            },\n",
      "            \"num_batches\": 1\n",
      "          }\n",
      "        }\n",
      "      },\n",
      "      \"expectation_type\": \"expect_column_value_lengths_to_be_between\"\n",
      "    },\n",
      "    {\n",
      "      \"kwargs\": {\n",
      "        \"column\": \"img_type\",\n",
      "        \"mostly\": 1.0,\n",
      "        \"regex\": \"[A-Za-z0-9\\\\.,;:!?()\\\\\\\"'%\\\\-]+\"\n",
      "      },\n",
      "      \"meta\": {\n",
      "        \"profiler_details\": {\n",
      "          \"evaluated_regexes\": {\n",
      "            \"(?:25[0-5]|2[0-4]\\\\d|[01]\\\\d{2}|\\\\d{1,2})(?:.(?:25[0-5]|2[0-4]\\\\d|[01]\\\\d{2}|\\\\d{1,2})){3}\": 0.0,\n",
      "            \"-?\\\\d+\": 0.3564680806273354,\n",
      "            \"-?\\\\d+(?:\\\\.\\\\d*)?\": 0.3564680806273354,\n",
      "            \"<\\\\/?(?:p|a|b|img)(?: \\\\/)?>\": 0.0,\n",
      "            \"[A-Za-z0-9\\\\.,;:!?()\\\\\\\"'%\\\\-]+\": 1.0,\n",
      "            \"\\\\b[0-9a-fA-F]{8}\\\\b-[0-9a-fA-F]{4}-[0-5][0-9a-fA-F]{3}-[089ab][0-9a-fA-F]{3}-\\\\b[0-9a-fA-F]{12}\\\\b \": 0.0,\n",
      "            \"\\\\d+\": 0.3564680806273354,\n",
      "            \"\\\\s+$\": 0.0,\n",
      "            \"^\\\\s+\": 0.0,\n",
      "            \"https?:\\\\/\\\\/(?:www\\\\.)?[-a-zA-Z0-9@:%._\\\\+~#=]{2,255}\\\\.[a-z]{2,6}\\\\b(?:[-a-zA-Z0-9@:%_\\\\+.~#()?&//=]*)\": 0.0\n",
      "          },\n",
      "          \"success_ratio\": 1.0\n",
      "        }\n",
      "      },\n",
      "      \"expectation_type\": \"expect_column_values_to_match_regex\"\n",
      "    },\n",
      "    {\n",
      "      \"kwargs\": {\n",
      "        \"column\": \"time_utc\",\n",
      "        \"max_value\": 19,\n",
      "        \"min_value\": 19,\n",
      "        \"mostly\": 1.0,\n",
      "        \"strict_max\": false,\n",
      "        \"strict_min\": false\n",
      "      },\n",
      "      \"meta\": {\n",
      "        \"profiler_details\": {\n",
      "          \"column_max_length_range_estimator\": {\n",
      "            \"metric_configuration\": {\n",
      "              \"domain_kwargs\": {\n",
      "                \"column\": \"time_utc\"\n",
      "              },\n",
      "              \"metric_dependencies\": null,\n",
      "              \"metric_name\": \"column_values.length.max\",\n",
      "              \"metric_value_kwargs\": null\n",
      "            },\n",
      "            \"num_batches\": 1\n",
      "          },\n",
      "          \"column_min_length_range_estimator\": {\n",
      "            \"metric_configuration\": {\n",
      "              \"domain_kwargs\": {\n",
      "                \"column\": \"time_utc\"\n",
      "              },\n",
      "              \"metric_dependencies\": null,\n",
      "              \"metric_name\": \"column_values.length.min\",\n",
      "              \"metric_value_kwargs\": null\n",
      "            },\n",
      "            \"num_batches\": 1\n",
      "          }\n",
      "        }\n",
      "      },\n",
      "      \"expectation_type\": \"expect_column_value_lengths_to_be_between\"\n",
      "    },\n",
      "    {\n",
      "      \"kwargs\": {\n",
      "        \"column\": \"time_utc\",\n",
      "        \"mostly\": 1.0,\n",
      "        \"regex\": \"(?:25[0-5]|2[0-4]\\\\d|[01]\\\\d{2}|\\\\d{1,2})(?:.(?:25[0-5]|2[0-4]\\\\d|[01]\\\\d{2}|\\\\d{1,2})){3}\"\n",
      "      },\n",
      "      \"meta\": {\n",
      "        \"profiler_details\": {\n",
      "          \"evaluated_regexes\": {\n",
      "            \"(?:25[0-5]|2[0-4]\\\\d|[01]\\\\d{2}|\\\\d{1,2})(?:.(?:25[0-5]|2[0-4]\\\\d|[01]\\\\d{2}|\\\\d{1,2})){3}\": 1.0,\n",
      "            \"-?\\\\d+\": 1.0,\n",
      "            \"-?\\\\d+(?:\\\\.\\\\d*)?\": 1.0,\n",
      "            \"<\\\\/?(?:p|a|b|img)(?: \\\\/)?>\": 0.0,\n",
      "            \"[A-Za-z0-9\\\\.,;:!?()\\\\\\\"'%\\\\-]+\": 1.0,\n",
      "            \"\\\\b[0-9a-fA-F]{8}\\\\b-[0-9a-fA-F]{4}-[0-5][0-9a-fA-F]{3}-[089ab][0-9a-fA-F]{3}-\\\\b[0-9a-fA-F]{12}\\\\b \": 0.0,\n",
      "            \"\\\\d+\": 1.0,\n",
      "            \"\\\\s+$\": 0.0,\n",
      "            \"^\\\\s+\": 0.0,\n",
      "            \"https?:\\\\/\\\\/(?:www\\\\.)?[-a-zA-Z0-9@:%._\\\\+~#=]{2,255}\\\\.[a-z]{2,6}\\\\b(?:[-a-zA-Z0-9@:%_\\\\+.~#()?&//=]*)\": 0.0\n",
      "          },\n",
      "          \"success_ratio\": 1.0\n",
      "        }\n",
      "      },\n",
      "      \"expectation_type\": \"expect_column_values_to_match_regex\"\n",
      "    },\n",
      "    {\n",
      "      \"kwargs\": {\n",
      "        \"column\": \"event_type\",\n",
      "        \"max_value\": 17,\n",
      "        \"min_value\": 4,\n",
      "        \"mostly\": 1.0,\n",
      "        \"strict_max\": false,\n",
      "        \"strict_min\": false\n",
      "      },\n",
      "      \"meta\": {\n",
      "        \"profiler_details\": {\n",
      "          \"column_max_length_range_estimator\": {\n",
      "            \"metric_configuration\": {\n",
      "              \"domain_kwargs\": {\n",
      "                \"column\": \"event_type\"\n",
      "              },\n",
      "              \"metric_dependencies\": null,\n",
      "              \"metric_name\": \"column_values.length.max\",\n",
      "              \"metric_value_kwargs\": null\n",
      "            },\n",
      "            \"num_batches\": 1\n",
      "          },\n",
      "          \"column_min_length_range_estimator\": {\n",
      "            \"metric_configuration\": {\n",
      "              \"domain_kwargs\": {\n",
      "                \"column\": \"event_type\"\n",
      "              },\n",
      "              \"metric_dependencies\": null,\n",
      "              \"metric_name\": \"column_values.length.min\",\n",
      "              \"metric_value_kwargs\": null\n",
      "            },\n",
      "            \"num_batches\": 1\n",
      "          }\n",
      "        }\n",
      "      },\n",
      "      \"expectation_type\": \"expect_column_value_lengths_to_be_between\"\n",
      "    },\n",
      "    {\n",
      "      \"kwargs\": {\n",
      "        \"column\": \"event_type\",\n",
      "        \"mostly\": 1.0,\n",
      "        \"regex\": \"[A-Za-z0-9\\\\.,;:!?()\\\\\\\"'%\\\\-]+\"\n",
      "      },\n",
      "      \"meta\": {\n",
      "        \"profiler_details\": {\n",
      "          \"evaluated_regexes\": {\n",
      "            \"(?:25[0-5]|2[0-4]\\\\d|[01]\\\\d{2}|\\\\d{1,2})(?:.(?:25[0-5]|2[0-4]\\\\d|[01]\\\\d{2}|\\\\d{1,2})){3}\": 0.0,\n",
      "            \"-?\\\\d+\": 0.0,\n",
      "            \"-?\\\\d+(?:\\\\.\\\\d*)?\": 0.0,\n",
      "            \"<\\\\/?(?:p|a|b|img)(?: \\\\/)?>\": 0.0,\n",
      "            \"[A-Za-z0-9\\\\.,;:!?()\\\\\\\"'%\\\\-]+\": 1.0,\n",
      "            \"\\\\b[0-9a-fA-F]{8}\\\\b-[0-9a-fA-F]{4}-[0-5][0-9a-fA-F]{3}-[089ab][0-9a-fA-F]{3}-\\\\b[0-9a-fA-F]{12}\\\\b \": 0.0,\n",
      "            \"\\\\d+\": 0.0,\n",
      "            \"\\\\s+$\": 0.0,\n",
      "            \"^\\\\s+\": 0.0,\n",
      "            \"https?:\\\\/\\\\/(?:www\\\\.)?[-a-zA-Z0-9@:%._\\\\+~#=]{2,255}\\\\.[a-z]{2,6}\\\\b(?:[-a-zA-Z0-9@:%_\\\\+.~#()?&//=]*)\": 0.0\n",
      "          },\n",
      "          \"success_ratio\": 1.0\n",
      "        }\n",
      "      },\n",
      "      \"expectation_type\": \"expect_column_values_to_match_regex\"\n",
      "    },\n",
      "    {\n",
      "      \"kwargs\": {\n",
      "        \"column\": \"img_type\",\n",
      "        \"mostly\": 1.0,\n",
      "        \"value_set\": [\n",
      "          \"ir107\",\n",
      "          \"vil\",\n",
      "          \"lght\",\n",
      "          \"vis\",\n",
      "          \"ir069\"\n",
      "        ]\n",
      "      },\n",
      "      \"meta\": {\n",
      "        \"profiler_details\": {\n",
      "          \"metric_configuration\": {\n",
      "            \"domain_kwargs\": {\n",
      "              \"column\": \"img_type\"\n",
      "            },\n",
      "            \"metric_dependencies\": null,\n",
      "            \"metric_name\": \"column.distinct_values\",\n",
      "            \"metric_value_kwargs\": null\n",
      "          },\n",
      "          \"num_batches\": 1,\n",
      "          \"parse_strings_as_datetimes\": false\n",
      "        }\n",
      "      },\n",
      "      \"expectation_type\": \"expect_column_values_to_be_in_set\"\n",
      "    },\n",
      "    {\n",
      "      \"kwargs\": {\n",
      "        \"column\": \"img_type\",\n",
      "        \"max_value\": 5,\n",
      "        \"min_value\": 5,\n",
      "        \"strict_max\": false,\n",
      "        \"strict_min\": false\n",
      "      },\n",
      "      \"meta\": {\n",
      "        \"profiler_details\": {\n",
      "          \"metric_configuration\": {\n",
      "            \"domain_kwargs\": {\n",
      "              \"column\": \"img_type\"\n",
      "            },\n",
      "            \"metric_dependencies\": null,\n",
      "            \"metric_name\": \"column.distinct_values.count\",\n",
      "            \"metric_value_kwargs\": null\n",
      "          },\n",
      "          \"num_batches\": 1\n",
      "        }\n",
      "      },\n",
      "      \"expectation_type\": \"expect_column_unique_value_count_to_be_between\"\n",
      "    },\n",
      "    {\n",
      "      \"kwargs\": {\n",
      "        \"column\": \"img_type\",\n",
      "        \"max_value\": 6.578601126256512e-05,\n",
      "        \"min_value\": 6.578601126256512e-05,\n",
      "        \"strict_max\": false,\n",
      "        \"strict_min\": false\n",
      "      },\n",
      "      \"meta\": {\n",
      "        \"profiler_details\": {\n",
      "          \"metric_configuration\": {\n",
      "            \"domain_kwargs\": {\n",
      "              \"column\": \"img_type\"\n",
      "            },\n",
      "            \"metric_dependencies\": null,\n",
      "            \"metric_name\": \"column.unique_proportion\",\n",
      "            \"metric_value_kwargs\": null\n",
      "          },\n",
      "          \"num_batches\": 1\n",
      "        }\n",
      "      },\n",
      "      \"expectation_type\": \"expect_column_proportion_of_unique_values_to_be_between\"\n",
      "    },\n",
      "    {\n",
      "      \"kwargs\": {\n",
      "        \"column\": \"event_type\",\n",
      "        \"mostly\": 1.0,\n",
      "        \"value_set\": [\n",
      "          \"Thunderstorm Wind\",\n",
      "          \"Funnel Cloud\",\n",
      "          \"Flash Flood\",\n",
      "          \"Lightning\",\n",
      "          \"Hail\",\n",
      "          \"Tornado\",\n",
      "          \"Heavy Rain\",\n",
      "          \"Flood\"\n",
      "        ]\n",
      "      },\n",
      "      \"meta\": {\n",
      "        \"profiler_details\": {\n",
      "          \"metric_configuration\": {\n",
      "            \"domain_kwargs\": {\n",
      "              \"column\": \"event_type\"\n",
      "            },\n",
      "            \"metric_dependencies\": null,\n",
      "            \"metric_name\": \"column.distinct_values\",\n",
      "            \"metric_value_kwargs\": null\n",
      "          },\n",
      "          \"num_batches\": 1,\n",
      "          \"parse_strings_as_datetimes\": false\n",
      "        }\n",
      "      },\n",
      "      \"expectation_type\": \"expect_column_values_to_be_in_set\"\n",
      "    },\n",
      "    {\n",
      "      \"kwargs\": {\n",
      "        \"column\": \"event_type\",\n",
      "        \"max_value\": 8,\n",
      "        \"min_value\": 8,\n",
      "        \"strict_max\": false,\n",
      "        \"strict_min\": false\n",
      "      },\n",
      "      \"meta\": {\n",
      "        \"profiler_details\": {\n",
      "          \"metric_configuration\": {\n",
      "            \"domain_kwargs\": {\n",
      "              \"column\": \"event_type\"\n",
      "            },\n",
      "            \"metric_dependencies\": null,\n",
      "            \"metric_name\": \"column.distinct_values.count\",\n",
      "            \"metric_value_kwargs\": null\n",
      "          },\n",
      "          \"num_batches\": 1\n",
      "        }\n",
      "      },\n",
      "      \"expectation_type\": \"expect_column_unique_value_count_to_be_between\"\n",
      "    },\n",
      "    {\n",
      "      \"kwargs\": {\n",
      "        \"column\": \"event_type\",\n",
      "        \"max_value\": 0.0004806536890170632,\n",
      "        \"min_value\": 0.0004806536890170632,\n",
      "        \"strict_max\": false,\n",
      "        \"strict_min\": false\n",
      "      },\n",
      "      \"meta\": {\n",
      "        \"profiler_details\": {\n",
      "          \"metric_configuration\": {\n",
      "            \"domain_kwargs\": {\n",
      "              \"column\": \"event_type\"\n",
      "            },\n",
      "            \"metric_dependencies\": null,\n",
      "            \"metric_name\": \"column.unique_proportion\",\n",
      "            \"metric_value_kwargs\": null\n",
      "          },\n",
      "          \"num_batches\": 1\n",
      "        }\n",
      "      },\n",
      "      \"expectation_type\": \"expect_column_proportion_of_unique_values_to_be_between\"\n",
      "    },\n",
      "    {\n",
      "      \"kwargs\": {\n",
      "        \"column\": \"id\"\n",
      "      },\n",
      "      \"meta\": {\n",
      "        \"profiler_details\": {\n",
      "          \"metric_configuration\": {\n",
      "            \"domain_kwargs\": {\n",
      "              \"column\": \"id\"\n",
      "            },\n",
      "            \"metric_dependencies\": null,\n",
      "            \"metric_name\": \"column_values.unique\",\n",
      "            \"metric_value_kwargs\": null\n",
      "          },\n",
      "          \"num_batches\": 2\n",
      "        }\n",
      "      },\n",
      "      \"expectation_type\": \"expect_column_values_to_be_unique\"\n",
      "    }\n",
      "  ],\n",
      "  \"data_asset_type\": null,\n",
      "  \"expectation_suite_name\": \"testge\",\n",
      "  \"ge_cloud_id\": null\n",
      "}\n",
      "2022-11-09T23:05:11-0500 - INFO - \t85 expectation(s) included in expectation_suite.\n"
     ]
    },
    {
     "name": "stdout",
     "output_type": "stream",
     "text": [
      "2022-11-09T23:05:12-0500 - INFO - \t85 expectation(s) included in expectation_suite.\n"
     ]
    },
    {
     "name": "stderr",
     "output_type": "stream",
     "text": [
      "/Users/adh.arash/Downloads/conda/lib/python3.9/site-packages/great_expectations/execution_engine/pandas_execution_engine.py:325: DtypeWarning: Columns (5) have mixed types. Specify dtype option on import or set low_memory=False.\n",
      "  df = reader_fn(path, **reader_options)\n"
     ]
    },
    {
     "data": {
      "application/json": {
       "ascii": false,
       "bar_format": null,
       "colour": null,
       "elapsed": 0.011572837829589844,
       "initial": 0,
       "n": 0,
       "ncols": null,
       "nrows": null,
       "postfix": null,
       "prefix": "Calculating Metrics",
       "rate": null,
       "total": 159,
       "unit": "it",
       "unit_divisor": 1000,
       "unit_scale": false
      },
      "application/vnd.jupyter.widget-view+json": {
       "model_id": "b3abf1c281e74a1c8adeb3377b26597c",
       "version_major": 2,
       "version_minor": 0
      },
      "text/plain": [
       "Calculating Metrics:   0%|          | 0/159 [00:00<?, ?it/s]"
      ]
     },
     "metadata": {},
     "output_type": "display_data"
    },
    {
     "name": "stderr",
     "output_type": "stream",
     "text": [
      "/Users/adh.arash/Downloads/conda/lib/python3.9/site-packages/great_expectations/expectations/metrics/map_metric_provider.py:1428: FutureWarning: The behavior of `series[i:j]` with an integer-dtype index is deprecated. In a future version, this will be treated as *label-based* indexing, consistent with e.g. `series[i]` lookups. To retain the old behavior, use `series.iloc[i:j]`. To get the future behavior, use `series.loc[i:j]`.\n",
      "  return list(domain_values[: result_format[\"partial_unexpected_count\"]])\n"
     ]
    }
   ],
   "source": [
    "print(validator.get_expectation_suite(discard_failed_expectations=False))\n",
    "validator.save_expectation_suite(discard_failed_expectations=False)\n",
    "\n",
    "checkpoint_config = {\n",
    "    \"class_name\": \"SimpleCheckpoint\",\n",
    "    \"validations\": [\n",
    "        {\n",
    "            \"batch_request\": batch_request,\n",
    "            \"expectation_suite_name\": expectation_suite_name\n",
    "        }\n",
    "    ]\n",
    "}\n",
    "checkpoint = SimpleCheckpoint(\n",
    "    f\"{validator.active_batch_definition.data_asset_name}_{expectation_suite_name}\",\n",
    "    context,\n",
    "    **checkpoint_config\n",
    ")\n",
    "checkpoint_result = checkpoint.run()\n",
    "\n",
    "context.build_data_docs()\n",
    "\n",
    "validation_result_identifier = checkpoint_result.list_validation_result_identifiers()[0]\n",
    "context.open_data_docs(resource_identifier=validation_result_identifier)"
   ]
  },
  {
   "cell_type": "code",
   "execution_count": null,
   "id": "7ac43aca",
   "metadata": {},
   "outputs": [],
   "source": []
  },
  {
   "cell_type": "code",
   "execution_count": null,
   "id": "868d52f3",
   "metadata": {},
   "outputs": [],
   "source": []
  },
  {
   "cell_type": "code",
   "execution_count": null,
   "id": "98c509ab",
   "metadata": {},
   "outputs": [],
   "source": []
  }
 ],
 "metadata": {
  "kernelspec": {
   "display_name": "Python 3",
   "language": "python",
   "name": "python3"
  },
  "language_info": {
   "codemirror_mode": {
    "name": "ipython",
    "version": 3
   },
   "file_extension": ".py",
   "mimetype": "text/x-python",
   "name": "python",
   "nbconvert_exporter": "python",
   "pygments_lexer": "ipython3",
   "version": "3.9.12"
  }
 },
 "nbformat": 4,
 "nbformat_minor": 5
}
